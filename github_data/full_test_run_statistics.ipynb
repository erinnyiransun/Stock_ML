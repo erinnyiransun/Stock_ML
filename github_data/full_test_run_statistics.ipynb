{
  "nbformat": 4,
  "nbformat_minor": 0,
  "metadata": {
    "colab": {
      "name": "train_monthly_nonseries.ipynb",
      "provenance": [],
      "mount_file_id": "1rFoVHse4uDtrdDV5Czpw_X4-27YCAWEg",
      "authorship_tag": "ABX9TyPis94B56qZ1ifRINkjmWRt",
      "include_colab_link": true
    },
    "kernelspec": {
      "display_name": "Python 3",
      "name": "python3"
    },
    "language_info": {
      "name": "python"
    }
  },
  "cells": [
    {
      "cell_type": "markdown",
      "metadata": {
        "id": "view-in-github",
        "colab_type": "text"
      },
      "source": [
        "<a href=\"https://colab.research.google.com/github/atlantiquesun/Stock_ML/blob/main/full_test_run_statistics.ipynb\" target=\"_parent\"><img src=\"https://colab.research.google.com/assets/colab-badge.svg\" alt=\"Open In Colab\"/></a>"
      ]
    },
    {
      "cell_type": "code",
      "metadata": {
        "id": "T1q80oyWv72k"
      },
      "source": [
        "import pandas as pd\n",
        "import requests\n",
        "from sklearn import preprocessing\n",
        "import datetime\n",
        "from dateutil.relativedelta import relativedelta\n",
        "import numpy as np\n",
        "import os\n",
        "from sklearn.preprocessing import MinMaxScaler\n",
        "from matplotlib import pyplot as plt\n",
        "from pandas_datareader import data as pdr\n",
        "from copy import deepcopy"
      ],
      "execution_count": 100,
      "outputs": []
    },
    {
      "cell_type": "markdown",
      "metadata": {
        "id": "ntnMM-yhmDuq"
      },
      "source": [
        "# Setting\n",
        "In this test run:\n",
        "\n",
        "*   **number of companies**: 46\n",
        "*   **training start month**: 2010-01-01\n",
        "*   **training window size**: 24 months\n",
        "*   **validation window size**: 4 months\n",
        "*   **trade start month**: 2012-05-01\n",
        "*   **trade end month**: 2021-03-01\n",
        "\n",
        "\n",
        "\n",
        "\n",
        "---\n",
        "\n",
        "\n",
        "Some problems/questions\n",
        "\n",
        "\n",
        "1.   monthly return prediction is not accurate (see the prediction for a sample stock in Section 5.Other Visualisation). In particular, predicted return seems to have a much smaller magnitude than the actual return.\n",
        "2.   Cumulative return varies a lot depending on models (some models perform better than the baseline, which assigns each ticker an equal weight, while some models perform worse).\n",
        "3. During training, many models give convergence warnings.\n",
        "\n",
        "\n",
        "\n",
        "\n",
        "\n",
        "\n",
        "\n",
        "\n",
        "\n",
        "\n",
        "\n",
        "\n"
      ]
    },
    {
      "cell_type": "markdown",
      "metadata": {
        "id": "ipnAhzqwDG28"
      },
      "source": [
        "# 1. Calculate Cumulative Data "
      ]
    },
    {
      "cell_type": "code",
      "metadata": {
        "id": "uljmWtVNrwO9"
      },
      "source": [
        "\n",
        "#calculate the daily cumulative for each company\n",
        "def calculate_cumulative(start=0, end=82, excludes = []):\n",
        "  '''\n",
        "  start: start company (index 0 to 81)\n",
        "  end: end company (the last company to be processed)\n",
        "  last end: 3 (elastic is not processed)\n",
        "  '''\n",
        "  companies = pd.read_csv(\"/content/drive/MyDrive/StockML /Data/companyInfo/companies_final.csv\")\n",
        "  dataCategories = []\n",
        "  for name in os.listdir(\"/content/drive/MyDrive/StockML /Data/\"):\n",
        "    if \"History\" in name: #if is a part of the raw data\n",
        "      dataCategories.append(name)\n",
        "\n",
        "  for i in range(companies.shape[0]):\n",
        "    if (i < start):continue\n",
        "\n",
        "    company = companies.at[i, 'githubUser']\n",
        "    if (company in excludes):continue\n",
        "\n",
        "    normalizedName = companies.at[i, \"shortName\"]\n",
        "    print(company, normalizedName)\n",
        "    cumulativeData = {}\n",
        "    cumulativeData[\"date\"] = list(pd.date_range(start=\"1/01/1999\", end='9/01/2021').tz_localize(None)) #need to check the timezone\n",
        "    \n",
        "    #calculate the cumulative data for each category\n",
        "    for category in dataCategories:\n",
        "      df = pd.read_csv(\"/content/drive/MyDrive/StockML /Data/\"+category+\"/\"+company+\".csv\")\n",
        "      df[\"sum\"] = df.sum(axis=1) #sum over the repositories\n",
        "      cumulativeData[category[:-7]] = list(df[\"sum\"])\n",
        "    \n",
        "\n",
        "    cumulativeData = pd.DataFrame(cumulativeData)\n",
        "\n",
        "    #select only the github data after the date of creation\n",
        "    response = requests.get(\"https://api.github.com/users/\"+company)\n",
        "    created_at = pd.to_datetime(response.json()['created_at']).tz_localize(None)\n",
        "    cumulativeData = cumulativeData.loc[cumulativeData[\"date\"] >= created_at]\n",
        "\n",
        "    cumulativeData.to_csv(\"/content/drive/MyDrive/StockML /Data/processedData/cumulativeData/\"+company+\".csv\")\n",
        "\n",
        "    if(i==end): break\n",
        "\n",
        "calculate_cumulative(start=0, end=52, excludes = [\"digitalocean\", \"alibaba\", \"bigcommerce\", \"microsoft\", \"westerndigitalcorporation\", \"cargurus\"])"
      ],
      "execution_count": null,
      "outputs": []
    },
    {
      "cell_type": "markdown",
      "metadata": {
        "id": "6S_iEvcp4V_V"
      },
      "source": [
        "# 2. Prepare Non-series Data"
      ]
    },
    {
      "cell_type": "code",
      "metadata": {
        "id": "Yi5vVm7RcxeY"
      },
      "source": [
        "def prepare_full_data(last_company_index,  start_month, end_month, features_column, lag, excludes=[]):\n",
        "  '''\n",
        "  cluster into months, concatenate github and stock data\n",
        "  '''\n",
        "  df_complete = None\n",
        "  companies = pd.read_csv(\"/content/drive/MyDrive/StockML /Data/companyInfo/companies_final.csv\")\n",
        "  start_month = pd.to_datetime(start_month)\n",
        "  end_month = pd.to_datetime(end_month)\n",
        "\n",
        "  for i in range(companies.shape[0]):\n",
        "    company = companies.at[i, 'githubUser']\n",
        "    if (company in excludes):continue\n",
        "\n",
        "    ticker = companies.at[i, 'symbol'].upper()\n",
        "    print(company)\n",
        "\n",
        "    raw = pd.read_csv(\"/content/drive/MyDrive/StockML /Data/processedData/cumulativeData/\"+company+\".csv\")\n",
        "    raw = raw.drop('Unnamed: 0', axis=1)\n",
        "    raw.date = pd.to_datetime(raw['date'])\n",
        "\n",
        "    #filter the companies who do not have enough star data\n",
        "    if(np.asarray(raw['star']).sum() < 1000):\n",
        "      continue\n",
        "\n",
        "    #group GitHub data into months\n",
        "    df = raw.groupby(pd.Grouper(key=\"date\", freq=\"M\")).sum()\n",
        "    df['month_end'] = df.index\n",
        "    month_starts = [x+datetime.timedelta(days=1)-relativedelta(months=1) for x in list(df['month_end'])]\n",
        "    df['month_start'] = month_starts\n",
        "    df.index = df.month_start\n",
        "\n",
        "    #select the months within the window\n",
        "    df = df.loc[(df['month_start'] >= start_month) & (df['month_start'] <= end_month)]\n",
        "    scaler = MinMaxScaler()\n",
        "    df[features_column] = scaler.fit_transform(df[features_column])\n",
        "    df[features_column] = df[features_column].shift(lag)\n",
        "    df = df.dropna() #lag GitHub data\n",
        "\n",
        "    #group stock data into months then select the last datum in a month to calculate monthly return\n",
        "    stock_data = pd.read_csv(\"/content/drive/MyDrive/StockML /Data/financialData/\"+ticker+\".csv\")\n",
        "    stock_data['Date'] = pd.to_datetime(stock_data['Date'])\n",
        "    stock_data = stock_data.groupby(pd.Grouper(key=\"Date\", freq=\"M\")).nth([-1]) #currently indices are month-ends\n",
        "    stock_data['Date'] = [x + relativedelta(days=1) - relativedelta(months=1) for x in list(stock_data.index)]\n",
        "    stock_data.index = stock_data.Date #now indices are month-starts\n",
        "    stock_data['last_close'] = stock_data['Adj Close'].shift(1)\n",
        "    stock_data['monthly_return'] = (stock_data['Adj Close'] / stock_data['last_close'])-1\n",
        "    #stock_data['monthly_return'] = stock_data.monthly_return.shift(-lag) #lag the GitHub data\n",
        "    stock_data = stock_data.dropna()\n",
        "\n",
        "    #select the months within the window\n",
        "    stock_df = stock_data.loc[(stock_data['Date'] >= start_month) & (stock_data['Date'] <= end_month)]\n",
        "\n",
        "    #concatenate GitHub and stock data\n",
        "    df = df.loc[df['month_start'].isin(list(stock_df['Date']))]\n",
        "    stock_df = stock_df.loc[stock_df['Date'].isin(list(df['month_start']))]\n",
        "    df['monthly_return'] = stock_df[\"monthly_return\"].values\n",
        "    print(df.shape)\n",
        "\n",
        "    df.to_csv(\"/content/drive/MyDrive/StockML /Data/trainData/companies/\"+company+\".csv\")\n",
        "    \n",
        "    df['ticker'] = ticker\n",
        "\n",
        "    #concatenate companies' data\n",
        "    if (df_complete is None):\n",
        "      df_complete = df\n",
        "    else:\n",
        "      df_complete = pd.concat([df_complete, df])\n",
        "    \n",
        "    if i == last_company_index: break\n",
        "\n",
        "  return df_complete"
      ],
      "execution_count": 58,
      "outputs": []
    },
    {
      "cell_type": "code",
      "metadata": {
        "id": "LIswP7gQjUAe"
      },
      "source": [
        "def get_daily_return(start_date, end_date):\n",
        "\n",
        "  start_date = pd.to_datetime(start_date)\n",
        "  end_date = pd.to_datetime(end_date) \n",
        "\n",
        "  tickers = os.listdir(\"/content/drive/MyDrive/StockML /Data/financialData\")\n",
        "  tickers = [t.split('.')[0] for t in tickers]\n",
        "\n",
        "  dates = pd.date_range(start=start_date, end=end_date)\n",
        "  daily_return = pd.DataFrame(index = dates, columns = [\"TOBEREMOVED\"])\n",
        "\n",
        "  for ticker in tickers:\n",
        "    df = pd.read_csv(\"/content/drive/MyDrive/StockML /Data/financialData/\"+ticker+\".csv\")\n",
        "    df.index = pd.to_datetime(df.Date)\n",
        "    closeadj = df['Adj Close'].fillna(method='ffill').fillna(method='bfill')\n",
        "    closeadj = closeadj.to_frame(name=ticker)\n",
        "    df = (closeadj-closeadj.shift(1))/closeadj.shift(1)\n",
        "    df = df.loc[df.index>=start_date]\n",
        "    daily_return = pd.concat([daily_return, df], axis = 1)\n",
        "\n",
        "  daily_return = daily_return.dropna(axis=0, how='all')\n",
        "  daily_return = daily_return.dropna(axis=1, how='all')\n",
        "  #daily_return = daily_return.fillna(0)\n",
        "\n",
        "  return daily_return\n"
      ],
      "execution_count": 27,
      "outputs": []
    },
    {
      "cell_type": "code",
      "metadata": {
        "id": "2ENI7MP4vY4Z"
      },
      "source": [
        "def get_monthly_return(start_month, end_month):\n",
        "\n",
        "  start_month = \"2010-01-01\"\n",
        "  end_month = \"2021-03-01\"\n",
        "  start_month = pd.to_datetime(start_month)\n",
        "  end_month = pd.to_datetime(end_month)\n",
        "\n",
        "  tickers = os.listdir(\"/content/drive/MyDrive/StockML /Data/financialData\")\n",
        "  tickers = [t.split('.')[0] for t in tickers]\n",
        "\n",
        "  months = pd.date_range(start=start_month, end=end_month, freq='MS')\n",
        "  monthly_return = pd.DataFrame(index=months, columns = [\"TOBEREMOVED\"])\n",
        "\n",
        "  for ticker in tickers:\n",
        "    df = pd.read_csv(\"/content/drive/MyDrive/StockML /Data/financialData/\"+ticker+\".csv\")\n",
        "    df.Date = pd.to_datetime(df.Date)\n",
        "    df = df.groupby(pd.Grouper(key=\"Date\", freq=\"M\")).nth([-1])\n",
        "    df.index = [x + relativedelta(days=1)-relativedelta(months=1) for x in list(df.index)]\n",
        "    closeadj = df['Adj Close']\n",
        "    closeadj = closeadj.to_frame(name=ticker)\n",
        "    df = (closeadj-closeadj.shift(1))/closeadj.shift(1)\n",
        "    df = df.loc[df.index>=start_month]\n",
        "    df = df.loc[df.index<=end_month]\n",
        "    monthly_return = pd.concat([monthly_return, df], axis = 1)\n",
        "\n",
        "  monthly_return = monthly_return.dropna(axis=0, how='all')\n",
        "  monthly_return = monthly_return.dropna(axis=1, how='all')\n",
        "  #monthly_return = monthly_return.fillna(0)\n",
        "\n",
        "  return monthly_return"
      ],
      "execution_count": 89,
      "outputs": []
    },
    {
      "cell_type": "markdown",
      "metadata": {
        "id": "bhX9iEz9dWkZ"
      },
      "source": [
        "# 3. Models"
      ]
    },
    {
      "cell_type": "markdown",
      "metadata": {
        "id": "peIVb_xnNrwO"
      },
      "source": [
        "New Models"
      ]
    },
    {
      "cell_type": "code",
      "metadata": {
        "id": "EpqxxJvUNrU0"
      },
      "source": [
        "import numpy as np\n",
        "from sklearn.model_selection import train_test_split\n",
        "from sklearn.svm import SVC\n",
        "from sklearn.svm import SVR\n",
        "from sklearn.metrics import confusion_matrix\n",
        "from sklearn.model_selection import cross_val_score, cross_val_predict\n",
        "from sklearn.linear_model import Ridge\n",
        "\n",
        "from sklearn.linear_model import LinearRegression\n",
        "from sklearn.linear_model import Lasso\n",
        "from sklearn.ensemble import RandomForestRegressor\n",
        "from sklearn.ensemble import GradientBoostingRegressor\n",
        "from sklearn.ensemble import AdaBoostRegressor\n",
        "\n",
        "from sklearn.model_selection import TimeSeriesSplit, GridSearchCV,RandomizedSearchCV\n",
        "\n",
        "from keras.models import Sequential\n",
        "from keras.layers import Dense\n",
        "from keras.layers import LSTM\n",
        "from keras.layers import Dropout\n",
        "\n",
        "\n",
        "def train_linear_regression(X_train,y_train):\n",
        "\n",
        "    lr_regressor = LinearRegression()\n",
        "    model = lr_regressor.fit(X_train, y_train)\n",
        "    \n",
        "    return model\n",
        "\n",
        "\n",
        "def train_recursive_feature_elimination(X_train,y_train):\n",
        "\n",
        "    lr_regressor = LinearRegression(random_state = 42)\n",
        "    model = RFE(lr_regressor)\n",
        "    \n",
        "    return model\n",
        "\n",
        "\n",
        "\n",
        "def train_lasso(X_train, y_train):\n",
        "    # lasso_regressor = Lasso()\n",
        "    # model = lasso_regressor.fit(X_train, y_train)\n",
        "\n",
        "    lasso = Lasso()\n",
        "    # scoring_method = 'r2'\n",
        "    # scoring_method = 'explained_variance'\n",
        "    scoring_method = 'neg_mean_absolute_error'\n",
        "    # scoring_method = 'neg_mean_squared_error'\n",
        "    #scoring_method = 'neg_mean_squared_log_error'\n",
        "    parameters = {'alpha': [1e-15, 1e-10, 1e-8, 1e-4, 1e-3, 1e-2, 1, 5, 10, 20]}\n",
        "    # my_cv_lasso = TimeSeriesSplit(n_splits=3).split(X_train_advanced)\n",
        "    lasso_regressor = GridSearchCV(lasso, parameters, scoring=scoring_method, cv=3)\n",
        "    lasso_regressor.fit(X_train, y_train)\n",
        "\n",
        "    model = lasso_regressor.best_estimator_\n",
        "    return model\n",
        "\n",
        "\n",
        "\n",
        "def train_ridge(X_train, y_train):\n",
        "    # lasso_regressor = Lasso()\n",
        "    # model = lasso_regressor.fit(X_train, y_train)\n",
        "\n",
        "    ridge = Ridge()\n",
        "    # scoring_method = 'r2'\n",
        "    # scoring_method = 'explained_variance'\n",
        "    scoring_method = 'neg_mean_absolute_error'\n",
        "    # scoring_method = 'neg_mean_squared_error'\n",
        "    #scoring_method = 'neg_mean_squared_log_error'\n",
        "    parameters = {'alpha': [1e-15, 1e-10, 1e-8, 1e-4, 1e-3, 1e-2, 1, 5, 10, 20]}\n",
        "    # my_cv_lasso = TimeSeriesSplit(n_splits=3).split(X_train_advanced)\n",
        "    ridge_regressor = GridSearchCV(ridge, parameters, scoring=scoring_method, cv=3)\n",
        "    ridge_regressor.fit(X_train, y_train)\n",
        "\n",
        "    model = ridge_regressor.best_estimator_\n",
        "    return model\n",
        "\n",
        "\n",
        "\n",
        "def train_random_forest(X_train, y_train):\n",
        "    '''\n",
        "    random_grid = {'bootstrap': [True, False],\n",
        "                   'max_depth': [10, 20, 40, 80, 100, None],\n",
        "                   'max_features': ['auto', 'sqrt'],\n",
        "                   'min_samples_leaf': [1, 2, 5, 10],\n",
        "                   'min_samples_split': [2, 5, 10],\n",
        "                   'n_estimators': [50, 200, 400, 600, 800, 1000, 1500]}\n",
        "    # my_cv_rf = TimeSeriesSplit(n_splits=5).split(X_train_rf)\n",
        "    rf = RandomForestRegressor(random_state=42)\n",
        "    randomforest_regressor = RandomizedSearchCV(estimator=rf, param_distributions=random_grid,\n",
        "                                                cv=3, n_jobs=-1, scoring='neg_mean_absolute_error', verbose=0)\n",
        "    randomforest_regressor.fit(X_train, y_train)\n",
        "    model = randomforest_regressor.best_estimator_\n",
        "    '''\n",
        "    randomforest_regressor = RandomForestRegressor(n_estimators = 500, max_features=6)\n",
        "    #randomforest_regressor = RandomForestRegressor(random_state = 42,n_estimators = 300)\n",
        "\n",
        "    model = randomforest_regressor.fit(X_train, y_train)\n",
        "    \n",
        "    return model\n",
        "\n",
        "\n",
        "\n",
        "\n",
        "def train_svm(X_train, y_train):\n",
        "    svr = SVR(kernel = 'rbf')\n",
        "\n",
        "    param_grid_svm = {'C':[0.001, 0.01, 0.1, 1, 10],'gamma': [1e-7, 1e-4,0.001,0.1]}\n",
        "    #param_grid_svm = {'kernel': ('linear', 'rbf','poly'), 'C':[0.001, 0.01, 0.1, 1, 10],'gamma': [1e-7, 1e-4,0.001,0.1],'epsilon':[0.1,0.2,0.5,0.3]}\n",
        "\n",
        "    # scoring_method = 'r2'\n",
        "    # scoring_method = 'explained_variance'\n",
        "    scoring_method = 'neg_mean_absolute_error'\n",
        "    # scoring_method = 'neg_mean_squared_error'\n",
        "    #scoring_method = 'neg_mean_squared_log_error'\n",
        "    \n",
        "    svm_regressor = GridSearchCV(estimator=svr, param_grid=param_grid_svm,\n",
        "                                       cv=3, n_jobs=-1, scoring=scoring_method, verbose=0)\n",
        "\n",
        "    svm_regressor.fit(X_train, y_train)\n",
        "    model = svm_regressor.best_estimator_\n",
        "\n",
        "    return model\n",
        "\n",
        "\n",
        "\n",
        "def train_gbm(X_train, y_train):\n",
        "    '''gbm = GradientBoostingRegressor(random_state=42)\n",
        "    # model = gbm.fit(X_train, y_train)\n",
        "    param_grid_gbm = {'learning_rate': [0.1, 0.05, 0.01, 0.001], 'n_estimators': [100, 250, 500, 1000]}\n",
        "    # scoring_method = 'r2'\n",
        "    # scoring_method = 'explained_variance'\n",
        "    scoring_method = 'neg_mean_absolute_error'\n",
        "    # scoring_method = 'neg_mean_squared_error'\n",
        "    #scoring_method = 'neg_mean_squared_log_error'\n",
        "    gbm_regressor = RandomizedSearchCV(estimator=gbm, param_distributions=param_grid_gbm,\n",
        "                                       cv=3, n_jobs=-1, scoring=scoring_method, verbose=0)\n",
        "    gbm_regressor.fit(X_train, y_train)\n",
        "    model = gbm_regressor.best_estimator_'''\n",
        "    \n",
        "    gbm_regressor = GradientBoostingRegressor()\n",
        "    model = gbm_regressor.fit(X_train, y_train)\n",
        "\n",
        "    return model\n",
        "\n",
        "\n",
        "\n",
        "\n",
        "def train_ada(X_train, y_train):\n",
        "    ada = AdaBoostRegressor(random_state=1)\n",
        "\n",
        "    # model = ada.fit(X_train, y_train)\n",
        "\n",
        "    param_grid_ada = {'n_estimators': [20, 50, 100],\n",
        "                      'learning_rate': [0.01, 0.05, 0.1, 0.3, 1],\n",
        "                      'loss' : ['linear', 'square', 'exponential']\n",
        "                     \n",
        "                     }\n",
        "    # scoring_method = 'r2'\n",
        "    # scoring_method = 'explained_variance'\n",
        "    scoring_method = 'neg_mean_absolute_error'\n",
        "    # scoring_method = 'neg_mean_squared_error'\n",
        "    #scoring_method = 'neg_mean_squared_log_error'\n",
        "\n",
        "    ada_regressor = GridSearchCV(estimator=ada, param_grid=param_grid_ada, cv=3, n_jobs=-1, scoring=scoring_method, verbose=0)\n",
        "\n",
        "    ada_regressor.fit(X_train, y_train)\n",
        "    model = ada_regressor.best_estimator_\n",
        "    '''\n",
        "    ada_regressor = AdaBoostRegressor()\n",
        "    model = ada_regressor.fit(X_train, y_train)\n",
        "    '''\n",
        "    return model\n",
        "\n",
        "\n",
        "\n",
        "def train_lstm(X_train, y_train):\n",
        "    \n",
        "    # Initialising the RNN\n",
        "    regressor = Sequential()\n",
        "    # Adding the first LSTM layer and some Dropout regularisation\n",
        "    regressor.add(LSTM(units = 80, return_sequences = True, input_shape = (X_train.shape[1], 1)))\n",
        "    regressor.add(Dropout(0.2))\n",
        "\n",
        "    # Adding a second LSTM layer and some Dropout regularisation\n",
        "    regressor.add(LSTM(units = 40, return_sequences = True))\n",
        "    regressor.add(Dropout(0.2))\n",
        "\n",
        "    # Adding a third LSTM layer and some Dropout regularisation\n",
        "    regressor.add(LSTM(units = 20, return_sequences = False))\n",
        "    regressor.add(Dropout(0.2))\n",
        "\n",
        "    # Adding a fourth LSTM layer and some Dropout regularisation\n",
        "    #regressor.add(LSTM(units = 20,return_sequences = False))\n",
        "    #regressor.add(Dropout(0.2))\n",
        "\n",
        "    # Adding the output layer\n",
        "    regressor.add(Dense(units = 1, activation='linear'))\n",
        "    \n",
        "    #scoring_method = 'neg_mean_absolute_error'\n",
        "    # scoring_method = 'neg_mean_squared_error'\n",
        "    #scoring_method = 'neg_mean_squared_log_error'\n",
        "    # Compiling the RNN\n",
        "    regressor.compile(optimizer = 'adam', loss = 'mean_absolute_error')\n",
        "\n",
        "    # Fitting the RNN to the Training set\n",
        "    regressor.fit(X_train, y_train, epochs = 2, batch_size = 32)\n",
        "    #print(regressor.summary())\n",
        "    return regressor\n",
        "\n",
        "\n",
        "\n",
        "def evaluate_model(model, X_test, y_test):\n",
        "    from sklearn.metrics import mean_squared_error\n",
        "    #from sklearn.metrics import mean_squared_log_error\n",
        "\n",
        "    from sklearn.metrics import mean_absolute_error\n",
        "    from sklearn.metrics import explained_variance_score\n",
        "    from sklearn.metrics import r2_score\n",
        "    y_predict = model.predict(X_test)\n",
        "\n",
        "    mae = mean_absolute_error(y_test, y_predict)\n",
        "    \n",
        "\n",
        "    mse = mean_squared_error(y_test, y_predict)\n",
        "    #msle = mean_squared_log_error(y_test, y_predict)\n",
        "\n",
        "    explained_variance = explained_variance_score(y_test, y_predict)\n",
        "    r2 = r2_score(y_test, y_predict)\n",
        "\n",
        "    return mse\n",
        "\n",
        "\n",
        "def append_return_table(df_predict, unique_datetime, y_trade_return, trade_tic, current_index):\n",
        "    tmp_table = pd.DataFrame(columns=trade_tic)\n",
        "    tmp_table = tmp_table.append(pd.Series(y_trade_return, index=trade_tic), ignore_index=True)\n",
        "    df_predict.loc[unique_datetime[current_index]][tmp_table.columns] = tmp_table.loc[0]\n",
        "\n",
        "\n",
        "def prepare_train_data(df, features_column, train_start_date, train_window):\n",
        "  start_date = pd.to_datetime(train_start_date)\n",
        "  end_date = start_date + relativedelta(months=train_window)\n",
        "  \n",
        "  train = df.loc[(df.month_start>=start_date) & (df.month_end<end_date)]\n",
        "  X_train=train[features_column]\n",
        "  y_train=train[\"monthly_return\"]\n",
        "  return (X_train, y_train)\n",
        "\n",
        "\n",
        "def prepare_test_data(df, features_column, train_start_date, train_window, test_window):\n",
        "  start_date = pd.to_datetime(train_start_date)+relativedelta(months = train_window)\n",
        "  end_date = start_date+relativedelta(months = test_window)\n",
        "\n",
        "  test = df.loc[(df.month_start >= start_date) & (df.month_end < end_date)]\n",
        "  X_test=test[features_column]\n",
        "  y_test=test[\"monthly_return\"]\n",
        "  return (X_test, y_test)\n",
        "\n",
        "\n",
        "def prepare_trade_data(df, features_column, trade_date):\n",
        "  trade = df.loc[df[\"month_start\"].isin([trade_date])]\n",
        "  X_trade = trade[features_column]\n",
        "  y_trade = trade['monthly_return']\n",
        "  trade_tic = trade['ticker'].values\n",
        "  return (X_trade, y_trade, trade_tic)"
      ],
      "execution_count": 59,
      "outputs": []
    },
    {
      "cell_type": "markdown",
      "metadata": {
        "id": "Yp1ONnuAdpTg"
      },
      "source": [
        "# Training for Non-Series Data\n",
        "X_train = (samples * timesteps, features, 1) for lstm\n",
        "same as the original Big Data paper"
      ]
    },
    {
      "cell_type": "code",
      "metadata": {
        "id": "zQCTDZEpvvWP"
      },
      "source": [
        "#prepare full data for training, testing, and trading\n",
        "last_company_index = 52\n",
        "start_date=\"2010-01-01\"\n",
        "end_date=\"2021-03-01\"\n",
        "features_column = ['star', 'fork', 'issue', 'commit', 'issueClosed', 'pullRequest', 'pullRequestClosed', 'pullRequestMerged']\n",
        "lag = 1 #the number of month github data lags behind stock data\n",
        "excludes = [\"digitalocean\", \"alibaba\", \"bigcommerce\", \"microsoft\", \"westerndigitalcorporation\", \"cargurus\"]\n",
        "\n",
        "df = prepare_full_data(last_company_index, start_date, end_date, features_column, lag, excludes)\n",
        "display(df)\n"
      ],
      "execution_count": null,
      "outputs": []
    },
    {
      "cell_type": "code",
      "metadata": {
        "id": "pTcKLNxWgAaU",
        "colab": {
          "base_uri": "https://localhost:8080/"
        },
        "outputId": "2b977698-bd61-4a03-f90b-e3a732c8e613"
      },
      "source": [
        "#prepare_training_dataset\n",
        "features_column = ['star', 'fork', 'issue', 'commit', 'issueClosed', 'pullRequest', 'pullRequestClosed', 'pullRequestMerged']\n",
        "train_window = 24\n",
        "test_window = 4\n",
        "\n",
        "start_date = pd.to_datetime(\"2010-1-1\") \n",
        "df.month_start = pd.to_datetime(df.month_start)\n",
        "df.month_end = pd.to_datetime(df.month_end)\n",
        "\n",
        "train_start_dates = []\n",
        "for n in range(0, 107):\n",
        "  train_start_dates.append(start_date + relativedelta(months=n))\n",
        "\n",
        "unique_datetime = [x + relativedelta(months=train_window+test_window) for x in train_start_dates] \n",
        "unique_ticker = set(df['ticker'])\n",
        "print(unique_datetime[-1])"
      ],
      "execution_count": 108,
      "outputs": [
        {
          "output_type": "stream",
          "text": [
            "2021-03-01 00:00:00\n"
          ],
          "name": "stdout"
        }
      ]
    },
    {
      "cell_type": "code",
      "metadata": {
        "colab": {
          "base_uri": "https://localhost:8080/"
        },
        "id": "sgACdryiiTmB",
        "outputId": "7ae63fba-498f-454b-81be-32f2c617179d"
      },
      "source": [
        "df_predict_lr = pd.DataFrame(columns=unique_ticker, index=unique_datetime)\n",
        "df_predict_lasso = pd.DataFrame(columns=unique_ticker, index=unique_datetime)\n",
        "df_predict_ridge = pd.DataFrame(columns=unique_ticker, index=unique_datetime)\n",
        "df_predict_rf = pd.DataFrame(columns=unique_ticker, index=unique_datetime)\n",
        "df_predict_svm= pd.DataFrame(columns=unique_ticker, index=unique_datetime)\n",
        "df_predict_gbm = pd.DataFrame(columns=unique_ticker, index=unique_datetime)\n",
        "df_predict_ada = pd.DataFrame(columns=unique_ticker, index=unique_datetime)\n",
        "df_predict_lstm = pd.DataFrame(columns=unique_ticker, index=unique_datetime)\n",
        "\n",
        "df_predict_best = pd.DataFrame(columns=unique_ticker, index=unique_datetime)\n",
        "df_best_model_name = pd.DataFrame(columns=['model_name'], index=unique_datetime)\n",
        "evaluation_record = []\n",
        "\n",
        "\n",
        "for i in range(len(unique_datetime)):\n",
        "  train_start_date = train_start_dates[i]\n",
        "  trade_date = unique_datetime[i]\n",
        "\n",
        "  X_train, y_train = prepare_train_data(df, features_column, train_start_date, train_window)\n",
        "  X_train_lstm = np.reshape(X_train.values, (X_train.values.shape[0], X_train.values.shape[1], 1))\n",
        "  #print(X_train_lstm.shape, y_train.shape)\n",
        "\n",
        "  X_test, y_test = prepare_test_data(df, features_column, train_start_date, train_window, test_window)\n",
        "  X_test_lstm = np.reshape(X_test.values, (X_test.values.shape[0], X_test.values.shape[1], 1))\n",
        "\n",
        "  X_trade, y_trade, trade_tic = prepare_trade_data(df, features_column, trade_date)\n",
        "  X_trade_lstm = np.reshape(X_trade.values, (X_trade.values.shape[0], X_trade.values.shape[1], 1))\n",
        "\n",
        "   # Train\n",
        "  lr_model = train_linear_regression(X_train, y_train)\n",
        "  lasso_model = train_lasso(X_train, y_train)\n",
        "  ridge_model = train_ridge(X_train, y_train)\n",
        "\n",
        "  rf_model = train_random_forest(X_train, y_train)\n",
        "  svm_model = train_svm(X_train,y_train)\n",
        "  \n",
        "  gbm_model = train_gbm(X_train, y_train)\n",
        "  #ada_model = train_ada(X_train, y_train)\n",
        "  lstm_model = train_lstm(X_train_lstm, y_train)\n",
        "\n",
        "  # Validation \n",
        "  lr_eval = evaluate_model(lr_model, X_test, y_test)\n",
        "  lasso_eval = evaluate_model(lasso_model, X_test, y_test)\n",
        "  ridge_eval = evaluate_model(ridge_model, X_test, y_test)\n",
        "  \n",
        "  rf_eval = evaluate_model(rf_model, X_test, y_test)\n",
        "  \n",
        "  svm_eval = evaluate_model(svm_model, X_test, y_test)\n",
        "\n",
        "  gbm_eval = evaluate_model(gbm_model, X_test, y_test)\n",
        "  #ada_eval = evaluate_model(ada_model, X_test, y_test)\n",
        "  \n",
        "  lstm_eval = evaluate_model(lstm_model, X_test_lstm, y_test)\n",
        "\n",
        "        \n",
        "  # Trade\n",
        "  y_trade_lr = lr_model.predict(X_trade)\n",
        "  y_trade_lasso = lasso_model.predict(X_trade)\n",
        "  y_trade_ridge = ridge_model.predict(X_trade)\n",
        "  \n",
        "  y_trade_rf = rf_model.predict(X_trade)\n",
        "  \n",
        "  y_trade_svm = svm_model.predict(X_trade)\n",
        "\n",
        "  y_trade_gbm = gbm_model.predict(X_trade)\n",
        "  #y_trade_ada = ada_model.predict(X_trade)\n",
        "  y_trade_lstm = lstm_model.predict(X_trade_lstm).flatten()\n",
        "\n",
        "  eval_data = [[lr_eval, y_trade_lr], \n",
        "                    [lasso_eval, y_trade_lasso],\n",
        "                     [ridge_eval, y_trade_ridge],\n",
        "                     [rf_eval, y_trade_rf], \n",
        "                     [svm_eval,y_trade_svm],\n",
        "                     [gbm_eval,y_trade_gbm],                     \n",
        "               #      [ada_eval,y_trade_ada],\n",
        "                    [lstm_eval,y_trade_lstm]\n",
        "\n",
        "                    ]\n",
        "\n",
        "  eval_table = pd.DataFrame(eval_data, columns=['model_eval', 'model_predict_return'],\n",
        "                                  index=['lr', 'lasso','ridge','rf', 'svm','gbm','lstm'])  \n",
        "  \n",
        "  evaluation_record.append((trade_date, eval_table))\n",
        "\n",
        "  # lowest error score model\n",
        "  y_trade_best = eval_table.model_predict_return.values[eval_table.model_eval == eval_table.model_eval.min()][0]\n",
        "  best_model_name = eval_table.index.values[eval_table.model_eval == eval_table.model_eval.min()][0]\n",
        "\n",
        "  df_best_model_name.loc[trade_date] = best_model_name\n",
        "\n",
        "  # Prepare Predicted Return table\n",
        "  append_return_table(df_predict_lr, unique_datetime, y_trade_lr, trade_tic, current_index=i)\n",
        "  append_return_table(df_predict_lasso, unique_datetime, y_trade_lasso, trade_tic, current_index=i)\n",
        "  append_return_table(df_predict_ridge, unique_datetime, y_trade_ridge, trade_tic, current_index=i)\n",
        "  append_return_table(df_predict_rf, unique_datetime, y_trade_rf, trade_tic, current_index=i)\n",
        "  append_return_table(df_predict_svm, unique_datetime, y_trade_svm, trade_tic, current_index=i)\n",
        "\n",
        "  append_return_table(df_predict_gbm, unique_datetime, y_trade_gbm, trade_tic, current_index=i)\n",
        "  #append_return_table(df_predict_ada, unique_datetime, y_trade_ada, trade_tic, current_index=i)\n",
        "  append_return_table(df_predict_lstm, unique_datetime, y_trade_lstm, trade_tic, current_index=i)\n",
        "\n",
        "  append_return_table(df_predict_best, unique_datetime, y_trade_best, trade_tic, current_index=i)\n",
        "\n",
        "  print(\"Trade month:\", trade_date)\n",
        "\n"
      ],
      "execution_count": 109,
      "outputs": [
        {
          "output_type": "stream",
          "text": [
            "/usr/local/lib/python3.7/dist-packages/sklearn/linear_model/_coordinate_descent.py:476: ConvergenceWarning: Objective did not converge. You might want to increase the number of iterations. Duality gap: 0.13323459549052669, tolerance: 4.225659055308763e-05\n",
            "  positive)\n",
            "/usr/local/lib/python3.7/dist-packages/sklearn/linear_model/_coordinate_descent.py:476: ConvergenceWarning: Objective did not converge. You might want to increase the number of iterations. Duality gap: 0.11543305300120797, tolerance: 5.8513452083160966e-05\n",
            "  positive)\n",
            "/usr/local/lib/python3.7/dist-packages/sklearn/linear_model/_coordinate_descent.py:476: ConvergenceWarning: Objective did not converge. You might want to increase the number of iterations. Duality gap: 0.3065343058320831, tolerance: 8.118365970550074e-05\n",
            "  positive)\n",
            "/usr/local/lib/python3.7/dist-packages/sklearn/linear_model/_coordinate_descent.py:476: ConvergenceWarning: Objective did not converge. You might want to increase the number of iterations. Duality gap: 0.13323399733781946, tolerance: 4.225659055308763e-05\n",
            "  positive)\n",
            "/usr/local/lib/python3.7/dist-packages/sklearn/linear_model/_coordinate_descent.py:476: ConvergenceWarning: Objective did not converge. You might want to increase the number of iterations. Duality gap: 0.11543759463123252, tolerance: 5.8513452083160966e-05\n",
            "  positive)\n",
            "/usr/local/lib/python3.7/dist-packages/sklearn/linear_model/_coordinate_descent.py:476: ConvergenceWarning: Objective did not converge. You might want to increase the number of iterations. Duality gap: 0.3065336523334786, tolerance: 8.118365970550074e-05\n",
            "  positive)\n",
            "/usr/local/lib/python3.7/dist-packages/sklearn/linear_model/_coordinate_descent.py:476: ConvergenceWarning: Objective did not converge. You might want to increase the number of iterations. Duality gap: 0.13317476890913657, tolerance: 4.225659055308763e-05\n",
            "  positive)\n",
            "/usr/local/lib/python3.7/dist-packages/sklearn/linear_model/_coordinate_descent.py:476: ConvergenceWarning: Objective did not converge. You might want to increase the number of iterations. Duality gap: 0.11568899012760812, tolerance: 5.8513452083160966e-05\n",
            "  positive)\n",
            "/usr/local/lib/python3.7/dist-packages/sklearn/linear_model/_coordinate_descent.py:476: ConvergenceWarning: Objective did not converge. You might want to increase the number of iterations. Duality gap: 0.3064689589124023, tolerance: 8.118365970550074e-05\n",
            "  positive)\n",
            "/usr/local/lib/python3.7/dist-packages/sklearn/linear_model/_coordinate_descent.py:476: ConvergenceWarning: Objective did not converge. You might want to increase the number of iterations. Duality gap: 0.001127801685241625, tolerance: 8.118365970550074e-05\n",
            "  positive)\n"
          ],
          "name": "stderr"
        },
        {
          "output_type": "stream",
          "text": [
            "Epoch 1/2\n",
            "2/2 [==============================] - 7s 20ms/step - loss: 0.1123\n",
            "Epoch 2/2\n",
            "2/2 [==============================] - 0s 20ms/step - loss: 0.1123\n",
            "Trade month: 2012-05-01 00:00:00\n"
          ],
          "name": "stdout"
        },
        {
          "output_type": "stream",
          "text": [
            "/usr/local/lib/python3.7/dist-packages/sklearn/linear_model/_coordinate_descent.py:476: ConvergenceWarning: Objective did not converge. You might want to increase the number of iterations. Duality gap: 0.1385003318655155, tolerance: 4.343766617470365e-05\n",
            "  positive)\n",
            "/usr/local/lib/python3.7/dist-packages/sklearn/linear_model/_coordinate_descent.py:476: ConvergenceWarning: Objective did not converge. You might want to increase the number of iterations. Duality gap: 0.1452429698813075, tolerance: 0.00011430951747895142\n",
            "  positive)\n",
            "/usr/local/lib/python3.7/dist-packages/sklearn/linear_model/_coordinate_descent.py:476: ConvergenceWarning: Objective did not converge. You might want to increase the number of iterations. Duality gap: 0.5282924381039343, tolerance: 0.000135203287207241\n",
            "  positive)\n",
            "/usr/local/lib/python3.7/dist-packages/sklearn/linear_model/_coordinate_descent.py:476: ConvergenceWarning: Objective did not converge. You might want to increase the number of iterations. Duality gap: 0.13849948334708745, tolerance: 4.343766617470365e-05\n",
            "  positive)\n",
            "/usr/local/lib/python3.7/dist-packages/sklearn/linear_model/_coordinate_descent.py:476: ConvergenceWarning: Objective did not converge. You might want to increase the number of iterations. Duality gap: 0.1452323034843112, tolerance: 0.00011430951747895142\n",
            "  positive)\n",
            "/usr/local/lib/python3.7/dist-packages/sklearn/linear_model/_coordinate_descent.py:476: ConvergenceWarning: Objective did not converge. You might want to increase the number of iterations. Duality gap: 0.528291003084031, tolerance: 0.000135203287207241\n",
            "  positive)\n",
            "/usr/local/lib/python3.7/dist-packages/sklearn/linear_model/_coordinate_descent.py:476: ConvergenceWarning: Objective did not converge. You might want to increase the number of iterations. Duality gap: 0.13841547750725924, tolerance: 4.343766617470365e-05\n",
            "  positive)\n",
            "/usr/local/lib/python3.7/dist-packages/sklearn/linear_model/_coordinate_descent.py:476: ConvergenceWarning: Objective did not converge. You might want to increase the number of iterations. Duality gap: 0.14418182445184016, tolerance: 0.00011430951747895142\n",
            "  positive)\n",
            "/usr/local/lib/python3.7/dist-packages/sklearn/linear_model/_coordinate_descent.py:476: ConvergenceWarning: Objective did not converge. You might want to increase the number of iterations. Duality gap: 0.528148905926939, tolerance: 0.000135203287207241\n",
            "  positive)\n",
            "/usr/local/lib/python3.7/dist-packages/sklearn/linear_model/_coordinate_descent.py:476: ConvergenceWarning: Objective did not converge. You might want to increase the number of iterations. Duality gap: 0.0033502383113015455, tolerance: 0.000135203287207241\n",
            "  positive)\n"
          ],
          "name": "stderr"
        },
        {
          "output_type": "stream",
          "text": [
            "Epoch 1/2\n",
            "2/2 [==============================] - 6s 18ms/step - loss: 0.1224\n",
            "Epoch 2/2\n",
            "2/2 [==============================] - 0s 22ms/step - loss: 0.1187\n",
            "Trade month: 2012-06-01 00:00:00\n"
          ],
          "name": "stdout"
        },
        {
          "output_type": "stream",
          "text": [
            "/usr/local/lib/python3.7/dist-packages/sklearn/linear_model/_coordinate_descent.py:476: ConvergenceWarning: Objective did not converge. You might want to increase the number of iterations. Duality gap: 0.17324776382441745, tolerance: 4.59176393401667e-05\n",
            "  positive)\n",
            "/usr/local/lib/python3.7/dist-packages/sklearn/linear_model/_coordinate_descent.py:476: ConvergenceWarning: Objective did not converge. You might want to increase the number of iterations. Duality gap: 0.335898039968519, tolerance: 0.00011545164996990483\n",
            "  positive)\n",
            "/usr/local/lib/python3.7/dist-packages/sklearn/linear_model/_coordinate_descent.py:476: ConvergenceWarning: Objective did not converge. You might want to increase the number of iterations. Duality gap: 0.561565612283964, tolerance: 0.0001363888285045693\n",
            "  positive)\n",
            "/usr/local/lib/python3.7/dist-packages/sklearn/linear_model/_coordinate_descent.py:476: ConvergenceWarning: Objective did not converge. You might want to increase the number of iterations. Duality gap: 0.17324648940412996, tolerance: 4.59176393401667e-05\n",
            "  positive)\n",
            "/usr/local/lib/python3.7/dist-packages/sklearn/linear_model/_coordinate_descent.py:476: ConvergenceWarning: Objective did not converge. You might want to increase the number of iterations. Duality gap: 0.3358914263774511, tolerance: 0.00011545164996990483\n",
            "  positive)\n",
            "/usr/local/lib/python3.7/dist-packages/sklearn/linear_model/_coordinate_descent.py:476: ConvergenceWarning: Objective did not converge. You might want to increase the number of iterations. Duality gap: 0.5615637249659854, tolerance: 0.0001363888285045693\n",
            "  positive)\n",
            "/usr/local/lib/python3.7/dist-packages/sklearn/linear_model/_coordinate_descent.py:476: ConvergenceWarning: Objective did not converge. You might want to increase the number of iterations. Duality gap: 0.1731203578842124, tolerance: 4.59176393401667e-05\n",
            "  positive)\n",
            "/usr/local/lib/python3.7/dist-packages/sklearn/linear_model/_coordinate_descent.py:476: ConvergenceWarning: Objective did not converge. You might want to increase the number of iterations. Duality gap: 0.33523697887900644, tolerance: 0.00011545164996990483\n",
            "  positive)\n",
            "/usr/local/lib/python3.7/dist-packages/sklearn/linear_model/_coordinate_descent.py:476: ConvergenceWarning: Objective did not converge. You might want to increase the number of iterations. Duality gap: 0.5613768368076185, tolerance: 0.0001363888285045693\n",
            "  positive)\n",
            "/usr/local/lib/python3.7/dist-packages/sklearn/linear_model/_coordinate_descent.py:476: ConvergenceWarning: Objective did not converge. You might want to increase the number of iterations. Duality gap: 0.0002472891911653452, tolerance: 0.0001363888285045693\n",
            "  positive)\n"
          ],
          "name": "stderr"
        },
        {
          "output_type": "stream",
          "text": [
            "Epoch 1/2\n",
            "2/2 [==============================] - 7s 24ms/step - loss: 0.1218\n",
            "Epoch 2/2\n",
            "2/2 [==============================] - 0s 19ms/step - loss: 0.1219\n",
            "Trade month: 2012-07-01 00:00:00\n"
          ],
          "name": "stdout"
        },
        {
          "output_type": "stream",
          "text": [
            "/usr/local/lib/python3.7/dist-packages/sklearn/linear_model/_coordinate_descent.py:476: ConvergenceWarning: Objective did not converge. You might want to increase the number of iterations. Duality gap: 0.17382459363892602, tolerance: 4.650355106871522e-05\n",
            "  positive)\n",
            "/usr/local/lib/python3.7/dist-packages/sklearn/linear_model/_coordinate_descent.py:476: ConvergenceWarning: Objective did not converge. You might want to increase the number of iterations. Duality gap: 0.36385821526846956, tolerance: 0.00011482860937659543\n",
            "  positive)\n",
            "/usr/local/lib/python3.7/dist-packages/sklearn/linear_model/_coordinate_descent.py:476: ConvergenceWarning: Objective did not converge. You might want to increase the number of iterations. Duality gap: 0.5728374131936268, tolerance: 0.00013831781652937663\n",
            "  positive)\n",
            "/usr/local/lib/python3.7/dist-packages/sklearn/linear_model/_coordinate_descent.py:476: ConvergenceWarning: Objective did not converge. You might want to increase the number of iterations. Duality gap: 0.17382318760748, tolerance: 4.650355106871522e-05\n",
            "  positive)\n",
            "/usr/local/lib/python3.7/dist-packages/sklearn/linear_model/_coordinate_descent.py:476: ConvergenceWarning: Objective did not converge. You might want to increase the number of iterations. Duality gap: 0.36384995942643267, tolerance: 0.00011482860937659543\n",
            "  positive)\n",
            "/usr/local/lib/python3.7/dist-packages/sklearn/linear_model/_coordinate_descent.py:476: ConvergenceWarning: Objective did not converge. You might want to increase the number of iterations. Duality gap: 0.572835333043228, tolerance: 0.00013831781652937663\n",
            "  positive)\n",
            "/usr/local/lib/python3.7/dist-packages/sklearn/linear_model/_coordinate_descent.py:476: ConvergenceWarning: Objective did not converge. You might want to increase the number of iterations. Duality gap: 0.17368403238154964, tolerance: 4.650355106871522e-05\n",
            "  positive)\n",
            "/usr/local/lib/python3.7/dist-packages/sklearn/linear_model/_coordinate_descent.py:476: ConvergenceWarning: Objective did not converge. You might want to increase the number of iterations. Duality gap: 0.36303364461646004, tolerance: 0.00011482860937659543\n",
            "  positive)\n",
            "/usr/local/lib/python3.7/dist-packages/sklearn/linear_model/_coordinate_descent.py:476: ConvergenceWarning: Objective did not converge. You might want to increase the number of iterations. Duality gap: 0.5726293492560419, tolerance: 0.00013831781652937663\n",
            "  positive)\n",
            "/usr/local/lib/python3.7/dist-packages/sklearn/linear_model/_coordinate_descent.py:476: ConvergenceWarning: Objective did not converge. You might want to increase the number of iterations. Duality gap: 0.00014377704320356344, tolerance: 0.00013831781652937663\n",
            "  positive)\n"
          ],
          "name": "stderr"
        },
        {
          "output_type": "stream",
          "text": [
            "Epoch 1/2\n",
            "2/2 [==============================] - 7s 21ms/step - loss: 0.1133\n",
            "Epoch 2/2\n",
            "2/2 [==============================] - 0s 18ms/step - loss: 0.1079\n",
            "Trade month: 2012-08-01 00:00:00\n"
          ],
          "name": "stdout"
        },
        {
          "output_type": "stream",
          "text": [
            "/usr/local/lib/python3.7/dist-packages/sklearn/linear_model/_coordinate_descent.py:476: ConvergenceWarning: Objective did not converge. You might want to increase the number of iterations. Duality gap: 0.1738537727686646, tolerance: 4.727082101988915e-05\n",
            "  positive)\n",
            "/usr/local/lib/python3.7/dist-packages/sklearn/linear_model/_coordinate_descent.py:476: ConvergenceWarning: Objective did not converge. You might want to increase the number of iterations. Duality gap: 0.5720551009062014, tolerance: 0.00014047016871880291\n",
            "  positive)\n",
            "/usr/local/lib/python3.7/dist-packages/sklearn/linear_model/_coordinate_descent.py:476: ConvergenceWarning: Objective did not converge. You might want to increase the number of iterations. Duality gap: 0.7150802493635656, tolerance: 0.00016618535699221572\n",
            "  positive)\n",
            "/usr/local/lib/python3.7/dist-packages/sklearn/linear_model/_coordinate_descent.py:476: ConvergenceWarning: Objective did not converge. You might want to increase the number of iterations. Duality gap: 0.17385219859966575, tolerance: 4.727082101988915e-05\n",
            "  positive)\n",
            "/usr/local/lib/python3.7/dist-packages/sklearn/linear_model/_coordinate_descent.py:476: ConvergenceWarning: Objective did not converge. You might want to increase the number of iterations. Duality gap: 0.5720261664165217, tolerance: 0.00014047016871880291\n",
            "  positive)\n",
            "/usr/local/lib/python3.7/dist-packages/sklearn/linear_model/_coordinate_descent.py:476: ConvergenceWarning: Objective did not converge. You might want to increase the number of iterations. Duality gap: 0.7150774082931088, tolerance: 0.00016618535699221572\n",
            "  positive)\n",
            "/usr/local/lib/python3.7/dist-packages/sklearn/linear_model/_coordinate_descent.py:476: ConvergenceWarning: Objective did not converge. You might want to increase the number of iterations. Duality gap: 0.17369623492216058, tolerance: 4.727082101988915e-05\n",
            "  positive)\n",
            "/usr/local/lib/python3.7/dist-packages/sklearn/linear_model/_coordinate_descent.py:476: ConvergenceWarning: Objective did not converge. You might want to increase the number of iterations. Duality gap: 0.5691714193632982, tolerance: 0.00014047016871880291\n",
            "  positive)\n",
            "/usr/local/lib/python3.7/dist-packages/sklearn/linear_model/_coordinate_descent.py:476: ConvergenceWarning: Objective did not converge. You might want to increase the number of iterations. Duality gap: 0.7147960735925365, tolerance: 0.00016618535699221572\n",
            "  positive)\n"
          ],
          "name": "stderr"
        },
        {
          "output_type": "stream",
          "text": [
            "Epoch 1/2\n",
            "2/2 [==============================] - 6s 21ms/step - loss: 0.1253\n",
            "Epoch 2/2\n",
            "2/2 [==============================] - 0s 23ms/step - loss: 0.1111\n",
            "Trade month: 2012-09-01 00:00:00\n"
          ],
          "name": "stdout"
        },
        {
          "output_type": "stream",
          "text": [
            "/usr/local/lib/python3.7/dist-packages/sklearn/linear_model/_coordinate_descent.py:476: ConvergenceWarning: Objective did not converge. You might want to increase the number of iterations. Duality gap: 0.23360430101640525, tolerance: 5.886366946778593e-05\n",
            "  positive)\n",
            "/usr/local/lib/python3.7/dist-packages/sklearn/linear_model/_coordinate_descent.py:476: ConvergenceWarning: Objective did not converge. You might want to increase the number of iterations. Duality gap: 0.6702490756256684, tolerance: 0.0001495122858888448\n",
            "  positive)\n",
            "/usr/local/lib/python3.7/dist-packages/sklearn/linear_model/_coordinate_descent.py:476: ConvergenceWarning: Objective did not converge. You might want to increase the number of iterations. Duality gap: 0.7714673248625085, tolerance: 0.000173360702490129\n",
            "  positive)\n",
            "/usr/local/lib/python3.7/dist-packages/sklearn/linear_model/_coordinate_descent.py:476: ConvergenceWarning: Objective did not converge. You might want to increase the number of iterations. Duality gap: 0.23359468080390086, tolerance: 5.886366946778593e-05\n",
            "  positive)\n",
            "/usr/local/lib/python3.7/dist-packages/sklearn/linear_model/_coordinate_descent.py:476: ConvergenceWarning: Objective did not converge. You might want to increase the number of iterations. Duality gap: 0.6702349661409672, tolerance: 0.0001495122858888448\n",
            "  positive)\n",
            "/usr/local/lib/python3.7/dist-packages/sklearn/linear_model/_coordinate_descent.py:476: ConvergenceWarning: Objective did not converge. You might want to increase the number of iterations. Duality gap: 0.771463733613626, tolerance: 0.000173360702490129\n",
            "  positive)\n",
            "/usr/local/lib/python3.7/dist-packages/sklearn/linear_model/_coordinate_descent.py:476: ConvergenceWarning: Objective did not converge. You might want to increase the number of iterations. Duality gap: 0.23264478049512985, tolerance: 5.886366946778593e-05\n",
            "  positive)\n",
            "/usr/local/lib/python3.7/dist-packages/sklearn/linear_model/_coordinate_descent.py:476: ConvergenceWarning: Objective did not converge. You might want to increase the number of iterations. Duality gap: 0.6688378012068443, tolerance: 0.0001495122858888448\n",
            "  positive)\n",
            "/usr/local/lib/python3.7/dist-packages/sklearn/linear_model/_coordinate_descent.py:476: ConvergenceWarning: Objective did not converge. You might want to increase the number of iterations. Duality gap: 0.7711081050347969, tolerance: 0.000173360702490129\n",
            "  positive)\n"
          ],
          "name": "stderr"
        },
        {
          "output_type": "stream",
          "text": [
            "Epoch 1/2\n",
            "2/2 [==============================] - 6s 33ms/step - loss: 0.1097\n",
            "Epoch 2/2\n",
            "2/2 [==============================] - 0s 24ms/step - loss: 0.1178\n",
            "Trade month: 2012-10-01 00:00:00\n"
          ],
          "name": "stdout"
        },
        {
          "output_type": "stream",
          "text": [
            "/usr/local/lib/python3.7/dist-packages/sklearn/linear_model/_coordinate_descent.py:476: ConvergenceWarning: Objective did not converge. You might want to increase the number of iterations. Duality gap: 0.2588675184302131, tolerance: 6.168042388030249e-05\n",
            "  positive)\n",
            "/usr/local/lib/python3.7/dist-packages/sklearn/linear_model/_coordinate_descent.py:476: ConvergenceWarning: Objective did not converge. You might want to increase the number of iterations. Duality gap: 0.6774828934603648, tolerance: 0.00014824597850719771\n",
            "  positive)\n",
            "/usr/local/lib/python3.7/dist-packages/sklearn/linear_model/_coordinate_descent.py:476: ConvergenceWarning: Objective did not converge. You might want to increase the number of iterations. Duality gap: 0.8706267913480946, tolerance: 0.0001813527739378016\n",
            "  positive)\n",
            "/usr/local/lib/python3.7/dist-packages/sklearn/linear_model/_coordinate_descent.py:476: ConvergenceWarning: Objective did not converge. You might want to increase the number of iterations. Duality gap: 0.2588561757674822, tolerance: 6.168042388030249e-05\n",
            "  positive)\n",
            "/usr/local/lib/python3.7/dist-packages/sklearn/linear_model/_coordinate_descent.py:476: ConvergenceWarning: Objective did not converge. You might want to increase the number of iterations. Duality gap: 0.6772758133401263, tolerance: 0.00014824597850719771\n",
            "  positive)\n",
            "/usr/local/lib/python3.7/dist-packages/sklearn/linear_model/_coordinate_descent.py:476: ConvergenceWarning: Objective did not converge. You might want to increase the number of iterations. Duality gap: 0.8706047562513962, tolerance: 0.0001813527739378016\n",
            "  positive)\n",
            "/usr/local/lib/python3.7/dist-packages/sklearn/linear_model/_coordinate_descent.py:476: ConvergenceWarning: Objective did not converge. You might want to increase the number of iterations. Duality gap: 0.25773645099537573, tolerance: 6.168042388030249e-05\n",
            "  positive)\n",
            "/usr/local/lib/python3.7/dist-packages/sklearn/linear_model/_coordinate_descent.py:476: ConvergenceWarning: Objective did not converge. You might want to increase the number of iterations. Duality gap: 0.6566076497131731, tolerance: 0.00014824597850719771\n",
            "  positive)\n",
            "/usr/local/lib/python3.7/dist-packages/sklearn/linear_model/_coordinate_descent.py:476: ConvergenceWarning: Objective did not converge. You might want to increase the number of iterations. Duality gap: 0.8684213521652697, tolerance: 0.0001813527739378016\n",
            "  positive)\n"
          ],
          "name": "stderr"
        },
        {
          "output_type": "stream",
          "text": [
            "Epoch 1/2\n",
            "3/3 [==============================] - 7s 18ms/step - loss: 0.1148\n",
            "Epoch 2/2\n",
            "3/3 [==============================] - 0s 16ms/step - loss: 0.1098\n",
            "Trade month: 2012-11-01 00:00:00\n"
          ],
          "name": "stdout"
        },
        {
          "output_type": "stream",
          "text": [
            "/usr/local/lib/python3.7/dist-packages/sklearn/linear_model/_coordinate_descent.py:476: ConvergenceWarning: Objective did not converge. You might want to increase the number of iterations. Duality gap: 0.34402666828311834, tolerance: 7.718048669508651e-05\n",
            "  positive)\n",
            "/usr/local/lib/python3.7/dist-packages/sklearn/linear_model/_coordinate_descent.py:476: ConvergenceWarning: Objective did not converge. You might want to increase the number of iterations. Duality gap: 0.7134320384009658, tolerance: 0.00015058757977936597\n",
            "  positive)\n",
            "/usr/local/lib/python3.7/dist-packages/sklearn/linear_model/_coordinate_descent.py:476: ConvergenceWarning: Objective did not converge. You might want to increase the number of iterations. Duality gap: 0.9250547190611279, tolerance: 0.0001946822494675587\n",
            "  positive)\n",
            "/usr/local/lib/python3.7/dist-packages/sklearn/linear_model/_coordinate_descent.py:476: ConvergenceWarning: Objective did not converge. You might want to increase the number of iterations. Duality gap: 0.34400906866210085, tolerance: 7.718048669508651e-05\n",
            "  positive)\n",
            "/usr/local/lib/python3.7/dist-packages/sklearn/linear_model/_coordinate_descent.py:476: ConvergenceWarning: Objective did not converge. You might want to increase the number of iterations. Duality gap: 0.7133773944591332, tolerance: 0.00015058757977936597\n",
            "  positive)\n",
            "/usr/local/lib/python3.7/dist-packages/sklearn/linear_model/_coordinate_descent.py:476: ConvergenceWarning: Objective did not converge. You might want to increase the number of iterations. Duality gap: 0.925024630207697, tolerance: 0.0001946822494675587\n",
            "  positive)\n",
            "/usr/local/lib/python3.7/dist-packages/sklearn/linear_model/_coordinate_descent.py:476: ConvergenceWarning: Objective did not converge. You might want to increase the number of iterations. Duality gap: 0.34227251265814684, tolerance: 7.718048669508651e-05\n",
            "  positive)\n",
            "/usr/local/lib/python3.7/dist-packages/sklearn/linear_model/_coordinate_descent.py:476: ConvergenceWarning: Objective did not converge. You might want to increase the number of iterations. Duality gap: 0.7079705238245487, tolerance: 0.00015058757977936597\n",
            "  positive)\n",
            "/usr/local/lib/python3.7/dist-packages/sklearn/linear_model/_coordinate_descent.py:476: ConvergenceWarning: Objective did not converge. You might want to increase the number of iterations. Duality gap: 0.9220423832413693, tolerance: 0.0001946822494675587\n",
            "  positive)\n"
          ],
          "name": "stderr"
        },
        {
          "output_type": "stream",
          "text": [
            "Epoch 1/2\n",
            "3/3 [==============================] - 7s 18ms/step - loss: 0.1120\n",
            "Epoch 2/2\n",
            "3/3 [==============================] - 0s 16ms/step - loss: 0.1243\n",
            "Trade month: 2012-12-01 00:00:00\n"
          ],
          "name": "stdout"
        },
        {
          "output_type": "stream",
          "text": [
            "/usr/local/lib/python3.7/dist-packages/sklearn/linear_model/_coordinate_descent.py:476: ConvergenceWarning: Objective did not converge. You might want to increase the number of iterations. Duality gap: 0.4581171725167394, tolerance: 9.708794795754002e-05\n",
            "  positive)\n",
            "/usr/local/lib/python3.7/dist-packages/sklearn/linear_model/_coordinate_descent.py:476: ConvergenceWarning: Objective did not converge. You might want to increase the number of iterations. Duality gap: 0.7749576674787588, tolerance: 0.00016357756900445728\n",
            "  positive)\n",
            "/usr/local/lib/python3.7/dist-packages/sklearn/linear_model/_coordinate_descent.py:476: ConvergenceWarning: Objective did not converge. You might want to increase the number of iterations. Duality gap: 1.0134899495034557, tolerance: 0.00021175645573417114\n",
            "  positive)\n",
            "/usr/local/lib/python3.7/dist-packages/sklearn/linear_model/_coordinate_descent.py:476: ConvergenceWarning: Objective did not converge. You might want to increase the number of iterations. Duality gap: 0.45807121510199633, tolerance: 9.708794795754002e-05\n",
            "  positive)\n",
            "/usr/local/lib/python3.7/dist-packages/sklearn/linear_model/_coordinate_descent.py:476: ConvergenceWarning: Objective did not converge. You might want to increase the number of iterations. Duality gap: 0.7748133304321508, tolerance: 0.00016357756900445728\n",
            "  positive)\n",
            "/usr/local/lib/python3.7/dist-packages/sklearn/linear_model/_coordinate_descent.py:476: ConvergenceWarning: Objective did not converge. You might want to increase the number of iterations. Duality gap: 1.013462462574422, tolerance: 0.00021175645573417114\n",
            "  positive)\n",
            "/usr/local/lib/python3.7/dist-packages/sklearn/linear_model/_coordinate_descent.py:476: ConvergenceWarning: Objective did not converge. You might want to increase the number of iterations. Duality gap: 0.4535492139687398, tolerance: 9.708794795754002e-05\n",
            "  positive)\n",
            "/usr/local/lib/python3.7/dist-packages/sklearn/linear_model/_coordinate_descent.py:476: ConvergenceWarning: Objective did not converge. You might want to increase the number of iterations. Duality gap: 0.760714202944883, tolerance: 0.00016357756900445728\n",
            "  positive)\n",
            "/usr/local/lib/python3.7/dist-packages/sklearn/linear_model/_coordinate_descent.py:476: ConvergenceWarning: Objective did not converge. You might want to increase the number of iterations. Duality gap: 1.0107376668389507, tolerance: 0.00021175645573417114\n",
            "  positive)\n"
          ],
          "name": "stderr"
        },
        {
          "output_type": "stream",
          "text": [
            "Epoch 1/2\n",
            "3/3 [==============================] - 7s 18ms/step - loss: 0.1137\n",
            "Epoch 2/2\n",
            "3/3 [==============================] - 0s 18ms/step - loss: 0.1218\n",
            "Trade month: 2013-01-01 00:00:00\n"
          ],
          "name": "stdout"
        },
        {
          "output_type": "stream",
          "text": [
            "/usr/local/lib/python3.7/dist-packages/sklearn/linear_model/_coordinate_descent.py:476: ConvergenceWarning: Objective did not converge. You might want to increase the number of iterations. Duality gap: 0.46932990692527826, tolerance: 9.958727607861594e-05\n",
            "  positive)\n",
            "/usr/local/lib/python3.7/dist-packages/sklearn/linear_model/_coordinate_descent.py:476: ConvergenceWarning: Objective did not converge. You might want to increase the number of iterations. Duality gap: 0.7794007083340307, tolerance: 0.0001611167039925308\n",
            "  positive)\n",
            "/usr/local/lib/python3.7/dist-packages/sklearn/linear_model/_coordinate_descent.py:476: ConvergenceWarning: Objective did not converge. You might want to increase the number of iterations. Duality gap: 1.0688065128812037, tolerance: 0.00021962010189856228\n",
            "  positive)\n",
            "/usr/local/lib/python3.7/dist-packages/sklearn/linear_model/_coordinate_descent.py:476: ConvergenceWarning: Objective did not converge. You might want to increase the number of iterations. Duality gap: 0.4691874924893217, tolerance: 9.958727607861594e-05\n",
            "  positive)\n",
            "/usr/local/lib/python3.7/dist-packages/sklearn/linear_model/_coordinate_descent.py:476: ConvergenceWarning: Objective did not converge. You might want to increase the number of iterations. Duality gap: 0.7791980684966987, tolerance: 0.0001611167039925308\n",
            "  positive)\n",
            "/usr/local/lib/python3.7/dist-packages/sklearn/linear_model/_coordinate_descent.py:476: ConvergenceWarning: Objective did not converge. You might want to increase the number of iterations. Duality gap: 1.0687742370985807, tolerance: 0.00021962010189856228\n",
            "  positive)\n",
            "/usr/local/lib/python3.7/dist-packages/sklearn/linear_model/_coordinate_descent.py:476: ConvergenceWarning: Objective did not converge. You might want to increase the number of iterations. Duality gap: 0.45537501570820194, tolerance: 9.958727607861594e-05\n",
            "  positive)\n",
            "/usr/local/lib/python3.7/dist-packages/sklearn/linear_model/_coordinate_descent.py:476: ConvergenceWarning: Objective did not converge. You might want to increase the number of iterations. Duality gap: 0.7594968155533061, tolerance: 0.0001611167039925308\n",
            "  positive)\n",
            "/usr/local/lib/python3.7/dist-packages/sklearn/linear_model/_coordinate_descent.py:476: ConvergenceWarning: Objective did not converge. You might want to increase the number of iterations. Duality gap: 1.0655830643387783, tolerance: 0.00021962010189856228\n",
            "  positive)\n"
          ],
          "name": "stderr"
        },
        {
          "output_type": "stream",
          "text": [
            "Epoch 1/2\n",
            "3/3 [==============================] - 6s 21ms/step - loss: 0.1131\n",
            "Epoch 2/2\n",
            "3/3 [==============================] - 0s 23ms/step - loss: 0.1201\n",
            "Trade month: 2013-02-01 00:00:00\n"
          ],
          "name": "stdout"
        },
        {
          "output_type": "stream",
          "text": [
            "/usr/local/lib/python3.7/dist-packages/sklearn/linear_model/_coordinate_descent.py:476: ConvergenceWarning: Objective did not converge. You might want to increase the number of iterations. Duality gap: 0.4974149125324125, tolerance: 0.00010658082502745281\n",
            "  positive)\n",
            "/usr/local/lib/python3.7/dist-packages/sklearn/linear_model/_coordinate_descent.py:476: ConvergenceWarning: Objective did not converge. You might want to increase the number of iterations. Duality gap: 0.8602446699777369, tolerance: 0.00018904866006581324\n",
            "  positive)\n",
            "/usr/local/lib/python3.7/dist-packages/sklearn/linear_model/_coordinate_descent.py:476: ConvergenceWarning: Objective did not converge. You might want to increase the number of iterations. Duality gap: 1.159012790270809, tolerance: 0.0002444957584366784\n",
            "  positive)\n",
            "/usr/local/lib/python3.7/dist-packages/sklearn/linear_model/_coordinate_descent.py:476: ConvergenceWarning: Objective did not converge. You might want to increase the number of iterations. Duality gap: 0.49695436369379503, tolerance: 0.00010658082502745281\n",
            "  positive)\n",
            "/usr/local/lib/python3.7/dist-packages/sklearn/linear_model/_coordinate_descent.py:476: ConvergenceWarning: Objective did not converge. You might want to increase the number of iterations. Duality gap: 0.8601023877028778, tolerance: 0.00018904866006581324\n",
            "  positive)\n",
            "/usr/local/lib/python3.7/dist-packages/sklearn/linear_model/_coordinate_descent.py:476: ConvergenceWarning: Objective did not converge. You might want to increase the number of iterations. Duality gap: 1.1589856686521374, tolerance: 0.0002444957584366784\n",
            "  positive)\n",
            "/usr/local/lib/python3.7/dist-packages/sklearn/linear_model/_coordinate_descent.py:476: ConvergenceWarning: Objective did not converge. You might want to increase the number of iterations. Duality gap: 0.45428561893139996, tolerance: 0.00010658082502745281\n",
            "  positive)\n",
            "/usr/local/lib/python3.7/dist-packages/sklearn/linear_model/_coordinate_descent.py:476: ConvergenceWarning: Objective did not converge. You might want to increase the number of iterations. Duality gap: 0.845953624247511, tolerance: 0.00018904866006581324\n",
            "  positive)\n",
            "/usr/local/lib/python3.7/dist-packages/sklearn/linear_model/_coordinate_descent.py:476: ConvergenceWarning: Objective did not converge. You might want to increase the number of iterations. Duality gap: 1.1563040066291537, tolerance: 0.0002444957584366784\n",
            "  positive)\n"
          ],
          "name": "stderr"
        },
        {
          "output_type": "stream",
          "text": [
            "Epoch 1/2\n",
            "3/3 [==============================] - 6s 20ms/step - loss: 0.1171\n",
            "Epoch 2/2\n",
            "3/3 [==============================] - 0s 18ms/step - loss: 0.1184\n",
            "Trade month: 2013-03-01 00:00:00\n"
          ],
          "name": "stdout"
        },
        {
          "output_type": "stream",
          "text": [
            "/usr/local/lib/python3.7/dist-packages/sklearn/linear_model/_coordinate_descent.py:476: ConvergenceWarning: Objective did not converge. You might want to increase the number of iterations. Duality gap: 0.5160850057242, tolerance: 0.00010983914345385444\n",
            "  positive)\n",
            "/usr/local/lib/python3.7/dist-packages/sklearn/linear_model/_coordinate_descent.py:476: ConvergenceWarning: Objective did not converge. You might want to increase the number of iterations. Duality gap: 0.9156763805872784, tolerance: 0.00019438017722582692\n",
            "  positive)\n",
            "/usr/local/lib/python3.7/dist-packages/sklearn/linear_model/_coordinate_descent.py:476: ConvergenceWarning: Objective did not converge. You might want to increase the number of iterations. Duality gap: 1.185123800459653, tolerance: 0.0002480418408846544\n",
            "  positive)\n",
            "/usr/local/lib/python3.7/dist-packages/sklearn/linear_model/_coordinate_descent.py:476: ConvergenceWarning: Objective did not converge. You might want to increase the number of iterations. Duality gap: 0.5151540781334559, tolerance: 0.00010983914345385444\n",
            "  positive)\n",
            "/usr/local/lib/python3.7/dist-packages/sklearn/linear_model/_coordinate_descent.py:476: ConvergenceWarning: Objective did not converge. You might want to increase the number of iterations. Duality gap: 0.9062300176237283, tolerance: 0.00019438017722582692\n",
            "  positive)\n",
            "/usr/local/lib/python3.7/dist-packages/sklearn/linear_model/_coordinate_descent.py:476: ConvergenceWarning: Objective did not converge. You might want to increase the number of iterations. Duality gap: 1.185079321977362, tolerance: 0.0002480418408846544\n",
            "  positive)\n",
            "/usr/local/lib/python3.7/dist-packages/sklearn/linear_model/_coordinate_descent.py:476: ConvergenceWarning: Objective did not converge. You might want to increase the number of iterations. Duality gap: 0.41923285159367035, tolerance: 0.00010983914345385444\n",
            "  positive)\n",
            "/usr/local/lib/python3.7/dist-packages/sklearn/linear_model/_coordinate_descent.py:476: ConvergenceWarning: Objective did not converge. You might want to increase the number of iterations. Duality gap: 0.39634914438162205, tolerance: 0.00019438017722582692\n",
            "  positive)\n",
            "/usr/local/lib/python3.7/dist-packages/sklearn/linear_model/_coordinate_descent.py:476: ConvergenceWarning: Objective did not converge. You might want to increase the number of iterations. Duality gap: 1.180685385313185, tolerance: 0.0002480418408846544\n",
            "  positive)\n"
          ],
          "name": "stderr"
        },
        {
          "output_type": "stream",
          "text": [
            "Epoch 1/2\n",
            "4/4 [==============================] - 7s 17ms/step - loss: 0.1148\n",
            "Epoch 2/2\n",
            "4/4 [==============================] - 0s 16ms/step - loss: 0.1066\n",
            "Trade month: 2013-04-01 00:00:00\n"
          ],
          "name": "stdout"
        },
        {
          "output_type": "stream",
          "text": [
            "/usr/local/lib/python3.7/dist-packages/sklearn/linear_model/_coordinate_descent.py:476: ConvergenceWarning: Objective did not converge. You might want to increase the number of iterations. Duality gap: 0.5295399109368748, tolerance: 0.00011331339260208853\n",
            "  positive)\n",
            "/usr/local/lib/python3.7/dist-packages/sklearn/linear_model/_coordinate_descent.py:476: ConvergenceWarning: Objective did not converge. You might want to increase the number of iterations. Duality gap: 0.9303621285802841, tolerance: 0.000201123018028557\n",
            "  positive)\n",
            "/usr/local/lib/python3.7/dist-packages/sklearn/linear_model/_coordinate_descent.py:476: ConvergenceWarning: Objective did not converge. You might want to increase the number of iterations. Duality gap: 1.1803756335248943, tolerance: 0.0002494686049587917\n",
            "  positive)\n",
            "/usr/local/lib/python3.7/dist-packages/sklearn/linear_model/_coordinate_descent.py:476: ConvergenceWarning: Objective did not converge. You might want to increase the number of iterations. Duality gap: 0.5293568681407884, tolerance: 0.00011331339260208853\n",
            "  positive)\n",
            "/usr/local/lib/python3.7/dist-packages/sklearn/linear_model/_coordinate_descent.py:476: ConvergenceWarning: Objective did not converge. You might want to increase the number of iterations. Duality gap: 0.9143415864635641, tolerance: 0.000201123018028557\n",
            "  positive)\n",
            "/usr/local/lib/python3.7/dist-packages/sklearn/linear_model/_coordinate_descent.py:476: ConvergenceWarning: Objective did not converge. You might want to increase the number of iterations. Duality gap: 1.1803203311420194, tolerance: 0.0002494686049587917\n",
            "  positive)\n",
            "/usr/local/lib/python3.7/dist-packages/sklearn/linear_model/_coordinate_descent.py:476: ConvergenceWarning: Objective did not converge. You might want to increase the number of iterations. Duality gap: 0.5116832579231697, tolerance: 0.00011331339260208853\n",
            "  positive)\n",
            "/usr/local/lib/python3.7/dist-packages/sklearn/linear_model/_coordinate_descent.py:476: ConvergenceWarning: Objective did not converge. You might want to increase the number of iterations. Duality gap: 0.265312296931152, tolerance: 0.000201123018028557\n",
            "  positive)\n",
            "/usr/local/lib/python3.7/dist-packages/sklearn/linear_model/_coordinate_descent.py:476: ConvergenceWarning: Objective did not converge. You might want to increase the number of iterations. Duality gap: 1.1748595405090336, tolerance: 0.0002494686049587917\n",
            "  positive)\n"
          ],
          "name": "stderr"
        },
        {
          "output_type": "stream",
          "text": [
            "Epoch 1/2\n",
            "4/4 [==============================] - 7s 19ms/step - loss: 0.1130\n",
            "Epoch 2/2\n",
            "4/4 [==============================] - 0s 16ms/step - loss: 0.1071\n",
            "Trade month: 2013-05-01 00:00:00\n"
          ],
          "name": "stdout"
        },
        {
          "output_type": "stream",
          "text": [
            "/usr/local/lib/python3.7/dist-packages/sklearn/linear_model/_coordinate_descent.py:476: ConvergenceWarning: Objective did not converge. You might want to increase the number of iterations. Duality gap: 0.6509404582993635, tolerance: 0.00013696639448281962\n",
            "  positive)\n",
            "/usr/local/lib/python3.7/dist-packages/sklearn/linear_model/_coordinate_descent.py:476: ConvergenceWarning: Objective did not converge. You might want to increase the number of iterations. Duality gap: 1.0891864627258039, tolerance: 0.00024848764403325314\n",
            "  positive)\n",
            "/usr/local/lib/python3.7/dist-packages/sklearn/linear_model/_coordinate_descent.py:476: ConvergenceWarning: Objective did not converge. You might want to increase the number of iterations. Duality gap: 1.364974322956671, tolerance: 0.0003146734158645063\n",
            "  positive)\n",
            "/usr/local/lib/python3.7/dist-packages/sklearn/linear_model/_coordinate_descent.py:476: ConvergenceWarning: Objective did not converge. You might want to increase the number of iterations. Duality gap: 0.6460030342048244, tolerance: 0.00013696639448281962\n",
            "  positive)\n",
            "/usr/local/lib/python3.7/dist-packages/sklearn/linear_model/_coordinate_descent.py:476: ConvergenceWarning: Objective did not converge. You might want to increase the number of iterations. Duality gap: 0.762508577128495, tolerance: 0.00024848764403325314\n",
            "  positive)\n",
            "/usr/local/lib/python3.7/dist-packages/sklearn/linear_model/_coordinate_descent.py:476: ConvergenceWarning: Objective did not converge. You might want to increase the number of iterations. Duality gap: 1.3649393127427505, tolerance: 0.0003146734158645063\n",
            "  positive)\n",
            "/usr/local/lib/python3.7/dist-packages/sklearn/linear_model/_coordinate_descent.py:476: ConvergenceWarning: Objective did not converge. You might want to increase the number of iterations. Duality gap: 0.10253301212439314, tolerance: 0.00013696639448281962\n",
            "  positive)\n",
            "/usr/local/lib/python3.7/dist-packages/sklearn/linear_model/_coordinate_descent.py:476: ConvergenceWarning: Objective did not converge. You might want to increase the number of iterations. Duality gap: 0.002587180896446384, tolerance: 0.00024848764403325314\n",
            "  positive)\n",
            "/usr/local/lib/python3.7/dist-packages/sklearn/linear_model/_coordinate_descent.py:476: ConvergenceWarning: Objective did not converge. You might want to increase the number of iterations. Duality gap: 1.3614792290338358, tolerance: 0.0003146734158645063\n",
            "  positive)\n"
          ],
          "name": "stderr"
        },
        {
          "output_type": "stream",
          "text": [
            "Epoch 1/2\n",
            "4/4 [==============================] - 6s 20ms/step - loss: 0.1137\n",
            "Epoch 2/2\n",
            "4/4 [==============================] - 0s 16ms/step - loss: 0.1097\n",
            "Trade month: 2013-06-01 00:00:00\n"
          ],
          "name": "stdout"
        },
        {
          "output_type": "stream",
          "text": [
            "/usr/local/lib/python3.7/dist-packages/sklearn/linear_model/_coordinate_descent.py:476: ConvergenceWarning: Objective did not converge. You might want to increase the number of iterations. Duality gap: 0.6761977673842621, tolerance: 0.00014194447515491825\n",
            "  positive)\n",
            "/usr/local/lib/python3.7/dist-packages/sklearn/linear_model/_coordinate_descent.py:476: ConvergenceWarning: Objective did not converge. You might want to increase the number of iterations. Duality gap: 1.1209295574911808, tolerance: 0.00025795433893549926\n",
            "  positive)\n",
            "/usr/local/lib/python3.7/dist-packages/sklearn/linear_model/_coordinate_descent.py:476: ConvergenceWarning: Objective did not converge. You might want to increase the number of iterations. Duality gap: 1.416353741131742, tolerance: 0.00032780073539614285\n",
            "  positive)\n",
            "/usr/local/lib/python3.7/dist-packages/sklearn/linear_model/_coordinate_descent.py:476: ConvergenceWarning: Objective did not converge. You might want to increase the number of iterations. Duality gap: 0.6743101408406363, tolerance: 0.00014194447515491825\n",
            "  positive)\n",
            "/usr/local/lib/python3.7/dist-packages/sklearn/linear_model/_coordinate_descent.py:476: ConvergenceWarning: Objective did not converge. You might want to increase the number of iterations. Duality gap: 1.0644206683692474, tolerance: 0.00025795433893549926\n",
            "  positive)\n",
            "/usr/local/lib/python3.7/dist-packages/sklearn/linear_model/_coordinate_descent.py:476: ConvergenceWarning: Objective did not converge. You might want to increase the number of iterations. Duality gap: 1.4162136614580463, tolerance: 0.00032780073539614285\n",
            "  positive)\n",
            "/usr/local/lib/python3.7/dist-packages/sklearn/linear_model/_coordinate_descent.py:476: ConvergenceWarning: Objective did not converge. You might want to increase the number of iterations. Duality gap: 0.5202047877709542, tolerance: 0.00014194447515491825\n",
            "  positive)\n",
            "/usr/local/lib/python3.7/dist-packages/sklearn/linear_model/_coordinate_descent.py:476: ConvergenceWarning: Objective did not converge. You might want to increase the number of iterations. Duality gap: 0.08551422084413773, tolerance: 0.00025795433893549926\n",
            "  positive)\n",
            "/usr/local/lib/python3.7/dist-packages/sklearn/linear_model/_coordinate_descent.py:476: ConvergenceWarning: Objective did not converge. You might want to increase the number of iterations. Duality gap: 1.402445209976087, tolerance: 0.00032780073539614285\n",
            "  positive)\n"
          ],
          "name": "stderr"
        },
        {
          "output_type": "stream",
          "text": [
            "Epoch 1/2\n",
            "5/5 [==============================] - 7s 17ms/step - loss: 0.1179\n",
            "Epoch 2/2\n",
            "5/5 [==============================] - 0s 19ms/step - loss: 0.1067\n",
            "Trade month: 2013-07-01 00:00:00\n"
          ],
          "name": "stdout"
        },
        {
          "output_type": "stream",
          "text": [
            "/usr/local/lib/python3.7/dist-packages/sklearn/linear_model/_coordinate_descent.py:476: ConvergenceWarning: Objective did not converge. You might want to increase the number of iterations. Duality gap: 0.7478152861379701, tolerance: 0.0001535876845556762\n",
            "  positive)\n",
            "/usr/local/lib/python3.7/dist-packages/sklearn/linear_model/_coordinate_descent.py:476: ConvergenceWarning: Objective did not converge. You might want to increase the number of iterations. Duality gap: 1.2360571018746056, tolerance: 0.00028137775060440906\n",
            "  positive)\n",
            "/usr/local/lib/python3.7/dist-packages/sklearn/linear_model/_coordinate_descent.py:476: ConvergenceWarning: Objective did not converge. You might want to increase the number of iterations. Duality gap: 1.4195790098971754, tolerance: 0.0003404575900684261\n",
            "  positive)\n",
            "/usr/local/lib/python3.7/dist-packages/sklearn/linear_model/_coordinate_descent.py:476: ConvergenceWarning: Objective did not converge. You might want to increase the number of iterations. Duality gap: 0.7464465398372341, tolerance: 0.0001535876845556762\n",
            "  positive)\n",
            "/usr/local/lib/python3.7/dist-packages/sklearn/linear_model/_coordinate_descent.py:476: ConvergenceWarning: Objective did not converge. You might want to increase the number of iterations. Duality gap: 0.17719058477025795, tolerance: 0.00028137775060440906\n",
            "  positive)\n",
            "/usr/local/lib/python3.7/dist-packages/sklearn/linear_model/_coordinate_descent.py:476: ConvergenceWarning: Objective did not converge. You might want to increase the number of iterations. Duality gap: 1.418931729508887, tolerance: 0.0003404575900684261\n",
            "  positive)\n",
            "/usr/local/lib/python3.7/dist-packages/sklearn/linear_model/_coordinate_descent.py:476: ConvergenceWarning: Objective did not converge. You might want to increase the number of iterations. Duality gap: 0.6274004434926932, tolerance: 0.0001535876845556762\n",
            "  positive)\n",
            "/usr/local/lib/python3.7/dist-packages/sklearn/linear_model/_coordinate_descent.py:476: ConvergenceWarning: Objective did not converge. You might want to increase the number of iterations. Duality gap: 1.3569720599183281, tolerance: 0.0003404575900684261\n",
            "  positive)\n"
          ],
          "name": "stderr"
        },
        {
          "output_type": "stream",
          "text": [
            "Epoch 1/2\n",
            "5/5 [==============================] - 7s 19ms/step - loss: 0.1033\n",
            "Epoch 2/2\n",
            "5/5 [==============================] - 0s 16ms/step - loss: 0.1015\n",
            "Trade month: 2013-08-01 00:00:00\n"
          ],
          "name": "stdout"
        },
        {
          "output_type": "stream",
          "text": [
            "/usr/local/lib/python3.7/dist-packages/sklearn/linear_model/_coordinate_descent.py:476: ConvergenceWarning: Objective did not converge. You might want to increase the number of iterations. Duality gap: 0.7439375587384343, tolerance: 0.00015286606890237635\n",
            "  positive)\n",
            "/usr/local/lib/python3.7/dist-packages/sklearn/linear_model/_coordinate_descent.py:476: ConvergenceWarning: Objective did not converge. You might want to increase the number of iterations. Duality gap: 1.277940256940347, tolerance: 0.000285055004253708\n",
            "  positive)\n",
            "/usr/local/lib/python3.7/dist-packages/sklearn/linear_model/_coordinate_descent.py:476: ConvergenceWarning: Objective did not converge. You might want to increase the number of iterations. Duality gap: 1.5632815253398775, tolerance: 0.00034301697313553285\n",
            "  positive)\n",
            "/usr/local/lib/python3.7/dist-packages/sklearn/linear_model/_coordinate_descent.py:476: ConvergenceWarning: Objective did not converge. You might want to increase the number of iterations. Duality gap: 0.7426032418965715, tolerance: 0.00015286606890237635\n",
            "  positive)\n",
            "/usr/local/lib/python3.7/dist-packages/sklearn/linear_model/_coordinate_descent.py:476: ConvergenceWarning: Objective did not converge. You might want to increase the number of iterations. Duality gap: 0.000403978764819346, tolerance: 0.000285055004253708\n",
            "  positive)\n",
            "/usr/local/lib/python3.7/dist-packages/sklearn/linear_model/_coordinate_descent.py:476: ConvergenceWarning: Objective did not converge. You might want to increase the number of iterations. Duality gap: 1.2219636140843664, tolerance: 0.00034301697313553285\n",
            "  positive)\n",
            "/usr/local/lib/python3.7/dist-packages/sklearn/linear_model/_coordinate_descent.py:476: ConvergenceWarning: Objective did not converge. You might want to increase the number of iterations. Duality gap: 0.6262766751906218, tolerance: 0.00015286606890237635\n",
            "  positive)\n",
            "/usr/local/lib/python3.7/dist-packages/sklearn/linear_model/_coordinate_descent.py:476: ConvergenceWarning: Objective did not converge. You might want to increase the number of iterations. Duality gap: 0.007853325790339039, tolerance: 0.00034301697313553285\n",
            "  positive)\n"
          ],
          "name": "stderr"
        },
        {
          "output_type": "stream",
          "text": [
            "Epoch 1/2\n",
            "5/5 [==============================] - 6s 19ms/step - loss: 0.1080\n",
            "Epoch 2/2\n",
            "5/5 [==============================] - 0s 18ms/step - loss: 0.0995\n",
            "Trade month: 2013-09-01 00:00:00\n"
          ],
          "name": "stdout"
        },
        {
          "output_type": "stream",
          "text": [
            "/usr/local/lib/python3.7/dist-packages/sklearn/linear_model/_coordinate_descent.py:476: ConvergenceWarning: Objective did not converge. You might want to increase the number of iterations. Duality gap: 0.7879792812503945, tolerance: 0.0001646081890379262\n",
            "  positive)\n",
            "/usr/local/lib/python3.7/dist-packages/sklearn/linear_model/_coordinate_descent.py:476: ConvergenceWarning: Objective did not converge. You might want to increase the number of iterations. Duality gap: 1.2801553009976878, tolerance: 0.000291965674928333\n",
            "  positive)\n",
            "/usr/local/lib/python3.7/dist-packages/sklearn/linear_model/_coordinate_descent.py:476: ConvergenceWarning: Objective did not converge. You might want to increase the number of iterations. Duality gap: 1.6136961569925532, tolerance: 0.0003534979530902538\n",
            "  positive)\n",
            "/usr/local/lib/python3.7/dist-packages/sklearn/linear_model/_coordinate_descent.py:476: ConvergenceWarning: Objective did not converge. You might want to increase the number of iterations. Duality gap: 0.3588868558571435, tolerance: 0.0001646081890379262\n",
            "  positive)\n",
            "/usr/local/lib/python3.7/dist-packages/sklearn/linear_model/_coordinate_descent.py:476: ConvergenceWarning: Objective did not converge. You might want to increase the number of iterations. Duality gap: 0.0007782674252934108, tolerance: 0.0003534979530902538\n",
            "  positive)\n"
          ],
          "name": "stderr"
        },
        {
          "output_type": "stream",
          "text": [
            "Epoch 1/2\n",
            "5/5 [==============================] - 6s 21ms/step - loss: 0.1075\n",
            "Epoch 2/2\n",
            "5/5 [==============================] - 0s 18ms/step - loss: 0.1136\n",
            "Trade month: 2013-10-01 00:00:00\n"
          ],
          "name": "stdout"
        },
        {
          "output_type": "stream",
          "text": [
            "/usr/local/lib/python3.7/dist-packages/sklearn/linear_model/_coordinate_descent.py:476: ConvergenceWarning: Objective did not converge. You might want to increase the number of iterations. Duality gap: 0.8051484911845473, tolerance: 0.0001683148379731422\n",
            "  positive)\n",
            "/usr/local/lib/python3.7/dist-packages/sklearn/linear_model/_coordinate_descent.py:476: ConvergenceWarning: Objective did not converge. You might want to increase the number of iterations. Duality gap: 1.1113412769153816, tolerance: 0.00029288046015806565\n",
            "  positive)\n",
            "/usr/local/lib/python3.7/dist-packages/sklearn/linear_model/_coordinate_descent.py:476: ConvergenceWarning: Objective did not converge. You might want to increase the number of iterations. Duality gap: 1.6329390737711142, tolerance: 0.00035761514798465213\n",
            "  positive)\n",
            "/usr/local/lib/python3.7/dist-packages/sklearn/linear_model/_coordinate_descent.py:476: ConvergenceWarning: Objective did not converge. You might want to increase the number of iterations. Duality gap: 0.3152028473774975, tolerance: 0.0001683148379731422\n",
            "  positive)\n",
            "/usr/local/lib/python3.7/dist-packages/sklearn/linear_model/_coordinate_descent.py:476: ConvergenceWarning: Objective did not converge. You might want to increase the number of iterations. Duality gap: 0.00021806110707767168, tolerance: 0.0001683148379731422\n",
            "  positive)\n"
          ],
          "name": "stderr"
        },
        {
          "output_type": "stream",
          "text": [
            "Epoch 1/2\n",
            "6/6 [==============================] - 6s 16ms/step - loss: 0.0979\n",
            "Epoch 2/2\n",
            "6/6 [==============================] - 0s 18ms/step - loss: 0.0993\n",
            "Trade month: 2013-11-01 00:00:00\n"
          ],
          "name": "stdout"
        },
        {
          "output_type": "stream",
          "text": [
            "/usr/local/lib/python3.7/dist-packages/sklearn/linear_model/_coordinate_descent.py:476: ConvergenceWarning: Objective did not converge. You might want to increase the number of iterations. Duality gap: 0.8129986122436086, tolerance: 0.0001692872626377171\n",
            "  positive)\n",
            "/usr/local/lib/python3.7/dist-packages/sklearn/linear_model/_coordinate_descent.py:476: ConvergenceWarning: Objective did not converge. You might want to increase the number of iterations. Duality gap: 0.9636750736095027, tolerance: 0.0002937596525790315\n",
            "  positive)\n",
            "/usr/local/lib/python3.7/dist-packages/sklearn/linear_model/_coordinate_descent.py:476: ConvergenceWarning: Objective did not converge. You might want to increase the number of iterations. Duality gap: 1.6513483365812502, tolerance: 0.0003615140606743471\n",
            "  positive)\n"
          ],
          "name": "stderr"
        },
        {
          "output_type": "stream",
          "text": [
            "Epoch 1/2\n",
            "6/6 [==============================] - 7s 20ms/step - loss: 0.0983\n",
            "Epoch 2/2\n",
            "6/6 [==============================] - 0s 18ms/step - loss: 0.1066\n",
            "Trade month: 2013-12-01 00:00:00\n"
          ],
          "name": "stdout"
        },
        {
          "output_type": "stream",
          "text": [
            "/usr/local/lib/python3.7/dist-packages/sklearn/linear_model/_coordinate_descent.py:476: ConvergenceWarning: Objective did not converge. You might want to increase the number of iterations. Duality gap: 0.8065933085927036, tolerance: 0.00016995262268432225\n",
            "  positive)\n",
            "/usr/local/lib/python3.7/dist-packages/sklearn/linear_model/_coordinate_descent.py:476: ConvergenceWarning: Objective did not converge. You might want to increase the number of iterations. Duality gap: 0.9980893734770483, tolerance: 0.00029609414636474227\n",
            "  positive)\n",
            "/usr/local/lib/python3.7/dist-packages/sklearn/linear_model/_coordinate_descent.py:476: ConvergenceWarning: Objective did not converge. You might want to increase the number of iterations. Duality gap: 1.613045816461369, tolerance: 0.000363586518815088\n",
            "  positive)\n"
          ],
          "name": "stderr"
        },
        {
          "output_type": "stream",
          "text": [
            "Epoch 1/2\n",
            "6/6 [==============================] - 7s 17ms/step - loss: 0.1015\n",
            "Epoch 2/2\n",
            "6/6 [==============================] - 0s 17ms/step - loss: 0.0913\n",
            "Trade month: 2014-01-01 00:00:00\n"
          ],
          "name": "stdout"
        },
        {
          "output_type": "stream",
          "text": [
            "/usr/local/lib/python3.7/dist-packages/sklearn/linear_model/_coordinate_descent.py:476: ConvergenceWarning: Objective did not converge. You might want to increase the number of iterations. Duality gap: 0.7649295647748814, tolerance: 0.00016958546659292728\n",
            "  positive)\n",
            "/usr/local/lib/python3.7/dist-packages/sklearn/linear_model/_coordinate_descent.py:476: ConvergenceWarning: Objective did not converge. You might want to increase the number of iterations. Duality gap: 0.0005578984145282462, tolerance: 0.00028823723150494753\n",
            "  positive)\n",
            "/usr/local/lib/python3.7/dist-packages/sklearn/linear_model/_coordinate_descent.py:476: ConvergenceWarning: Objective did not converge. You might want to increase the number of iterations. Duality gap: 1.517029518057759, tolerance: 0.0003494452228740995\n",
            "  positive)\n"
          ],
          "name": "stderr"
        },
        {
          "output_type": "stream",
          "text": [
            "Epoch 1/2\n",
            "7/7 [==============================] - 6s 17ms/step - loss: 0.0913\n",
            "Epoch 2/2\n",
            "7/7 [==============================] - 0s 16ms/step - loss: 0.0955\n",
            "Trade month: 2014-02-01 00:00:00\n"
          ],
          "name": "stdout"
        },
        {
          "output_type": "stream",
          "text": [
            "/usr/local/lib/python3.7/dist-packages/sklearn/linear_model/_coordinate_descent.py:476: ConvergenceWarning: Objective did not converge. You might want to increase the number of iterations. Duality gap: 0.7857424567408984, tolerance: 0.00017160272527423734\n",
            "  positive)\n",
            "/usr/local/lib/python3.7/dist-packages/sklearn/linear_model/_coordinate_descent.py:476: ConvergenceWarning: Objective did not converge. You might want to increase the number of iterations. Duality gap: 1.5233786233967763, tolerance: 0.00034512297576422583\n",
            "  positive)\n"
          ],
          "name": "stderr"
        },
        {
          "output_type": "stream",
          "text": [
            "Epoch 1/2\n",
            "7/7 [==============================] - 6s 17ms/step - loss: 0.0811\n",
            "Epoch 2/2\n",
            "7/7 [==============================] - 0s 16ms/step - loss: 0.0935\n",
            "Trade month: 2014-03-01 00:00:00\n"
          ],
          "name": "stdout"
        },
        {
          "output_type": "stream",
          "text": [
            "/usr/local/lib/python3.7/dist-packages/sklearn/linear_model/_coordinate_descent.py:476: ConvergenceWarning: Objective did not converge. You might want to increase the number of iterations. Duality gap: 0.7830301847310939, tolerance: 0.00016813687293060155\n",
            "  positive)\n"
          ],
          "name": "stderr"
        },
        {
          "output_type": "stream",
          "text": [
            "Epoch 1/2\n",
            "7/7 [==============================] - 7s 20ms/step - loss: 0.0832\n",
            "Epoch 2/2\n",
            "7/7 [==============================] - 0s 18ms/step - loss: 0.0832\n",
            "Trade month: 2014-04-01 00:00:00\n"
          ],
          "name": "stdout"
        },
        {
          "output_type": "stream",
          "text": [
            "/usr/local/lib/python3.7/dist-packages/sklearn/linear_model/_coordinate_descent.py:476: ConvergenceWarning: Objective did not converge. You might want to increase the number of iterations. Duality gap: 0.8743627929565582, tolerance: 0.00018208619238333128\n",
            "  positive)\n"
          ],
          "name": "stderr"
        },
        {
          "output_type": "stream",
          "text": [
            "Epoch 1/2\n",
            "8/8 [==============================] - 7s 19ms/step - loss: 0.0905\n",
            "Epoch 2/2\n",
            "8/8 [==============================] - 0s 17ms/step - loss: 0.0845\n",
            "Trade month: 2014-05-01 00:00:00\n"
          ],
          "name": "stdout"
        },
        {
          "output_type": "stream",
          "text": [
            "/usr/local/lib/python3.7/dist-packages/sklearn/linear_model/_coordinate_descent.py:476: ConvergenceWarning: Objective did not converge. You might want to increase the number of iterations. Duality gap: 0.9533417613632508, tolerance: 0.00019987254737985778\n",
            "  positive)\n"
          ],
          "name": "stderr"
        },
        {
          "output_type": "stream",
          "text": [
            "Epoch 1/2\n",
            "8/8 [==============================] - 6s 20ms/step - loss: 0.0827\n",
            "Epoch 2/2\n",
            "8/8 [==============================] - 0s 18ms/step - loss: 0.0765\n",
            "Trade month: 2014-06-01 00:00:00\n"
          ],
          "name": "stdout"
        },
        {
          "output_type": "stream",
          "text": [
            "/usr/local/lib/python3.7/dist-packages/sklearn/linear_model/_coordinate_descent.py:476: ConvergenceWarning: Objective did not converge. You might want to increase the number of iterations. Duality gap: 0.9716936581577312, tolerance: 0.00021021988746830047\n",
            "  positive)\n",
            "/usr/local/lib/python3.7/dist-packages/sklearn/linear_model/_coordinate_descent.py:476: ConvergenceWarning: Objective did not converge. You might want to increase the number of iterations. Duality gap: 1.4429065521949902, tolerance: 0.0003235827072161853\n",
            "  positive)\n"
          ],
          "name": "stderr"
        },
        {
          "output_type": "stream",
          "text": [
            "Epoch 1/2\n",
            "8/8 [==============================] - 6s 19ms/step - loss: 0.0813\n",
            "Epoch 2/2\n",
            "8/8 [==============================] - 0s 17ms/step - loss: 0.0849\n",
            "Trade month: 2014-07-01 00:00:00\n"
          ],
          "name": "stdout"
        },
        {
          "output_type": "stream",
          "text": [
            "/usr/local/lib/python3.7/dist-packages/sklearn/linear_model/_coordinate_descent.py:476: ConvergenceWarning: Objective did not converge. You might want to increase the number of iterations. Duality gap: 1.106166487325766, tolerance: 0.00022756185428191294\n",
            "  positive)\n",
            "/usr/local/lib/python3.7/dist-packages/sklearn/linear_model/_coordinate_descent.py:476: ConvergenceWarning: Objective did not converge. You might want to increase the number of iterations. Duality gap: 1.6331291183028884, tolerance: 0.0003476454262749319\n",
            "  positive)\n",
            "/usr/local/lib/python3.7/dist-packages/sklearn/linear_model/_coordinate_descent.py:476: ConvergenceWarning: Objective did not converge. You might want to increase the number of iterations. Duality gap: 0.0006620293382120224, tolerance: 0.0003476454262749319\n",
            "  positive)\n"
          ],
          "name": "stderr"
        },
        {
          "output_type": "stream",
          "text": [
            "Epoch 1/2\n",
            "9/9 [==============================] - 7s 17ms/step - loss: 0.0851\n",
            "Epoch 2/2\n",
            "9/9 [==============================] - 0s 15ms/step - loss: 0.0857\n",
            "Trade month: 2014-08-01 00:00:00\n"
          ],
          "name": "stdout"
        },
        {
          "output_type": "stream",
          "text": [
            "/usr/local/lib/python3.7/dist-packages/sklearn/linear_model/_coordinate_descent.py:476: ConvergenceWarning: Objective did not converge. You might want to increase the number of iterations. Duality gap: 1.078800347787075, tolerance: 0.0002222020551496081\n",
            "  positive)\n",
            "/usr/local/lib/python3.7/dist-packages/sklearn/linear_model/_coordinate_descent.py:476: ConvergenceWarning: Objective did not converge. You might want to increase the number of iterations. Duality gap: 1.262326647741499, tolerance: 0.0002706007878245046\n",
            "  positive)\n",
            "/usr/local/lib/python3.7/dist-packages/sklearn/linear_model/_coordinate_descent.py:476: ConvergenceWarning: Objective did not converge. You might want to increase the number of iterations. Duality gap: 1.5360889374249513, tolerance: 0.0003235926811057425\n",
            "  positive)\n",
            "/usr/local/lib/python3.7/dist-packages/sklearn/linear_model/_coordinate_descent.py:476: ConvergenceWarning: Objective did not converge. You might want to increase the number of iterations. Duality gap: 0.03807695220837215, tolerance: 0.0002222020551496081\n",
            "  positive)\n",
            "/usr/local/lib/python3.7/dist-packages/sklearn/linear_model/_coordinate_descent.py:476: ConvergenceWarning: Objective did not converge. You might want to increase the number of iterations. Duality gap: 1.1389877650595481, tolerance: 0.0003235926811057425\n",
            "  positive)\n",
            "/usr/local/lib/python3.7/dist-packages/sklearn/linear_model/_coordinate_descent.py:476: ConvergenceWarning: Objective did not converge. You might want to increase the number of iterations. Duality gap: 0.005232469001827056, tolerance: 0.0003235926811057425\n",
            "  positive)\n"
          ],
          "name": "stderr"
        },
        {
          "output_type": "stream",
          "text": [
            "Epoch 1/2\n",
            "9/9 [==============================] - 7s 18ms/step - loss: 0.0829\n",
            "Epoch 2/2\n",
            "9/9 [==============================] - 0s 16ms/step - loss: 0.0799\n",
            "Trade month: 2014-09-01 00:00:00\n"
          ],
          "name": "stdout"
        },
        {
          "output_type": "stream",
          "text": [
            "/usr/local/lib/python3.7/dist-packages/sklearn/linear_model/_coordinate_descent.py:476: ConvergenceWarning: Objective did not converge. You might want to increase the number of iterations. Duality gap: 1.1047049928575536, tolerance: 0.00022624704478047312\n",
            "  positive)\n",
            "/usr/local/lib/python3.7/dist-packages/sklearn/linear_model/_coordinate_descent.py:476: ConvergenceWarning: Objective did not converge. You might want to increase the number of iterations. Duality gap: 1.2532442739854692, tolerance: 0.0002668942903120156\n",
            "  positive)\n",
            "/usr/local/lib/python3.7/dist-packages/sklearn/linear_model/_coordinate_descent.py:476: ConvergenceWarning: Objective did not converge. You might want to increase the number of iterations. Duality gap: 1.5773431082051566, tolerance: 0.0003285865412352499\n",
            "  positive)\n",
            "/usr/local/lib/python3.7/dist-packages/sklearn/linear_model/_coordinate_descent.py:476: ConvergenceWarning: Objective did not converge. You might want to increase the number of iterations. Duality gap: 0.1121821018194098, tolerance: 0.00022624704478047312\n",
            "  positive)\n",
            "/usr/local/lib/python3.7/dist-packages/sklearn/linear_model/_coordinate_descent.py:476: ConvergenceWarning: Objective did not converge. You might want to increase the number of iterations. Duality gap: 0.4882235659091809, tolerance: 0.0003285865412352499\n",
            "  positive)\n"
          ],
          "name": "stderr"
        },
        {
          "output_type": "stream",
          "text": [
            "Epoch 1/2\n",
            "9/9 [==============================] - 6s 17ms/step - loss: 0.0858\n",
            "Epoch 2/2\n",
            "9/9 [==============================] - 0s 17ms/step - loss: 0.0862\n",
            "Trade month: 2014-10-01 00:00:00\n"
          ],
          "name": "stdout"
        },
        {
          "output_type": "stream",
          "text": [
            "/usr/local/lib/python3.7/dist-packages/sklearn/linear_model/_coordinate_descent.py:476: ConvergenceWarning: Objective did not converge. You might want to increase the number of iterations. Duality gap: 1.1601600816059183, tolerance: 0.00023792303614480193\n",
            "  positive)\n",
            "/usr/local/lib/python3.7/dist-packages/sklearn/linear_model/_coordinate_descent.py:476: ConvergenceWarning: Objective did not converge. You might want to increase the number of iterations. Duality gap: 1.3227856009829357, tolerance: 0.00028050048474189635\n",
            "  positive)\n",
            "/usr/local/lib/python3.7/dist-packages/sklearn/linear_model/_coordinate_descent.py:476: ConvergenceWarning: Objective did not converge. You might want to increase the number of iterations. Duality gap: 1.6060055665597386, tolerance: 0.0003368458089227118\n",
            "  positive)\n",
            "/usr/local/lib/python3.7/dist-packages/sklearn/linear_model/_coordinate_descent.py:476: ConvergenceWarning: Objective did not converge. You might want to increase the number of iterations. Duality gap: 0.16081427419631455, tolerance: 0.00023792303614480193\n",
            "  positive)\n",
            "/usr/local/lib/python3.7/dist-packages/sklearn/linear_model/_coordinate_descent.py:476: ConvergenceWarning: Objective did not converge. You might want to increase the number of iterations. Duality gap: 0.000815486431600565, tolerance: 0.00028050048474189635\n",
            "  positive)\n",
            "/usr/local/lib/python3.7/dist-packages/sklearn/linear_model/_coordinate_descent.py:476: ConvergenceWarning: Objective did not converge. You might want to increase the number of iterations. Duality gap: 1.3420526741825873, tolerance: 0.0003368458089227118\n",
            "  positive)\n",
            "/usr/local/lib/python3.7/dist-packages/sklearn/linear_model/_coordinate_descent.py:476: ConvergenceWarning: Objective did not converge. You might want to increase the number of iterations. Duality gap: 0.014859766121268603, tolerance: 0.0003368458089227118\n",
            "  positive)\n"
          ],
          "name": "stderr"
        },
        {
          "output_type": "stream",
          "text": [
            "Epoch 1/2\n",
            "9/9 [==============================] - 6s 18ms/step - loss: 0.0922\n",
            "Epoch 2/2\n",
            "9/9 [==============================] - 0s 18ms/step - loss: 0.0800\n",
            "Trade month: 2014-11-01 00:00:00\n"
          ],
          "name": "stdout"
        },
        {
          "output_type": "stream",
          "text": [
            "/usr/local/lib/python3.7/dist-packages/sklearn/linear_model/_coordinate_descent.py:476: ConvergenceWarning: Objective did not converge. You might want to increase the number of iterations. Duality gap: 1.103497299302948, tolerance: 0.00022661434631347273\n",
            "  positive)\n",
            "/usr/local/lib/python3.7/dist-packages/sklearn/linear_model/_coordinate_descent.py:476: ConvergenceWarning: Objective did not converge. You might want to increase the number of iterations. Duality gap: 1.3235248776754318, tolerance: 0.00027855987873603007\n",
            "  positive)\n",
            "/usr/local/lib/python3.7/dist-packages/sklearn/linear_model/_coordinate_descent.py:476: ConvergenceWarning: Objective did not converge. You might want to increase the number of iterations. Duality gap: 1.5285375012276115, tolerance: 0.0003202046360821544\n",
            "  positive)\n",
            "/usr/local/lib/python3.7/dist-packages/sklearn/linear_model/_coordinate_descent.py:476: ConvergenceWarning: Objective did not converge. You might want to increase the number of iterations. Duality gap: 0.007821874874941681, tolerance: 0.00027855987873603007\n",
            "  positive)\n",
            "/usr/local/lib/python3.7/dist-packages/sklearn/linear_model/_coordinate_descent.py:476: ConvergenceWarning: Objective did not converge. You might want to increase the number of iterations. Duality gap: 0.7915778990743884, tolerance: 0.0003202046360821544\n",
            "  positive)\n",
            "/usr/local/lib/python3.7/dist-packages/sklearn/linear_model/_coordinate_descent.py:476: ConvergenceWarning: Objective did not converge. You might want to increase the number of iterations. Duality gap: 0.0009567787009769901, tolerance: 0.0003202046360821544\n",
            "  positive)\n"
          ],
          "name": "stderr"
        },
        {
          "output_type": "stream",
          "text": [
            "Epoch 1/2\n",
            "10/10 [==============================] - 6s 19ms/step - loss: 0.0833\n",
            "Epoch 2/2\n",
            "10/10 [==============================] - 0s 19ms/step - loss: 0.0825\n",
            "Trade month: 2014-12-01 00:00:00\n"
          ],
          "name": "stdout"
        },
        {
          "output_type": "stream",
          "text": [
            "/usr/local/lib/python3.7/dist-packages/sklearn/linear_model/_coordinate_descent.py:476: ConvergenceWarning: Objective did not converge. You might want to increase the number of iterations. Duality gap: 1.030843661079708, tolerance: 0.00021270525548316678\n",
            "  positive)\n",
            "/usr/local/lib/python3.7/dist-packages/sklearn/linear_model/_coordinate_descent.py:476: ConvergenceWarning: Objective did not converge. You might want to increase the number of iterations. Duality gap: 1.4405679304387966, tolerance: 0.00030885660484586327\n",
            "  positive)\n",
            "/usr/local/lib/python3.7/dist-packages/sklearn/linear_model/_coordinate_descent.py:476: ConvergenceWarning: Objective did not converge. You might want to increase the number of iterations. Duality gap: 1.536642070321345, tolerance: 0.00033077996608432973\n",
            "  positive)\n",
            "/usr/local/lib/python3.7/dist-packages/sklearn/linear_model/_coordinate_descent.py:476: ConvergenceWarning: Objective did not converge. You might want to increase the number of iterations. Duality gap: 0.2294988301297034, tolerance: 0.00030885660484586327\n",
            "  positive)\n",
            "/usr/local/lib/python3.7/dist-packages/sklearn/linear_model/_coordinate_descent.py:476: ConvergenceWarning: Objective did not converge. You might want to increase the number of iterations. Duality gap: 1.4138551915694646, tolerance: 0.00033077996608432973\n",
            "  positive)\n"
          ],
          "name": "stderr"
        },
        {
          "output_type": "stream",
          "text": [
            "Epoch 1/2\n",
            "10/10 [==============================] - 7s 18ms/step - loss: 0.0833\n",
            "Epoch 2/2\n",
            "10/10 [==============================] - 0s 17ms/step - loss: 0.0751\n",
            "Trade month: 2015-01-01 00:00:00\n"
          ],
          "name": "stdout"
        },
        {
          "output_type": "stream",
          "text": [
            "/usr/local/lib/python3.7/dist-packages/sklearn/linear_model/_coordinate_descent.py:476: ConvergenceWarning: Objective did not converge. You might want to increase the number of iterations. Duality gap: 1.0379944381992081, tolerance: 0.00021341679371319333\n",
            "  positive)\n",
            "/usr/local/lib/python3.7/dist-packages/sklearn/linear_model/_coordinate_descent.py:476: ConvergenceWarning: Objective did not converge. You might want to increase the number of iterations. Duality gap: 1.482510676028948, tolerance: 0.00031715423180556296\n",
            "  positive)\n",
            "/usr/local/lib/python3.7/dist-packages/sklearn/linear_model/_coordinate_descent.py:476: ConvergenceWarning: Objective did not converge. You might want to increase the number of iterations. Duality gap: 1.575359353400474, tolerance: 0.0003369992588584688\n",
            "  positive)\n",
            "/usr/local/lib/python3.7/dist-packages/sklearn/linear_model/_coordinate_descent.py:476: ConvergenceWarning: Objective did not converge. You might want to increase the number of iterations. Duality gap: 0.21689223282471448, tolerance: 0.00031715423180556296\n",
            "  positive)\n",
            "/usr/local/lib/python3.7/dist-packages/sklearn/linear_model/_coordinate_descent.py:476: ConvergenceWarning: Objective did not converge. You might want to increase the number of iterations. Duality gap: 0.8603076406398941, tolerance: 0.0003369992588584688\n",
            "  positive)\n"
          ],
          "name": "stderr"
        },
        {
          "output_type": "stream",
          "text": [
            "Epoch 1/2\n",
            "10/10 [==============================] - 7s 19ms/step - loss: 0.0909\n",
            "Epoch 2/2\n",
            "10/10 [==============================] - 0s 17ms/step - loss: 0.0802\n",
            "Trade month: 2015-02-01 00:00:00\n"
          ],
          "name": "stdout"
        },
        {
          "output_type": "stream",
          "text": [
            "/usr/local/lib/python3.7/dist-packages/sklearn/linear_model/_coordinate_descent.py:476: ConvergenceWarning: Objective did not converge. You might want to increase the number of iterations. Duality gap: 1.0488819300762804, tolerance: 0.00021430816685272496\n",
            "  positive)\n",
            "/usr/local/lib/python3.7/dist-packages/sklearn/linear_model/_coordinate_descent.py:476: ConvergenceWarning: Objective did not converge. You might want to increase the number of iterations. Duality gap: 1.4227741941944874, tolerance: 0.0003060065040029205\n",
            "  positive)\n",
            "/usr/local/lib/python3.7/dist-packages/sklearn/linear_model/_coordinate_descent.py:476: ConvergenceWarning: Objective did not converge. You might want to increase the number of iterations. Duality gap: 1.5212734551638263, tolerance: 0.000321722292547831\n",
            "  positive)\n",
            "/usr/local/lib/python3.7/dist-packages/sklearn/linear_model/_coordinate_descent.py:476: ConvergenceWarning: Objective did not converge. You might want to increase the number of iterations. Duality gap: 0.007104443323710408, tolerance: 0.00021430816685272496\n",
            "  positive)\n",
            "/usr/local/lib/python3.7/dist-packages/sklearn/linear_model/_coordinate_descent.py:476: ConvergenceWarning: Objective did not converge. You might want to increase the number of iterations. Duality gap: 0.27495855843892625, tolerance: 0.0003060065040029205\n",
            "  positive)\n",
            "/usr/local/lib/python3.7/dist-packages/sklearn/linear_model/_coordinate_descent.py:476: ConvergenceWarning: Objective did not converge. You might want to increase the number of iterations. Duality gap: 1.0315576989082753, tolerance: 0.000321722292547831\n",
            "  positive)\n",
            "/usr/local/lib/python3.7/dist-packages/sklearn/linear_model/_coordinate_descent.py:476: ConvergenceWarning: Objective did not converge. You might want to increase the number of iterations. Duality gap: 0.0030209333064457056, tolerance: 0.000321722292547831\n",
            "  positive)\n"
          ],
          "name": "stderr"
        },
        {
          "output_type": "stream",
          "text": [
            "Epoch 1/2\n",
            "11/11 [==============================] - 6s 17ms/step - loss: 0.0797\n",
            "Epoch 2/2\n",
            "11/11 [==============================] - 0s 16ms/step - loss: 0.0786\n",
            "Trade month: 2015-03-01 00:00:00\n"
          ],
          "name": "stdout"
        },
        {
          "output_type": "stream",
          "text": [
            "/usr/local/lib/python3.7/dist-packages/sklearn/linear_model/_coordinate_descent.py:476: ConvergenceWarning: Objective did not converge. You might want to increase the number of iterations. Duality gap: 1.0682465314431506, tolerance: 0.00021771166984767523\n",
            "  positive)\n",
            "/usr/local/lib/python3.7/dist-packages/sklearn/linear_model/_coordinate_descent.py:476: ConvergenceWarning: Objective did not converge. You might want to increase the number of iterations. Duality gap: 1.448352642658835, tolerance: 0.0003078272139706962\n",
            "  positive)\n",
            "/usr/local/lib/python3.7/dist-packages/sklearn/linear_model/_coordinate_descent.py:476: ConvergenceWarning: Objective did not converge. You might want to increase the number of iterations. Duality gap: 1.593063402762218, tolerance: 0.0003323581719876835\n",
            "  positive)\n",
            "/usr/local/lib/python3.7/dist-packages/sklearn/linear_model/_coordinate_descent.py:476: ConvergenceWarning: Objective did not converge. You might want to increase the number of iterations. Duality gap: 0.7665977792394374, tolerance: 0.00021771166984767523\n",
            "  positive)\n",
            "/usr/local/lib/python3.7/dist-packages/sklearn/linear_model/_coordinate_descent.py:476: ConvergenceWarning: Objective did not converge. You might want to increase the number of iterations. Duality gap: 0.21930676737399524, tolerance: 0.0003078272139706962\n",
            "  positive)\n",
            "/usr/local/lib/python3.7/dist-packages/sklearn/linear_model/_coordinate_descent.py:476: ConvergenceWarning: Objective did not converge. You might want to increase the number of iterations. Duality gap: 0.8397872416890688, tolerance: 0.0003323581719876835\n",
            "  positive)\n",
            "/usr/local/lib/python3.7/dist-packages/sklearn/linear_model/_coordinate_descent.py:476: ConvergenceWarning: Objective did not converge. You might want to increase the number of iterations. Duality gap: 0.002942982013510509, tolerance: 0.00021771166984767523\n",
            "  positive)\n",
            "/usr/local/lib/python3.7/dist-packages/sklearn/linear_model/_coordinate_descent.py:476: ConvergenceWarning: Objective did not converge. You might want to increase the number of iterations. Duality gap: 0.0010619221433456616, tolerance: 0.0003323581719876835\n",
            "  positive)\n"
          ],
          "name": "stderr"
        },
        {
          "output_type": "stream",
          "text": [
            "Epoch 1/2\n",
            "11/11 [==============================] - 6s 18ms/step - loss: 0.0774\n",
            "Epoch 2/2\n",
            "11/11 [==============================] - 0s 18ms/step - loss: 0.0792\n",
            "Trade month: 2015-04-01 00:00:00\n"
          ],
          "name": "stdout"
        },
        {
          "output_type": "stream",
          "text": [
            "/usr/local/lib/python3.7/dist-packages/sklearn/linear_model/_coordinate_descent.py:476: ConvergenceWarning: Objective did not converge. You might want to increase the number of iterations. Duality gap: 1.104840326446625, tolerance: 0.00022464988372442623\n",
            "  positive)\n",
            "/usr/local/lib/python3.7/dist-packages/sklearn/linear_model/_coordinate_descent.py:476: ConvergenceWarning: Objective did not converge. You might want to increase the number of iterations. Duality gap: 1.4780650253180316, tolerance: 0.0003136609527090522\n",
            "  positive)\n",
            "/usr/local/lib/python3.7/dist-packages/sklearn/linear_model/_coordinate_descent.py:476: ConvergenceWarning: Objective did not converge. You might want to increase the number of iterations. Duality gap: 1.6147097175776208, tolerance: 0.00033883599945986145\n",
            "  positive)\n",
            "/usr/local/lib/python3.7/dist-packages/sklearn/linear_model/_coordinate_descent.py:476: ConvergenceWarning: Objective did not converge. You might want to increase the number of iterations. Duality gap: 1.079627589075619, tolerance: 0.00022464988372442623\n",
            "  positive)\n",
            "/usr/local/lib/python3.7/dist-packages/sklearn/linear_model/_coordinate_descent.py:476: ConvergenceWarning: Objective did not converge. You might want to increase the number of iterations. Duality gap: 0.13057702751305333, tolerance: 0.0003136609527090522\n",
            "  positive)\n",
            "/usr/local/lib/python3.7/dist-packages/sklearn/linear_model/_coordinate_descent.py:476: ConvergenceWarning: Objective did not converge. You might want to increase the number of iterations. Duality gap: 1.0831614410134698, tolerance: 0.00033883599945986145\n",
            "  positive)\n",
            "/usr/local/lib/python3.7/dist-packages/sklearn/linear_model/_coordinate_descent.py:476: ConvergenceWarning: Objective did not converge. You might want to increase the number of iterations. Duality gap: 0.23649144697667657, tolerance: 0.00022464988372442623\n",
            "  positive)\n",
            "/usr/local/lib/python3.7/dist-packages/sklearn/linear_model/_coordinate_descent.py:476: ConvergenceWarning: Objective did not converge. You might want to increase the number of iterations. Duality gap: 0.0005520574562036806, tolerance: 0.00033883599945986145\n",
            "  positive)\n"
          ],
          "name": "stderr"
        },
        {
          "output_type": "stream",
          "text": [
            "Epoch 1/2\n",
            "11/11 [==============================] - 7s 19ms/step - loss: 0.0779\n",
            "Epoch 2/2\n",
            "11/11 [==============================] - 0s 17ms/step - loss: 0.0764\n",
            "Trade month: 2015-05-01 00:00:00\n"
          ],
          "name": "stdout"
        },
        {
          "output_type": "stream",
          "text": [
            "/usr/local/lib/python3.7/dist-packages/sklearn/linear_model/_coordinate_descent.py:476: ConvergenceWarning: Objective did not converge. You might want to increase the number of iterations. Duality gap: 1.1329347304180712, tolerance: 0.00023000319400845562\n",
            "  positive)\n",
            "/usr/local/lib/python3.7/dist-packages/sklearn/linear_model/_coordinate_descent.py:476: ConvergenceWarning: Objective did not converge. You might want to increase the number of iterations. Duality gap: 1.2735006880437842, tolerance: 0.0002736005547933369\n",
            "  positive)\n",
            "/usr/local/lib/python3.7/dist-packages/sklearn/linear_model/_coordinate_descent.py:476: ConvergenceWarning: Objective did not converge. You might want to increase the number of iterations. Duality gap: 1.427646268946999, tolerance: 0.0003003903866838631\n",
            "  positive)\n",
            "/usr/local/lib/python3.7/dist-packages/sklearn/linear_model/_coordinate_descent.py:476: ConvergenceWarning: Objective did not converge. You might want to increase the number of iterations. Duality gap: 1.121583999650702, tolerance: 0.00023000319400845562\n",
            "  positive)\n",
            "/usr/local/lib/python3.7/dist-packages/sklearn/linear_model/_coordinate_descent.py:476: ConvergenceWarning: Objective did not converge. You might want to increase the number of iterations. Duality gap: 1.0835580936067928, tolerance: 0.0003003903866838631\n",
            "  positive)\n",
            "/usr/local/lib/python3.7/dist-packages/sklearn/linear_model/_coordinate_descent.py:476: ConvergenceWarning: Objective did not converge. You might want to increase the number of iterations. Duality gap: 0.5002316126155615, tolerance: 0.00023000319400845562\n",
            "  positive)\n"
          ],
          "name": "stderr"
        },
        {
          "output_type": "stream",
          "text": [
            "Epoch 1/2\n",
            "11/11 [==============================] - 7s 20ms/step - loss: 0.0786\n",
            "Epoch 2/2\n",
            "11/11 [==============================] - 0s 18ms/step - loss: 0.0745\n",
            "Trade month: 2015-06-01 00:00:00\n"
          ],
          "name": "stdout"
        },
        {
          "output_type": "stream",
          "text": [
            "/usr/local/lib/python3.7/dist-packages/sklearn/linear_model/_coordinate_descent.py:476: ConvergenceWarning: Objective did not converge. You might want to increase the number of iterations. Duality gap: 1.2355518631075026, tolerance: 0.0002491152661136884\n",
            "  positive)\n",
            "/usr/local/lib/python3.7/dist-packages/sklearn/linear_model/_coordinate_descent.py:476: ConvergenceWarning: Objective did not converge. You might want to increase the number of iterations. Duality gap: 1.307552179089919, tolerance: 0.0002776838455686914\n",
            "  positive)\n",
            "/usr/local/lib/python3.7/dist-packages/sklearn/linear_model/_coordinate_descent.py:476: ConvergenceWarning: Objective did not converge. You might want to increase the number of iterations. Duality gap: 1.4622329670525214, tolerance: 0.0003020518812006945\n",
            "  positive)\n",
            "/usr/local/lib/python3.7/dist-packages/sklearn/linear_model/_coordinate_descent.py:476: ConvergenceWarning: Objective did not converge. You might want to increase the number of iterations. Duality gap: 1.2312646202516482, tolerance: 0.0002491152661136884\n",
            "  positive)\n",
            "/usr/local/lib/python3.7/dist-packages/sklearn/linear_model/_coordinate_descent.py:476: ConvergenceWarning: Objective did not converge. You might want to increase the number of iterations. Duality gap: 0.09774415150451232, tolerance: 0.0002776838455686914\n",
            "  positive)\n",
            "/usr/local/lib/python3.7/dist-packages/sklearn/linear_model/_coordinate_descent.py:476: ConvergenceWarning: Objective did not converge. You might want to increase the number of iterations. Duality gap: 0.372621775050636, tolerance: 0.0003020518812006945\n",
            "  positive)\n",
            "/usr/local/lib/python3.7/dist-packages/sklearn/linear_model/_coordinate_descent.py:476: ConvergenceWarning: Objective did not converge. You might want to increase the number of iterations. Duality gap: 0.8963402578443, tolerance: 0.0002491152661136884\n",
            "  positive)\n"
          ],
          "name": "stderr"
        },
        {
          "output_type": "stream",
          "text": [
            "Epoch 1/2\n",
            "12/12 [==============================] - 6s 18ms/step - loss: 0.0805\n",
            "Epoch 2/2\n",
            "12/12 [==============================] - 0s 16ms/step - loss: 0.0825\n",
            "Trade month: 2015-07-01 00:00:00\n"
          ],
          "name": "stdout"
        },
        {
          "output_type": "stream",
          "text": [
            "/usr/local/lib/python3.7/dist-packages/sklearn/linear_model/_coordinate_descent.py:476: ConvergenceWarning: Objective did not converge. You might want to increase the number of iterations. Duality gap: 1.2622486014479732, tolerance: 0.00025499834134092757\n",
            "  positive)\n",
            "/usr/local/lib/python3.7/dist-packages/sklearn/linear_model/_coordinate_descent.py:476: ConvergenceWarning: Objective did not converge. You might want to increase the number of iterations. Duality gap: 1.250916190521291, tolerance: 0.0002750063958179873\n",
            "  positive)\n",
            "/usr/local/lib/python3.7/dist-packages/sklearn/linear_model/_coordinate_descent.py:476: ConvergenceWarning: Objective did not converge. You might want to increase the number of iterations. Duality gap: 1.4425957243483851, tolerance: 0.00030253098869309985\n",
            "  positive)\n",
            "/usr/local/lib/python3.7/dist-packages/sklearn/linear_model/_coordinate_descent.py:476: ConvergenceWarning: Objective did not converge. You might want to increase the number of iterations. Duality gap: 1.2602243170962764, tolerance: 0.00025499834134092757\n",
            "  positive)\n",
            "/usr/local/lib/python3.7/dist-packages/sklearn/linear_model/_coordinate_descent.py:476: ConvergenceWarning: Objective did not converge. You might want to increase the number of iterations. Duality gap: 0.660210565340286, tolerance: 0.0002750063958179873\n",
            "  positive)\n",
            "/usr/local/lib/python3.7/dist-packages/sklearn/linear_model/_coordinate_descent.py:476: ConvergenceWarning: Objective did not converge. You might want to increase the number of iterations. Duality gap: 1.273472028168528, tolerance: 0.00030253098869309985\n",
            "  positive)\n",
            "/usr/local/lib/python3.7/dist-packages/sklearn/linear_model/_coordinate_descent.py:476: ConvergenceWarning: Objective did not converge. You might want to increase the number of iterations. Duality gap: 1.0814955713931023, tolerance: 0.00025499834134092757\n",
            "  positive)\n",
            "/usr/local/lib/python3.7/dist-packages/sklearn/linear_model/_coordinate_descent.py:476: ConvergenceWarning: Objective did not converge. You might want to increase the number of iterations. Duality gap: 0.026093400412217083, tolerance: 0.00030253098869309985\n",
            "  positive)\n"
          ],
          "name": "stderr"
        },
        {
          "output_type": "stream",
          "text": [
            "Epoch 1/2\n",
            "12/12 [==============================] - 6s 18ms/step - loss: 0.0730\n",
            "Epoch 2/2\n",
            "12/12 [==============================] - 0s 19ms/step - loss: 0.0812\n",
            "Trade month: 2015-08-01 00:00:00\n"
          ],
          "name": "stdout"
        },
        {
          "output_type": "stream",
          "text": [
            "/usr/local/lib/python3.7/dist-packages/sklearn/linear_model/_coordinate_descent.py:476: ConvergenceWarning: Objective did not converge. You might want to increase the number of iterations. Duality gap: 1.2972936173831315, tolerance: 0.0002621194859570788\n",
            "  positive)\n",
            "/usr/local/lib/python3.7/dist-packages/sklearn/linear_model/_coordinate_descent.py:476: ConvergenceWarning: Objective did not converge. You might want to increase the number of iterations. Duality gap: 1.291323438873474, tolerance: 0.0002872700828706923\n",
            "  positive)\n",
            "/usr/local/lib/python3.7/dist-packages/sklearn/linear_model/_coordinate_descent.py:476: ConvergenceWarning: Objective did not converge. You might want to increase the number of iterations. Duality gap: 1.5000070398824488, tolerance: 0.00031302679498903515\n",
            "  positive)\n",
            "/usr/local/lib/python3.7/dist-packages/sklearn/linear_model/_coordinate_descent.py:476: ConvergenceWarning: Objective did not converge. You might want to increase the number of iterations. Duality gap: 1.2950963841172316, tolerance: 0.0002621194859570788\n",
            "  positive)\n",
            "/usr/local/lib/python3.7/dist-packages/sklearn/linear_model/_coordinate_descent.py:476: ConvergenceWarning: Objective did not converge. You might want to increase the number of iterations. Duality gap: 1.180962091096207, tolerance: 0.0002872700828706923\n",
            "  positive)\n",
            "/usr/local/lib/python3.7/dist-packages/sklearn/linear_model/_coordinate_descent.py:476: ConvergenceWarning: Objective did not converge. You might want to increase the number of iterations. Duality gap: 1.0018544901752193, tolerance: 0.00031302679498903515\n",
            "  positive)\n",
            "/usr/local/lib/python3.7/dist-packages/sklearn/linear_model/_coordinate_descent.py:476: ConvergenceWarning: Objective did not converge. You might want to increase the number of iterations. Duality gap: 1.102291834525347, tolerance: 0.0002621194859570788\n",
            "  positive)\n",
            "/usr/local/lib/python3.7/dist-packages/sklearn/linear_model/_coordinate_descent.py:476: ConvergenceWarning: Objective did not converge. You might want to increase the number of iterations. Duality gap: 0.03545469201136564, tolerance: 0.0002872700828706923\n",
            "  positive)\n",
            "/usr/local/lib/python3.7/dist-packages/sklearn/linear_model/_coordinate_descent.py:476: ConvergenceWarning: Objective did not converge. You might want to increase the number of iterations. Duality gap: 0.002734027841731823, tolerance: 0.00031302679498903515\n",
            "  positive)\n"
          ],
          "name": "stderr"
        },
        {
          "output_type": "stream",
          "text": [
            "Epoch 1/2\n",
            "12/12 [==============================] - 6s 18ms/step - loss: 0.0768\n",
            "Epoch 2/2\n",
            "12/12 [==============================] - 0s 18ms/step - loss: 0.0785\n",
            "Trade month: 2015-09-01 00:00:00\n"
          ],
          "name": "stdout"
        },
        {
          "output_type": "stream",
          "text": [
            "/usr/local/lib/python3.7/dist-packages/sklearn/linear_model/_coordinate_descent.py:476: ConvergenceWarning: Objective did not converge. You might want to increase the number of iterations. Duality gap: 1.3201956694005232, tolerance: 0.00026917476160339445\n",
            "  positive)\n",
            "/usr/local/lib/python3.7/dist-packages/sklearn/linear_model/_coordinate_descent.py:476: ConvergenceWarning: Objective did not converge. You might want to increase the number of iterations. Duality gap: 1.26633213190798, tolerance: 0.00028172194448994336\n",
            "  positive)\n",
            "/usr/local/lib/python3.7/dist-packages/sklearn/linear_model/_coordinate_descent.py:476: ConvergenceWarning: Objective did not converge. You might want to increase the number of iterations. Duality gap: 1.5776048697871703, tolerance: 0.0003233144623317128\n",
            "  positive)\n",
            "/usr/local/lib/python3.7/dist-packages/sklearn/linear_model/_coordinate_descent.py:476: ConvergenceWarning: Objective did not converge. You might want to increase the number of iterations. Duality gap: 1.3174254269599837, tolerance: 0.00026917476160339445\n",
            "  positive)\n",
            "/usr/local/lib/python3.7/dist-packages/sklearn/linear_model/_coordinate_descent.py:476: ConvergenceWarning: Objective did not converge. You might want to increase the number of iterations. Duality gap: 1.2113304453174962, tolerance: 0.00028172194448994336\n",
            "  positive)\n",
            "/usr/local/lib/python3.7/dist-packages/sklearn/linear_model/_coordinate_descent.py:476: ConvergenceWarning: Objective did not converge. You might want to increase the number of iterations. Duality gap: 1.4043865965398499, tolerance: 0.0003233144623317128\n",
            "  positive)\n",
            "/usr/local/lib/python3.7/dist-packages/sklearn/linear_model/_coordinate_descent.py:476: ConvergenceWarning: Objective did not converge. You might want to increase the number of iterations. Duality gap: 1.028997442100274, tolerance: 0.00026917476160339445\n",
            "  positive)\n",
            "/usr/local/lib/python3.7/dist-packages/sklearn/linear_model/_coordinate_descent.py:476: ConvergenceWarning: Objective did not converge. You might want to increase the number of iterations. Duality gap: 0.03226026497918921, tolerance: 0.0003233144623317128\n",
            "  positive)\n"
          ],
          "name": "stderr"
        },
        {
          "output_type": "stream",
          "text": [
            "Epoch 1/2\n",
            "13/13 [==============================] - 7s 16ms/step - loss: 0.0729\n",
            "Epoch 2/2\n",
            "13/13 [==============================] - 0s 18ms/step - loss: 0.0787\n",
            "Trade month: 2015-10-01 00:00:00\n"
          ],
          "name": "stdout"
        },
        {
          "output_type": "stream",
          "text": [
            "/usr/local/lib/python3.7/dist-packages/sklearn/linear_model/_coordinate_descent.py:476: ConvergenceWarning: Objective did not converge. You might want to increase the number of iterations. Duality gap: 1.3753699188627118, tolerance: 0.00028214145863673923\n",
            "  positive)\n",
            "/usr/local/lib/python3.7/dist-packages/sklearn/linear_model/_coordinate_descent.py:476: ConvergenceWarning: Objective did not converge. You might want to increase the number of iterations. Duality gap: 1.2678660915884323, tolerance: 0.00028545603635886824\n",
            "  positive)\n",
            "/usr/local/lib/python3.7/dist-packages/sklearn/linear_model/_coordinate_descent.py:476: ConvergenceWarning: Objective did not converge. You might want to increase the number of iterations. Duality gap: 1.6555164315410378, tolerance: 0.00033922895520351634\n",
            "  positive)\n",
            "/usr/local/lib/python3.7/dist-packages/sklearn/linear_model/_coordinate_descent.py:476: ConvergenceWarning: Objective did not converge. You might want to increase the number of iterations. Duality gap: 1.3614084680872316, tolerance: 0.00028214145863673923\n",
            "  positive)\n",
            "/usr/local/lib/python3.7/dist-packages/sklearn/linear_model/_coordinate_descent.py:476: ConvergenceWarning: Objective did not converge. You might want to increase the number of iterations. Duality gap: 1.2285464276751248, tolerance: 0.00028545603635886824\n",
            "  positive)\n",
            "/usr/local/lib/python3.7/dist-packages/sklearn/linear_model/_coordinate_descent.py:476: ConvergenceWarning: Objective did not converge. You might want to increase the number of iterations. Duality gap: 0.5253092160574218, tolerance: 0.00033922895520351634\n",
            "  positive)\n",
            "/usr/local/lib/python3.7/dist-packages/sklearn/linear_model/_coordinate_descent.py:476: ConvergenceWarning: Objective did not converge. You might want to increase the number of iterations. Duality gap: 0.013244957779789068, tolerance: 0.00028214145863673923\n",
            "  positive)\n"
          ],
          "name": "stderr"
        },
        {
          "output_type": "stream",
          "text": [
            "Epoch 1/2\n",
            "13/13 [==============================] - 7s 17ms/step - loss: 0.0729\n",
            "Epoch 2/2\n",
            "13/13 [==============================] - 0s 17ms/step - loss: 0.0806\n",
            "Trade month: 2015-11-01 00:00:00\n"
          ],
          "name": "stdout"
        },
        {
          "output_type": "stream",
          "text": [
            "/usr/local/lib/python3.7/dist-packages/sklearn/linear_model/_coordinate_descent.py:476: ConvergenceWarning: Objective did not converge. You might want to increase the number of iterations. Duality gap: 1.4201922311092021, tolerance: 0.0002921666177655553\n",
            "  positive)\n",
            "/usr/local/lib/python3.7/dist-packages/sklearn/linear_model/_coordinate_descent.py:476: ConvergenceWarning: Objective did not converge. You might want to increase the number of iterations. Duality gap: 1.3186731441604198, tolerance: 0.000295696995389784\n",
            "  positive)\n",
            "/usr/local/lib/python3.7/dist-packages/sklearn/linear_model/_coordinate_descent.py:476: ConvergenceWarning: Objective did not converge. You might want to increase the number of iterations. Duality gap: 1.7516127730440598, tolerance: 0.0003581114805639067\n",
            "  positive)\n",
            "/usr/local/lib/python3.7/dist-packages/sklearn/linear_model/_coordinate_descent.py:476: ConvergenceWarning: Objective did not converge. You might want to increase the number of iterations. Duality gap: 1.4091227200508332, tolerance: 0.0002921666177655553\n",
            "  positive)\n",
            "/usr/local/lib/python3.7/dist-packages/sklearn/linear_model/_coordinate_descent.py:476: ConvergenceWarning: Objective did not converge. You might want to increase the number of iterations. Duality gap: 1.2866224392748982, tolerance: 0.000295696995389784\n",
            "  positive)\n",
            "/usr/local/lib/python3.7/dist-packages/sklearn/linear_model/_coordinate_descent.py:476: ConvergenceWarning: Objective did not converge. You might want to increase the number of iterations. Duality gap: 1.1725522483259363, tolerance: 0.0003581114805639067\n",
            "  positive)\n",
            "/usr/local/lib/python3.7/dist-packages/sklearn/linear_model/_coordinate_descent.py:476: ConvergenceWarning: Objective did not converge. You might want to increase the number of iterations. Duality gap: 0.18754809617715407, tolerance: 0.0002921666177655553\n",
            "  positive)\n",
            "/usr/local/lib/python3.7/dist-packages/sklearn/linear_model/_coordinate_descent.py:476: ConvergenceWarning: Objective did not converge. You might want to increase the number of iterations. Duality gap: 0.0008934810226102208, tolerance: 0.000295696995389784\n",
            "  positive)\n",
            "/usr/local/lib/python3.7/dist-packages/sklearn/linear_model/_coordinate_descent.py:476: ConvergenceWarning: Objective did not converge. You might want to increase the number of iterations. Duality gap: 0.00322040077300656, tolerance: 0.0003581114805639067\n",
            "  positive)\n"
          ],
          "name": "stderr"
        },
        {
          "output_type": "stream",
          "text": [
            "Epoch 1/2\n",
            "13/13 [==============================] - 6s 16ms/step - loss: 0.0823\n",
            "Epoch 2/2\n",
            "13/13 [==============================] - 0s 18ms/step - loss: 0.0807\n",
            "Trade month: 2015-12-01 00:00:00\n"
          ],
          "name": "stdout"
        },
        {
          "output_type": "stream",
          "text": [
            "/usr/local/lib/python3.7/dist-packages/sklearn/linear_model/_coordinate_descent.py:476: ConvergenceWarning: Objective did not converge. You might want to increase the number of iterations. Duality gap: 1.5222576857005952, tolerance: 0.00031505085361918796\n",
            "  positive)\n",
            "/usr/local/lib/python3.7/dist-packages/sklearn/linear_model/_coordinate_descent.py:476: ConvergenceWarning: Objective did not converge. You might want to increase the number of iterations. Duality gap: 1.535932138951546, tolerance: 0.00033237817752168256\n",
            "  positive)\n",
            "/usr/local/lib/python3.7/dist-packages/sklearn/linear_model/_coordinate_descent.py:476: ConvergenceWarning: Objective did not converge. You might want to increase the number of iterations. Duality gap: 1.9547040749980313, tolerance: 0.00039697879006145374\n",
            "  positive)\n",
            "/usr/local/lib/python3.7/dist-packages/sklearn/linear_model/_coordinate_descent.py:476: ConvergenceWarning: Objective did not converge. You might want to increase the number of iterations. Duality gap: 1.509817553040271, tolerance: 0.00033237817752168256\n",
            "  positive)\n",
            "/usr/local/lib/python3.7/dist-packages/sklearn/linear_model/_coordinate_descent.py:476: ConvergenceWarning: Objective did not converge. You might want to increase the number of iterations. Duality gap: 0.47377839560875756, tolerance: 0.00039697879006145374\n",
            "  positive)\n",
            "/usr/local/lib/python3.7/dist-packages/sklearn/linear_model/_coordinate_descent.py:476: ConvergenceWarning: Objective did not converge. You might want to increase the number of iterations. Duality gap: 0.44336314002260435, tolerance: 0.00033237817752168256\n",
            "  positive)\n"
          ],
          "name": "stderr"
        },
        {
          "output_type": "stream",
          "text": [
            "Epoch 1/2\n",
            "14/14 [==============================] - 6s 17ms/step - loss: 0.0775\n",
            "Epoch 2/2\n",
            "14/14 [==============================] - 0s 20ms/step - loss: 0.0827\n",
            "Trade month: 2016-01-01 00:00:00\n"
          ],
          "name": "stdout"
        },
        {
          "output_type": "stream",
          "text": [
            "/usr/local/lib/python3.7/dist-packages/sklearn/linear_model/_coordinate_descent.py:476: ConvergenceWarning: Objective did not converge. You might want to increase the number of iterations. Duality gap: 1.5849155527265606, tolerance: 0.00032572616468116137\n",
            "  positive)\n",
            "/usr/local/lib/python3.7/dist-packages/sklearn/linear_model/_coordinate_descent.py:476: ConvergenceWarning: Objective did not converge. You might want to increase the number of iterations. Duality gap: 1.5505371105553187, tolerance: 0.0003260545452212671\n",
            "  positive)\n",
            "/usr/local/lib/python3.7/dist-packages/sklearn/linear_model/_coordinate_descent.py:476: ConvergenceWarning: Objective did not converge. You might want to increase the number of iterations. Duality gap: 1.9186429080259788, tolerance: 0.0003954396778744626\n",
            "  positive)\n",
            "/usr/local/lib/python3.7/dist-packages/sklearn/linear_model/_coordinate_descent.py:476: ConvergenceWarning: Objective did not converge. You might want to increase the number of iterations. Duality gap: 0.004866672429429286, tolerance: 0.00032572616468116137\n",
            "  positive)\n",
            "/usr/local/lib/python3.7/dist-packages/sklearn/linear_model/_coordinate_descent.py:476: ConvergenceWarning: Objective did not converge. You might want to increase the number of iterations. Duality gap: 1.5360360699472806, tolerance: 0.0003260545452212671\n",
            "  positive)\n",
            "/usr/local/lib/python3.7/dist-packages/sklearn/linear_model/_coordinate_descent.py:476: ConvergenceWarning: Objective did not converge. You might want to increase the number of iterations. Duality gap: 1.1383395470645008, tolerance: 0.0003954396778744626\n",
            "  positive)\n",
            "/usr/local/lib/python3.7/dist-packages/sklearn/linear_model/_coordinate_descent.py:476: ConvergenceWarning: Objective did not converge. You might want to increase the number of iterations. Duality gap: 0.4323505575598332, tolerance: 0.0003260545452212671\n",
            "  positive)\n"
          ],
          "name": "stderr"
        },
        {
          "output_type": "stream",
          "text": [
            "Epoch 1/2\n",
            "14/14 [==============================] - 6s 18ms/step - loss: 0.0796\n",
            "Epoch 2/2\n",
            "14/14 [==============================] - 0s 18ms/step - loss: 0.0786\n",
            "Trade month: 2016-02-01 00:00:00\n"
          ],
          "name": "stdout"
        },
        {
          "output_type": "stream",
          "text": [
            "/usr/local/lib/python3.7/dist-packages/sklearn/linear_model/_coordinate_descent.py:476: ConvergenceWarning: Objective did not converge. You might want to increase the number of iterations. Duality gap: 1.6793367712099383, tolerance: 0.0003423638472032296\n",
            "  positive)\n",
            "/usr/local/lib/python3.7/dist-packages/sklearn/linear_model/_coordinate_descent.py:476: ConvergenceWarning: Objective did not converge. You might want to increase the number of iterations. Duality gap: 1.600270654289934, tolerance: 0.0003370924677821728\n",
            "  positive)\n",
            "/usr/local/lib/python3.7/dist-packages/sklearn/linear_model/_coordinate_descent.py:476: ConvergenceWarning: Objective did not converge. You might want to increase the number of iterations. Duality gap: 2.0195722158448564, tolerance: 0.00041416562147318355\n",
            "  positive)\n",
            "/usr/local/lib/python3.7/dist-packages/sklearn/linear_model/_coordinate_descent.py:476: ConvergenceWarning: Objective did not converge. You might want to increase the number of iterations. Duality gap: 1.5858500295975415, tolerance: 0.0003370924677821728\n",
            "  positive)\n",
            "/usr/local/lib/python3.7/dist-packages/sklearn/linear_model/_coordinate_descent.py:476: ConvergenceWarning: Objective did not converge. You might want to increase the number of iterations. Duality gap: 0.27798484194924455, tolerance: 0.00041416562147318355\n",
            "  positive)\n",
            "/usr/local/lib/python3.7/dist-packages/sklearn/linear_model/_coordinate_descent.py:476: ConvergenceWarning: Objective did not converge. You might want to increase the number of iterations. Duality gap: 0.34679873168297526, tolerance: 0.0003370924677821728\n",
            "  positive)\n"
          ],
          "name": "stderr"
        },
        {
          "output_type": "stream",
          "text": [
            "Epoch 1/2\n",
            "14/14 [==============================] - 6s 17ms/step - loss: 0.0807\n",
            "Epoch 2/2\n",
            "14/14 [==============================] - 0s 17ms/step - loss: 0.0817\n",
            "Trade month: 2016-03-01 00:00:00\n"
          ],
          "name": "stdout"
        },
        {
          "output_type": "stream",
          "text": [
            "/usr/local/lib/python3.7/dist-packages/sklearn/linear_model/_coordinate_descent.py:476: ConvergenceWarning: Objective did not converge. You might want to increase the number of iterations. Duality gap: 1.7163449105138675, tolerance: 0.00035512761872599427\n",
            "  positive)\n",
            "/usr/local/lib/python3.7/dist-packages/sklearn/linear_model/_coordinate_descent.py:476: ConvergenceWarning: Objective did not converge. You might want to increase the number of iterations. Duality gap: 1.7065056621404595, tolerance: 0.0003556899211051854\n",
            "  positive)\n",
            "/usr/local/lib/python3.7/dist-packages/sklearn/linear_model/_coordinate_descent.py:476: ConvergenceWarning: Objective did not converge. You might want to increase the number of iterations. Duality gap: 2.1575334013880667, tolerance: 0.0004430302078295025\n",
            "  positive)\n",
            "/usr/local/lib/python3.7/dist-packages/sklearn/linear_model/_coordinate_descent.py:476: ConvergenceWarning: Objective did not converge. You might want to increase the number of iterations. Duality gap: 1.7038149215764076, tolerance: 0.0003556899211051854\n",
            "  positive)\n",
            "/usr/local/lib/python3.7/dist-packages/sklearn/linear_model/_coordinate_descent.py:476: ConvergenceWarning: Objective did not converge. You might want to increase the number of iterations. Duality gap: 0.5598807526420502, tolerance: 0.0004430302078295025\n",
            "  positive)\n",
            "/usr/local/lib/python3.7/dist-packages/sklearn/linear_model/_coordinate_descent.py:476: ConvergenceWarning: Objective did not converge. You might want to increase the number of iterations. Duality gap: 1.4269970761245303, tolerance: 0.0003556899211051854\n",
            "  positive)\n"
          ],
          "name": "stderr"
        },
        {
          "output_type": "stream",
          "text": [
            "Epoch 1/2\n",
            "15/15 [==============================] - 7s 17ms/step - loss: 0.0821\n",
            "Epoch 2/2\n",
            "15/15 [==============================] - 0s 18ms/step - loss: 0.0797\n",
            "Trade month: 2016-04-01 00:00:00\n"
          ],
          "name": "stdout"
        },
        {
          "output_type": "stream",
          "text": [
            "/usr/local/lib/python3.7/dist-packages/sklearn/linear_model/_coordinate_descent.py:476: ConvergenceWarning: Objective did not converge. You might want to increase the number of iterations. Duality gap: 1.701792265855224, tolerance: 0.00035002393447174747\n",
            "  positive)\n",
            "/usr/local/lib/python3.7/dist-packages/sklearn/linear_model/_coordinate_descent.py:476: ConvergenceWarning: Objective did not converge. You might want to increase the number of iterations. Duality gap: 1.7063231696979646, tolerance: 0.00035702570171139815\n",
            "  positive)\n",
            "/usr/local/lib/python3.7/dist-packages/sklearn/linear_model/_coordinate_descent.py:476: ConvergenceWarning: Objective did not converge. You might want to increase the number of iterations. Duality gap: 2.1326658754417935, tolerance: 0.0004388532505361724\n",
            "  positive)\n",
            "/usr/local/lib/python3.7/dist-packages/sklearn/linear_model/_coordinate_descent.py:476: ConvergenceWarning: Objective did not converge. You might want to increase the number of iterations. Duality gap: 1.7043750899089263, tolerance: 0.00035702570171139815\n",
            "  positive)\n",
            "/usr/local/lib/python3.7/dist-packages/sklearn/linear_model/_coordinate_descent.py:476: ConvergenceWarning: Objective did not converge. You might want to increase the number of iterations. Duality gap: 1.1226940781797567, tolerance: 0.0004388532505361724\n",
            "  positive)\n",
            "/usr/local/lib/python3.7/dist-packages/sklearn/linear_model/_coordinate_descent.py:476: ConvergenceWarning: Objective did not converge. You might want to increase the number of iterations. Duality gap: 1.5060195610035183, tolerance: 0.00035702570171139815\n",
            "  positive)\n"
          ],
          "name": "stderr"
        },
        {
          "output_type": "stream",
          "text": [
            "Epoch 1/2\n",
            "15/15 [==============================] - 7s 18ms/step - loss: 0.0862\n",
            "Epoch 2/2\n",
            "15/15 [==============================] - 0s 18ms/step - loss: 0.0807\n",
            "Trade month: 2016-05-01 00:00:00\n"
          ],
          "name": "stdout"
        },
        {
          "output_type": "stream",
          "text": [
            "/usr/local/lib/python3.7/dist-packages/sklearn/linear_model/_coordinate_descent.py:476: ConvergenceWarning: Objective did not converge. You might want to increase the number of iterations. Duality gap: 1.8113405728949832, tolerance: 0.0003708068589864015\n",
            "  positive)\n",
            "/usr/local/lib/python3.7/dist-packages/sklearn/linear_model/_coordinate_descent.py:476: ConvergenceWarning: Objective did not converge. You might want to increase the number of iterations. Duality gap: 1.874973671741937, tolerance: 0.0003909010664681702\n",
            "  positive)\n",
            "/usr/local/lib/python3.7/dist-packages/sklearn/linear_model/_coordinate_descent.py:476: ConvergenceWarning: Objective did not converge. You might want to increase the number of iterations. Duality gap: 2.207586792960833, tolerance: 0.0004531728814233487\n",
            "  positive)\n",
            "/usr/local/lib/python3.7/dist-packages/sklearn/linear_model/_coordinate_descent.py:476: ConvergenceWarning: Objective did not converge. You might want to increase the number of iterations. Duality gap: 1.8733912928430312, tolerance: 0.0003909010664681702\n",
            "  positive)\n",
            "/usr/local/lib/python3.7/dist-packages/sklearn/linear_model/_coordinate_descent.py:476: ConvergenceWarning: Objective did not converge. You might want to increase the number of iterations. Duality gap: 1.50489821656717, tolerance: 0.0004531728814233487\n",
            "  positive)\n",
            "/usr/local/lib/python3.7/dist-packages/sklearn/linear_model/_coordinate_descent.py:476: ConvergenceWarning: Objective did not converge. You might want to increase the number of iterations. Duality gap: 1.7134287077265415, tolerance: 0.0003909010664681702\n",
            "  positive)\n"
          ],
          "name": "stderr"
        },
        {
          "output_type": "stream",
          "text": [
            "Epoch 1/2\n",
            "15/15 [==============================] - 6s 20ms/step - loss: 0.0768\n",
            "Epoch 2/2\n",
            "15/15 [==============================] - 0s 17ms/step - loss: 0.0813\n",
            "Trade month: 2016-06-01 00:00:00\n"
          ],
          "name": "stdout"
        },
        {
          "output_type": "stream",
          "text": [
            "/usr/local/lib/python3.7/dist-packages/sklearn/linear_model/_coordinate_descent.py:476: ConvergenceWarning: Objective did not converge. You might want to increase the number of iterations. Duality gap: 2.0777053601074997, tolerance: 0.0004231371803621918\n",
            "  positive)\n",
            "/usr/local/lib/python3.7/dist-packages/sklearn/linear_model/_coordinate_descent.py:476: ConvergenceWarning: Objective did not converge. You might want to increase the number of iterations. Duality gap: 1.8838674224518706, tolerance: 0.0003907967676111098\n",
            "  positive)\n",
            "/usr/local/lib/python3.7/dist-packages/sklearn/linear_model/_coordinate_descent.py:476: ConvergenceWarning: Objective did not converge. You might want to increase the number of iterations. Duality gap: 2.488332794145086, tolerance: 0.0005101926392204796\n",
            "  positive)\n",
            "/usr/local/lib/python3.7/dist-packages/sklearn/linear_model/_coordinate_descent.py:476: ConvergenceWarning: Objective did not converge. You might want to increase the number of iterations. Duality gap: 0.0035273514395739447, tolerance: 0.0004231371803621918\n",
            "  positive)\n",
            "/usr/local/lib/python3.7/dist-packages/sklearn/linear_model/_coordinate_descent.py:476: ConvergenceWarning: Objective did not converge. You might want to increase the number of iterations. Duality gap: 1.8798573432698078, tolerance: 0.0003907967676111098\n",
            "  positive)\n",
            "/usr/local/lib/python3.7/dist-packages/sklearn/linear_model/_coordinate_descent.py:476: ConvergenceWarning: Objective did not converge. You might want to increase the number of iterations. Duality gap: 2.1748068515720527, tolerance: 0.0005101926392204796\n",
            "  positive)\n",
            "/usr/local/lib/python3.7/dist-packages/sklearn/linear_model/_coordinate_descent.py:476: ConvergenceWarning: Objective did not converge. You might want to increase the number of iterations. Duality gap: 1.4619983395841396, tolerance: 0.0003907967676111098\n",
            "  positive)\n",
            "/usr/local/lib/python3.7/dist-packages/sklearn/linear_model/_coordinate_descent.py:476: ConvergenceWarning: Objective did not converge. You might want to increase the number of iterations. Duality gap: 0.0014749819553525612, tolerance: 0.0005101926392204796\n",
            "  positive)\n"
          ],
          "name": "stderr"
        },
        {
          "output_type": "stream",
          "text": [
            "Epoch 1/2\n",
            "16/16 [==============================] - 7s 19ms/step - loss: 0.0797\n",
            "Epoch 2/2\n",
            "16/16 [==============================] - 0s 18ms/step - loss: 0.0811\n",
            "Trade month: 2016-07-01 00:00:00\n"
          ],
          "name": "stdout"
        },
        {
          "output_type": "stream",
          "text": [
            "/usr/local/lib/python3.7/dist-packages/sklearn/linear_model/_coordinate_descent.py:476: ConvergenceWarning: Objective did not converge. You might want to increase the number of iterations. Duality gap: 2.086791010887572, tolerance: 0.0004282766683056304\n",
            "  positive)\n",
            "/usr/local/lib/python3.7/dist-packages/sklearn/linear_model/_coordinate_descent.py:476: ConvergenceWarning: Objective did not converge. You might want to increase the number of iterations. Duality gap: 1.920143389007115, tolerance: 0.0003929242353487361\n",
            "  positive)\n",
            "/usr/local/lib/python3.7/dist-packages/sklearn/linear_model/_coordinate_descent.py:476: ConvergenceWarning: Objective did not converge. You might want to increase the number of iterations. Duality gap: 2.4844961781848656, tolerance: 0.0005093544463998077\n",
            "  positive)\n",
            "/usr/local/lib/python3.7/dist-packages/sklearn/linear_model/_coordinate_descent.py:476: ConvergenceWarning: Objective did not converge. You might want to increase the number of iterations. Duality gap: 0.06830920693930675, tolerance: 0.0004282766683056304\n",
            "  positive)\n",
            "/usr/local/lib/python3.7/dist-packages/sklearn/linear_model/_coordinate_descent.py:476: ConvergenceWarning: Objective did not converge. You might want to increase the number of iterations. Duality gap: 1.9184391174459152, tolerance: 0.0003929242353487361\n",
            "  positive)\n",
            "/usr/local/lib/python3.7/dist-packages/sklearn/linear_model/_coordinate_descent.py:476: ConvergenceWarning: Objective did not converge. You might want to increase the number of iterations. Duality gap: 2.289300946826572, tolerance: 0.0005093544463998077\n",
            "  positive)\n",
            "/usr/local/lib/python3.7/dist-packages/sklearn/linear_model/_coordinate_descent.py:476: ConvergenceWarning: Objective did not converge. You might want to increase the number of iterations. Duality gap: 1.7459701120266788, tolerance: 0.0003929242353487361\n",
            "  positive)\n"
          ],
          "name": "stderr"
        },
        {
          "output_type": "stream",
          "text": [
            "Epoch 1/2\n",
            "16/16 [==============================] - 7s 18ms/step - loss: 0.0824\n",
            "Epoch 2/2\n",
            "16/16 [==============================] - 0s 17ms/step - loss: 0.0855\n",
            "Trade month: 2016-08-01 00:00:00\n"
          ],
          "name": "stdout"
        },
        {
          "output_type": "stream",
          "text": [
            "/usr/local/lib/python3.7/dist-packages/sklearn/linear_model/_coordinate_descent.py:476: ConvergenceWarning: Objective did not converge. You might want to increase the number of iterations. Duality gap: 2.1097417231453024, tolerance: 0.0004317761555978753\n",
            "  positive)\n",
            "/usr/local/lib/python3.7/dist-packages/sklearn/linear_model/_coordinate_descent.py:476: ConvergenceWarning: Objective did not converge. You might want to increase the number of iterations. Duality gap: 1.9279216291380525, tolerance: 0.0003966623882631592\n",
            "  positive)\n",
            "/usr/local/lib/python3.7/dist-packages/sklearn/linear_model/_coordinate_descent.py:476: ConvergenceWarning: Objective did not converge. You might want to increase the number of iterations. Duality gap: 2.530597903817957, tolerance: 0.0005180737093780129\n",
            "  positive)\n",
            "/usr/local/lib/python3.7/dist-packages/sklearn/linear_model/_coordinate_descent.py:476: ConvergenceWarning: Objective did not converge. You might want to increase the number of iterations. Duality gap: 0.043205022172950525, tolerance: 0.0004317761555978753\n",
            "  positive)\n",
            "/usr/local/lib/python3.7/dist-packages/sklearn/linear_model/_coordinate_descent.py:476: ConvergenceWarning: Objective did not converge. You might want to increase the number of iterations. Duality gap: 1.92574145783621, tolerance: 0.0003966623882631592\n",
            "  positive)\n",
            "/usr/local/lib/python3.7/dist-packages/sklearn/linear_model/_coordinate_descent.py:476: ConvergenceWarning: Objective did not converge. You might want to increase the number of iterations. Duality gap: 2.309048442665937, tolerance: 0.0005180737093780129\n",
            "  positive)\n",
            "/usr/local/lib/python3.7/dist-packages/sklearn/linear_model/_coordinate_descent.py:476: ConvergenceWarning: Objective did not converge. You might want to increase the number of iterations. Duality gap: 1.7038120273798028, tolerance: 0.0003966623882631592\n",
            "  positive)\n"
          ],
          "name": "stderr"
        },
        {
          "output_type": "stream",
          "text": [
            "Epoch 1/2\n",
            "16/16 [==============================] - 7s 19ms/step - loss: 0.0878\n",
            "Epoch 2/2\n",
            "16/16 [==============================] - 0s 19ms/step - loss: 0.0854\n",
            "Trade month: 2016-09-01 00:00:00\n"
          ],
          "name": "stdout"
        },
        {
          "output_type": "stream",
          "text": [
            "/usr/local/lib/python3.7/dist-packages/sklearn/linear_model/_coordinate_descent.py:476: ConvergenceWarning: Objective did not converge. You might want to increase the number of iterations. Duality gap: 2.109260572399043, tolerance: 0.00043324135695011146\n",
            "  positive)\n",
            "/usr/local/lib/python3.7/dist-packages/sklearn/linear_model/_coordinate_descent.py:476: ConvergenceWarning: Objective did not converge. You might want to increase the number of iterations. Duality gap: 1.899939712727413, tolerance: 0.00038918986109538615\n",
            "  positive)\n",
            "/usr/local/lib/python3.7/dist-packages/sklearn/linear_model/_coordinate_descent.py:476: ConvergenceWarning: Objective did not converge. You might want to increase the number of iterations. Duality gap: 2.5199867947084926, tolerance: 0.0005161473018210333\n",
            "  positive)\n",
            "/usr/local/lib/python3.7/dist-packages/sklearn/linear_model/_coordinate_descent.py:476: ConvergenceWarning: Objective did not converge. You might want to increase the number of iterations. Duality gap: 0.08109132962121102, tolerance: 0.00043324135695011146\n",
            "  positive)\n",
            "/usr/local/lib/python3.7/dist-packages/sklearn/linear_model/_coordinate_descent.py:476: ConvergenceWarning: Objective did not converge. You might want to increase the number of iterations. Duality gap: 1.89827054243439, tolerance: 0.00038918986109538615\n",
            "  positive)\n",
            "/usr/local/lib/python3.7/dist-packages/sklearn/linear_model/_coordinate_descent.py:476: ConvergenceWarning: Objective did not converge. You might want to increase the number of iterations. Duality gap: 2.27156292930777, tolerance: 0.0005161473018210333\n",
            "  positive)\n",
            "/usr/local/lib/python3.7/dist-packages/sklearn/linear_model/_coordinate_descent.py:476: ConvergenceWarning: Objective did not converge. You might want to increase the number of iterations. Duality gap: 1.7293907486375755, tolerance: 0.00038918986109538615\n",
            "  positive)\n"
          ],
          "name": "stderr"
        },
        {
          "output_type": "stream",
          "text": [
            "Epoch 1/2\n",
            "17/17 [==============================] - 6s 19ms/step - loss: 0.0866\n",
            "Epoch 2/2\n",
            "17/17 [==============================] - 0s 18ms/step - loss: 0.0828\n",
            "Trade month: 2016-10-01 00:00:00\n"
          ],
          "name": "stdout"
        },
        {
          "output_type": "stream",
          "text": [
            "/usr/local/lib/python3.7/dist-packages/sklearn/linear_model/_coordinate_descent.py:476: ConvergenceWarning: Objective did not converge. You might want to increase the number of iterations. Duality gap: 2.119465235137872, tolerance: 0.0004340656534764847\n",
            "  positive)\n",
            "/usr/local/lib/python3.7/dist-packages/sklearn/linear_model/_coordinate_descent.py:476: ConvergenceWarning: Objective did not converge. You might want to increase the number of iterations. Duality gap: 1.8426263854911316, tolerance: 0.0003764216427424043\n",
            "  positive)\n",
            "/usr/local/lib/python3.7/dist-packages/sklearn/linear_model/_coordinate_descent.py:476: ConvergenceWarning: Objective did not converge. You might want to increase the number of iterations. Duality gap: 2.543041454889459, tolerance: 0.0005220870549333809\n",
            "  positive)\n",
            "/usr/local/lib/python3.7/dist-packages/sklearn/linear_model/_coordinate_descent.py:476: ConvergenceWarning: Objective did not converge. You might want to increase the number of iterations. Duality gap: 0.2019203825338738, tolerance: 0.0004340656534764847\n",
            "  positive)\n",
            "/usr/local/lib/python3.7/dist-packages/sklearn/linear_model/_coordinate_descent.py:476: ConvergenceWarning: Objective did not converge. You might want to increase the number of iterations. Duality gap: 1.841309537024889, tolerance: 0.0003764216427424043\n",
            "  positive)\n",
            "/usr/local/lib/python3.7/dist-packages/sklearn/linear_model/_coordinate_descent.py:476: ConvergenceWarning: Objective did not converge. You might want to increase the number of iterations. Duality gap: 2.3695393352134406, tolerance: 0.0005220870549333809\n",
            "  positive)\n",
            "/usr/local/lib/python3.7/dist-packages/sklearn/linear_model/_coordinate_descent.py:476: ConvergenceWarning: Objective did not converge. You might want to increase the number of iterations. Duality gap: 1.7086072650149071, tolerance: 0.0003764216427424043\n",
            "  positive)\n"
          ],
          "name": "stderr"
        },
        {
          "output_type": "stream",
          "text": [
            "Epoch 1/2\n",
            "17/17 [==============================] - 8s 18ms/step - loss: 0.0832\n",
            "Epoch 2/2\n",
            "17/17 [==============================] - 0s 19ms/step - loss: 0.0830\n",
            "Trade month: 2016-11-01 00:00:00\n"
          ],
          "name": "stdout"
        },
        {
          "output_type": "stream",
          "text": [
            "/usr/local/lib/python3.7/dist-packages/sklearn/linear_model/_coordinate_descent.py:476: ConvergenceWarning: Objective did not converge. You might want to increase the number of iterations. Duality gap: 2.2958829746355196, tolerance: 0.00047172534431244313\n",
            "  positive)\n",
            "/usr/local/lib/python3.7/dist-packages/sklearn/linear_model/_coordinate_descent.py:476: ConvergenceWarning: Objective did not converge. You might want to increase the number of iterations. Duality gap: 1.8800730701828745, tolerance: 0.00038447825815196226\n",
            "  positive)\n",
            "/usr/local/lib/python3.7/dist-packages/sklearn/linear_model/_coordinate_descent.py:476: ConvergenceWarning: Objective did not converge. You might want to increase the number of iterations. Duality gap: 2.739968072723963, tolerance: 0.0005623553524448884\n",
            "  positive)\n",
            "/usr/local/lib/python3.7/dist-packages/sklearn/linear_model/_coordinate_descent.py:476: ConvergenceWarning: Objective did not converge. You might want to increase the number of iterations. Duality gap: 0.0069396078706907005, tolerance: 0.00047172534431244313\n",
            "  positive)\n",
            "/usr/local/lib/python3.7/dist-packages/sklearn/linear_model/_coordinate_descent.py:476: ConvergenceWarning: Objective did not converge. You might want to increase the number of iterations. Duality gap: 1.8718384956178657, tolerance: 0.00038447825815196226\n",
            "  positive)\n",
            "/usr/local/lib/python3.7/dist-packages/sklearn/linear_model/_coordinate_descent.py:476: ConvergenceWarning: Objective did not converge. You might want to increase the number of iterations. Duality gap: 2.6573386349972807, tolerance: 0.0005623553524448884\n",
            "  positive)\n",
            "/usr/local/lib/python3.7/dist-packages/sklearn/linear_model/_coordinate_descent.py:476: ConvergenceWarning: Objective did not converge. You might want to increase the number of iterations. Duality gap: 0.9745148010388163, tolerance: 0.00038447825815196226\n",
            "  positive)\n",
            "/usr/local/lib/python3.7/dist-packages/sklearn/linear_model/_coordinate_descent.py:476: ConvergenceWarning: Objective did not converge. You might want to increase the number of iterations. Duality gap: 0.4241533642369997, tolerance: 0.0005623553524448884\n",
            "  positive)\n"
          ],
          "name": "stderr"
        },
        {
          "output_type": "stream",
          "text": [
            "Epoch 1/2\n",
            "17/17 [==============================] - 7s 18ms/step - loss: 0.0845\n",
            "Epoch 2/2\n",
            "17/17 [==============================] - 0s 18ms/step - loss: 0.0791\n",
            "Trade month: 2016-12-01 00:00:00\n"
          ],
          "name": "stdout"
        },
        {
          "output_type": "stream",
          "text": [
            "/usr/local/lib/python3.7/dist-packages/sklearn/linear_model/_coordinate_descent.py:476: ConvergenceWarning: Objective did not converge. You might want to increase the number of iterations. Duality gap: 2.3610600762382434, tolerance: 0.0004847275097222179\n",
            "  positive)\n",
            "/usr/local/lib/python3.7/dist-packages/sklearn/linear_model/_coordinate_descent.py:476: ConvergenceWarning: Objective did not converge. You might want to increase the number of iterations. Duality gap: 1.7634278157906047, tolerance: 0.0003589441815810909\n",
            "  positive)\n",
            "/usr/local/lib/python3.7/dist-packages/sklearn/linear_model/_coordinate_descent.py:476: ConvergenceWarning: Objective did not converge. You might want to increase the number of iterations. Duality gap: 2.649169083711241, tolerance: 0.0005439830099282576\n",
            "  positive)\n",
            "/usr/local/lib/python3.7/dist-packages/sklearn/linear_model/_coordinate_descent.py:476: ConvergenceWarning: Objective did not converge. You might want to increase the number of iterations. Duality gap: 0.026959162881845522, tolerance: 0.0004847275097222179\n",
            "  positive)\n",
            "/usr/local/lib/python3.7/dist-packages/sklearn/linear_model/_coordinate_descent.py:476: ConvergenceWarning: Objective did not converge. You might want to increase the number of iterations. Duality gap: 1.7476253409663094, tolerance: 0.0003589441815810909\n",
            "  positive)\n",
            "/usr/local/lib/python3.7/dist-packages/sklearn/linear_model/_coordinate_descent.py:476: ConvergenceWarning: Objective did not converge. You might want to increase the number of iterations. Duality gap: 2.5780495479705703, tolerance: 0.0005439830099282576\n",
            "  positive)\n",
            "/usr/local/lib/python3.7/dist-packages/sklearn/linear_model/_coordinate_descent.py:476: ConvergenceWarning: Objective did not converge. You might want to increase the number of iterations. Duality gap: 0.06435246857809895, tolerance: 0.0003589441815810909\n",
            "  positive)\n",
            "/usr/local/lib/python3.7/dist-packages/sklearn/linear_model/_coordinate_descent.py:476: ConvergenceWarning: Objective did not converge. You might want to increase the number of iterations. Duality gap: 0.47174999485379177, tolerance: 0.0005439830099282576\n",
            "  positive)\n"
          ],
          "name": "stderr"
        },
        {
          "output_type": "stream",
          "text": [
            "Epoch 1/2\n",
            "18/18 [==============================] - 6s 18ms/step - loss: 0.0833\n",
            "Epoch 2/2\n",
            "18/18 [==============================] - 0s 17ms/step - loss: 0.0823\n",
            "Trade month: 2017-01-01 00:00:00\n"
          ],
          "name": "stdout"
        },
        {
          "output_type": "stream",
          "text": [
            "/usr/local/lib/python3.7/dist-packages/sklearn/linear_model/_coordinate_descent.py:476: ConvergenceWarning: Objective did not converge. You might want to increase the number of iterations. Duality gap: 2.358965323446897, tolerance: 0.0004849193791671788\n",
            "  positive)\n",
            "/usr/local/lib/python3.7/dist-packages/sklearn/linear_model/_coordinate_descent.py:476: ConvergenceWarning: Objective did not converge. You might want to increase the number of iterations. Duality gap: 1.7920123797705507, tolerance: 0.00036410503534869254\n",
            "  positive)\n",
            "/usr/local/lib/python3.7/dist-packages/sklearn/linear_model/_coordinate_descent.py:476: ConvergenceWarning: Objective did not converge. You might want to increase the number of iterations. Duality gap: 2.632071911413957, tolerance: 0.0005402271955879377\n",
            "  positive)\n",
            "/usr/local/lib/python3.7/dist-packages/sklearn/linear_model/_coordinate_descent.py:476: ConvergenceWarning: Objective did not converge. You might want to increase the number of iterations. Duality gap: 0.010039797490212443, tolerance: 0.0004849193791671788\n",
            "  positive)\n",
            "/usr/local/lib/python3.7/dist-packages/sklearn/linear_model/_coordinate_descent.py:476: ConvergenceWarning: Objective did not converge. You might want to increase the number of iterations. Duality gap: 1.7793691706683408, tolerance: 0.00036410503534869254\n",
            "  positive)\n",
            "/usr/local/lib/python3.7/dist-packages/sklearn/linear_model/_coordinate_descent.py:476: ConvergenceWarning: Objective did not converge. You might want to increase the number of iterations. Duality gap: 2.5620478277318237, tolerance: 0.0005402271955879377\n",
            "  positive)\n",
            "/usr/local/lib/python3.7/dist-packages/sklearn/linear_model/_coordinate_descent.py:476: ConvergenceWarning: Objective did not converge. You might want to increase the number of iterations. Duality gap: 0.37304508097587097, tolerance: 0.00036410503534869254\n",
            "  positive)\n",
            "/usr/local/lib/python3.7/dist-packages/sklearn/linear_model/_coordinate_descent.py:476: ConvergenceWarning: Objective did not converge. You might want to increase the number of iterations. Duality gap: 0.4736579828030423, tolerance: 0.0005402271955879377\n",
            "  positive)\n"
          ],
          "name": "stderr"
        },
        {
          "output_type": "stream",
          "text": [
            "Epoch 1/2\n",
            "18/18 [==============================] - 6s 19ms/step - loss: 0.0878\n",
            "Epoch 2/2\n",
            "18/18 [==============================] - 0s 18ms/step - loss: 0.0785\n",
            "Trade month: 2017-02-01 00:00:00\n"
          ],
          "name": "stdout"
        },
        {
          "output_type": "stream",
          "text": [
            "/usr/local/lib/python3.7/dist-packages/sklearn/linear_model/_coordinate_descent.py:476: ConvergenceWarning: Objective did not converge. You might want to increase the number of iterations. Duality gap: 2.5402701720160152, tolerance: 0.0005216061798804167\n",
            "  positive)\n",
            "/usr/local/lib/python3.7/dist-packages/sklearn/linear_model/_coordinate_descent.py:476: ConvergenceWarning: Objective did not converge. You might want to increase the number of iterations. Duality gap: 1.8995088770307744, tolerance: 0.00038742281961513374\n",
            "  positive)\n",
            "/usr/local/lib/python3.7/dist-packages/sklearn/linear_model/_coordinate_descent.py:476: ConvergenceWarning: Objective did not converge. You might want to increase the number of iterations. Duality gap: 2.7406571107346274, tolerance: 0.0005658417662371544\n",
            "  positive)\n",
            "/usr/local/lib/python3.7/dist-packages/sklearn/linear_model/_coordinate_descent.py:476: ConvergenceWarning: Objective did not converge. You might want to increase the number of iterations. Duality gap: 0.00211282693599113, tolerance: 0.0005216061798804167\n",
            "  positive)\n",
            "/usr/local/lib/python3.7/dist-packages/sklearn/linear_model/_coordinate_descent.py:476: ConvergenceWarning: Objective did not converge. You might want to increase the number of iterations. Duality gap: 1.8139943872483444, tolerance: 0.00038742281961513374\n",
            "  positive)\n",
            "/usr/local/lib/python3.7/dist-packages/sklearn/linear_model/_coordinate_descent.py:476: ConvergenceWarning: Objective did not converge. You might want to increase the number of iterations. Duality gap: 2.6115422728763895, tolerance: 0.0005658417662371544\n",
            "  positive)\n",
            "/usr/local/lib/python3.7/dist-packages/sklearn/linear_model/_coordinate_descent.py:476: ConvergenceWarning: Objective did not converge. You might want to increase the number of iterations. Duality gap: 0.23127007076516914, tolerance: 0.0005658417662371544\n",
            "  positive)\n"
          ],
          "name": "stderr"
        },
        {
          "output_type": "stream",
          "text": [
            "Epoch 1/2\n",
            "18/18 [==============================] - 6s 18ms/step - loss: 0.0843\n",
            "Epoch 2/2\n",
            "18/18 [==============================] - 0s 19ms/step - loss: 0.0854\n",
            "Trade month: 2017-03-01 00:00:00\n"
          ],
          "name": "stdout"
        },
        {
          "output_type": "stream",
          "text": [
            "/usr/local/lib/python3.7/dist-packages/sklearn/linear_model/_coordinate_descent.py:476: ConvergenceWarning: Objective did not converge. You might want to increase the number of iterations. Duality gap: 2.602186058555295, tolerance: 0.0005333484972483214\n",
            "  positive)\n",
            "/usr/local/lib/python3.7/dist-packages/sklearn/linear_model/_coordinate_descent.py:476: ConvergenceWarning: Objective did not converge. You might want to increase the number of iterations. Duality gap: 1.8957402497118412, tolerance: 0.0003858536507948164\n",
            "  positive)\n",
            "/usr/local/lib/python3.7/dist-packages/sklearn/linear_model/_coordinate_descent.py:476: ConvergenceWarning: Objective did not converge. You might want to increase the number of iterations. Duality gap: 2.792564781958146, tolerance: 0.0005754575965918144\n",
            "  positive)\n",
            "/usr/local/lib/python3.7/dist-packages/sklearn/linear_model/_coordinate_descent.py:476: ConvergenceWarning: Objective did not converge. You might want to increase the number of iterations. Duality gap: 0.0069871686139126865, tolerance: 0.0005333484972483214\n",
            "  positive)\n",
            "/usr/local/lib/python3.7/dist-packages/sklearn/linear_model/_coordinate_descent.py:476: ConvergenceWarning: Objective did not converge. You might want to increase the number of iterations. Duality gap: 1.7959521110104437, tolerance: 0.0003858536507948164\n",
            "  positive)\n",
            "/usr/local/lib/python3.7/dist-packages/sklearn/linear_model/_coordinate_descent.py:476: ConvergenceWarning: Objective did not converge. You might want to increase the number of iterations. Duality gap: 2.677544097858241, tolerance: 0.0005754575965918144\n",
            "  positive)\n",
            "/usr/local/lib/python3.7/dist-packages/sklearn/linear_model/_coordinate_descent.py:476: ConvergenceWarning: Objective did not converge. You might want to increase the number of iterations. Duality gap: 0.2858379370173254, tolerance: 0.0005754575965918144\n",
            "  positive)\n"
          ],
          "name": "stderr"
        },
        {
          "output_type": "stream",
          "text": [
            "Epoch 1/2\n",
            "18/18 [==============================] - 7s 16ms/step - loss: 0.0803\n",
            "Epoch 2/2\n",
            "18/18 [==============================] - 0s 18ms/step - loss: 0.0729\n",
            "Trade month: 2017-04-01 00:00:00\n"
          ],
          "name": "stdout"
        },
        {
          "output_type": "stream",
          "text": [
            "/usr/local/lib/python3.7/dist-packages/sklearn/linear_model/_coordinate_descent.py:476: ConvergenceWarning: Objective did not converge. You might want to increase the number of iterations. Duality gap: 2.611058919533278, tolerance: 0.0005320689610011716\n",
            "  positive)\n",
            "/usr/local/lib/python3.7/dist-packages/sklearn/linear_model/_coordinate_descent.py:476: ConvergenceWarning: Objective did not converge. You might want to increase the number of iterations. Duality gap: 1.9497218749586287, tolerance: 0.00039653028413155544\n",
            "  positive)\n",
            "/usr/local/lib/python3.7/dist-packages/sklearn/linear_model/_coordinate_descent.py:476: ConvergenceWarning: Objective did not converge. You might want to increase the number of iterations. Duality gap: 2.839273318610114, tolerance: 0.0005822770833909722\n",
            "  positive)\n",
            "/usr/local/lib/python3.7/dist-packages/sklearn/linear_model/_coordinate_descent.py:476: ConvergenceWarning: Objective did not converge. You might want to increase the number of iterations. Duality gap: 1.8906591244489794, tolerance: 0.00039653028413155544\n",
            "  positive)\n",
            "/usr/local/lib/python3.7/dist-packages/sklearn/linear_model/_coordinate_descent.py:476: ConvergenceWarning: Objective did not converge. You might want to increase the number of iterations. Duality gap: 2.68089610596546, tolerance: 0.0005822770833909722\n",
            "  positive)\n"
          ],
          "name": "stderr"
        },
        {
          "output_type": "stream",
          "text": [
            "Epoch 1/2\n",
            "19/19 [==============================] - 7s 17ms/step - loss: 0.0835\n",
            "Epoch 2/2\n",
            "19/19 [==============================] - 0s 18ms/step - loss: 0.0874\n",
            "Trade month: 2017-05-01 00:00:00\n"
          ],
          "name": "stdout"
        },
        {
          "output_type": "stream",
          "text": [
            "/usr/local/lib/python3.7/dist-packages/sklearn/linear_model/_coordinate_descent.py:476: ConvergenceWarning: Objective did not converge. You might want to increase the number of iterations. Duality gap: 2.635942329840236, tolerance: 0.0005380486801237458\n",
            "  positive)\n",
            "/usr/local/lib/python3.7/dist-packages/sklearn/linear_model/_coordinate_descent.py:476: ConvergenceWarning: Objective did not converge. You might want to increase the number of iterations. Duality gap: 2.010650363223331, tolerance: 0.0004086175483485506\n",
            "  positive)\n",
            "/usr/local/lib/python3.7/dist-packages/sklearn/linear_model/_coordinate_descent.py:476: ConvergenceWarning: Objective did not converge. You might want to increase the number of iterations. Duality gap: 2.8438169215231164, tolerance: 0.0005819526366039446\n",
            "  positive)\n",
            "/usr/local/lib/python3.7/dist-packages/sklearn/linear_model/_coordinate_descent.py:476: ConvergenceWarning: Objective did not converge. You might want to increase the number of iterations. Duality gap: 1.8762534172649232, tolerance: 0.0004086175483485506\n",
            "  positive)\n",
            "/usr/local/lib/python3.7/dist-packages/sklearn/linear_model/_coordinate_descent.py:476: ConvergenceWarning: Objective did not converge. You might want to increase the number of iterations. Duality gap: 2.672985177435053, tolerance: 0.0005819526366039446\n",
            "  positive)\n"
          ],
          "name": "stderr"
        },
        {
          "output_type": "stream",
          "text": [
            "Epoch 1/2\n",
            "19/19 [==============================] - 6s 18ms/step - loss: 0.0848\n",
            "Epoch 2/2\n",
            "19/19 [==============================] - 0s 17ms/step - loss: 0.0826\n",
            "Trade month: 2017-06-01 00:00:00\n"
          ],
          "name": "stdout"
        },
        {
          "output_type": "stream",
          "text": [
            "/usr/local/lib/python3.7/dist-packages/sklearn/linear_model/_coordinate_descent.py:476: ConvergenceWarning: Objective did not converge. You might want to increase the number of iterations. Duality gap: 2.5778156700077814, tolerance: 0.0005236968419056799\n",
            "  positive)\n",
            "/usr/local/lib/python3.7/dist-packages/sklearn/linear_model/_coordinate_descent.py:476: ConvergenceWarning: Objective did not converge. You might want to increase the number of iterations. Duality gap: 2.0283997477216786, tolerance: 0.00041344893334748547\n",
            "  positive)\n",
            "/usr/local/lib/python3.7/dist-packages/sklearn/linear_model/_coordinate_descent.py:476: ConvergenceWarning: Objective did not converge. You might want to increase the number of iterations. Duality gap: 2.8840491568210798, tolerance: 0.0005898912828273474\n",
            "  positive)\n",
            "/usr/local/lib/python3.7/dist-packages/sklearn/linear_model/_coordinate_descent.py:476: ConvergenceWarning: Objective did not converge. You might want to increase the number of iterations. Duality gap: 1.91354255523186, tolerance: 0.00041344893334748547\n",
            "  positive)\n",
            "/usr/local/lib/python3.7/dist-packages/sklearn/linear_model/_coordinate_descent.py:476: ConvergenceWarning: Objective did not converge. You might want to increase the number of iterations. Duality gap: 2.7953974605569387, tolerance: 0.0005898912828273474\n",
            "  positive)\n",
            "/usr/local/lib/python3.7/dist-packages/sklearn/linear_model/_coordinate_descent.py:476: ConvergenceWarning: Objective did not converge. You might want to increase the number of iterations. Duality gap: 0.00741559562912153, tolerance: 0.00041344893334748547\n",
            "  positive)\n",
            "/usr/local/lib/python3.7/dist-packages/sklearn/linear_model/_coordinate_descent.py:476: ConvergenceWarning: Objective did not converge. You might want to increase the number of iterations. Duality gap: 0.0028606524698302493, tolerance: 0.0005898912828273474\n",
            "  positive)\n"
          ],
          "name": "stderr"
        },
        {
          "output_type": "stream",
          "text": [
            "Epoch 1/2\n",
            "19/19 [==============================] - 7s 17ms/step - loss: 0.0832\n",
            "Epoch 2/2\n",
            "19/19 [==============================] - 0s 18ms/step - loss: 0.0805\n",
            "Trade month: 2017-07-01 00:00:00\n"
          ],
          "name": "stdout"
        },
        {
          "output_type": "stream",
          "text": [
            "/usr/local/lib/python3.7/dist-packages/sklearn/linear_model/_coordinate_descent.py:476: ConvergenceWarning: Objective did not converge. You might want to increase the number of iterations. Duality gap: 2.4971552498524296, tolerance: 0.0005086438873152959\n",
            "  positive)\n",
            "/usr/local/lib/python3.7/dist-packages/sklearn/linear_model/_coordinate_descent.py:476: ConvergenceWarning: Objective did not converge. You might want to increase the number of iterations. Duality gap: 2.0012416801983983, tolerance: 0.0004077491007278332\n",
            "  positive)\n",
            "/usr/local/lib/python3.7/dist-packages/sklearn/linear_model/_coordinate_descent.py:476: ConvergenceWarning: Objective did not converge. You might want to increase the number of iterations. Duality gap: 2.7948239975540634, tolerance: 0.0005732995740052044\n",
            "  positive)\n",
            "/usr/local/lib/python3.7/dist-packages/sklearn/linear_model/_coordinate_descent.py:476: ConvergenceWarning: Objective did not converge. You might want to increase the number of iterations. Duality gap: 1.8575966744930994, tolerance: 0.0004077491007278332\n",
            "  positive)\n",
            "/usr/local/lib/python3.7/dist-packages/sklearn/linear_model/_coordinate_descent.py:476: ConvergenceWarning: Objective did not converge. You might want to increase the number of iterations. Duality gap: 2.6473986098369915, tolerance: 0.0005732995740052044\n",
            "  positive)\n",
            "/usr/local/lib/python3.7/dist-packages/sklearn/linear_model/_coordinate_descent.py:476: ConvergenceWarning: Objective did not converge. You might want to increase the number of iterations. Duality gap: 0.0006205571954951417, tolerance: 0.0004077491007278332\n",
            "  positive)\n",
            "/usr/local/lib/python3.7/dist-packages/sklearn/linear_model/_coordinate_descent.py:476: ConvergenceWarning: Objective did not converge. You might want to increase the number of iterations. Duality gap: 0.001154548454578297, tolerance: 0.0005732995740052044\n",
            "  positive)\n"
          ],
          "name": "stderr"
        },
        {
          "output_type": "stream",
          "text": [
            "Epoch 1/2\n",
            "19/19 [==============================] - 7s 18ms/step - loss: 0.0835\n",
            "Epoch 2/2\n",
            "19/19 [==============================] - 0s 18ms/step - loss: 0.0793\n",
            "Trade month: 2017-08-01 00:00:00\n"
          ],
          "name": "stdout"
        },
        {
          "output_type": "stream",
          "text": [
            "/usr/local/lib/python3.7/dist-packages/sklearn/linear_model/_coordinate_descent.py:476: ConvergenceWarning: Objective did not converge. You might want to increase the number of iterations. Duality gap: 2.54482656480602, tolerance: 0.0005214001108157887\n",
            "  positive)\n",
            "/usr/local/lib/python3.7/dist-packages/sklearn/linear_model/_coordinate_descent.py:476: ConvergenceWarning: Objective did not converge. You might want to increase the number of iterations. Duality gap: 2.0025613689872155, tolerance: 0.0004077012086746069\n",
            "  positive)\n",
            "/usr/local/lib/python3.7/dist-packages/sklearn/linear_model/_coordinate_descent.py:476: ConvergenceWarning: Objective did not converge. You might want to increase the number of iterations. Duality gap: 2.787426463022406, tolerance: 0.0005686230125676265\n",
            "  positive)\n",
            "/usr/local/lib/python3.7/dist-packages/sklearn/linear_model/_coordinate_descent.py:476: ConvergenceWarning: Objective did not converge. You might want to increase the number of iterations. Duality gap: 1.7893826990302066, tolerance: 0.0004077012086746069\n",
            "  positive)\n",
            "/usr/local/lib/python3.7/dist-packages/sklearn/linear_model/_coordinate_descent.py:476: ConvergenceWarning: Objective did not converge. You might want to increase the number of iterations. Duality gap: 2.5240328686551328, tolerance: 0.0005686230125676265\n",
            "  positive)\n"
          ],
          "name": "stderr"
        },
        {
          "output_type": "stream",
          "text": [
            "Epoch 1/2\n",
            "19/19 [==============================] - 7s 19ms/step - loss: 0.0862\n",
            "Epoch 2/2\n",
            "19/19 [==============================] - 0s 20ms/step - loss: 0.0767\n",
            "Trade month: 2017-09-01 00:00:00\n"
          ],
          "name": "stdout"
        },
        {
          "output_type": "stream",
          "text": [
            "/usr/local/lib/python3.7/dist-packages/sklearn/linear_model/_coordinate_descent.py:476: ConvergenceWarning: Objective did not converge. You might want to increase the number of iterations. Duality gap: 2.6538589390783516, tolerance: 0.0005525534289482137\n",
            "  positive)\n",
            "/usr/local/lib/python3.7/dist-packages/sklearn/linear_model/_coordinate_descent.py:476: ConvergenceWarning: Objective did not converge. You might want to increase the number of iterations. Duality gap: 2.052106840227777, tolerance: 0.00041540898685766035\n",
            "  positive)\n",
            "/usr/local/lib/python3.7/dist-packages/sklearn/linear_model/_coordinate_descent.py:476: ConvergenceWarning: Objective did not converge. You might want to increase the number of iterations. Duality gap: 2.9224565619883753, tolerance: 0.0005911967655071947\n",
            "  positive)\n",
            "/usr/local/lib/python3.7/dist-packages/sklearn/linear_model/_coordinate_descent.py:476: ConvergenceWarning: Objective did not converge. You might want to increase the number of iterations. Duality gap: 1.797801552807548, tolerance: 0.00041540898685766035\n",
            "  positive)\n",
            "/usr/local/lib/python3.7/dist-packages/sklearn/linear_model/_coordinate_descent.py:476: ConvergenceWarning: Objective did not converge. You might want to increase the number of iterations. Duality gap: 1.48649364453244, tolerance: 0.0005911967655071947\n",
            "  positive)\n",
            "/usr/local/lib/python3.7/dist-packages/sklearn/linear_model/_coordinate_descent.py:476: ConvergenceWarning: Objective did not converge. You might want to increase the number of iterations. Duality gap: 0.0330012630723, tolerance: 0.00041540898685766035\n",
            "  positive)\n"
          ],
          "name": "stderr"
        },
        {
          "output_type": "stream",
          "text": [
            "Epoch 1/2\n",
            "19/19 [==============================] - 5s 15ms/step - loss: 0.0856\n",
            "Epoch 2/2\n",
            "19/19 [==============================] - 0s 15ms/step - loss: 0.0803\n",
            "Trade month: 2017-10-01 00:00:00\n"
          ],
          "name": "stdout"
        },
        {
          "output_type": "stream",
          "text": [
            "/usr/local/lib/python3.7/dist-packages/sklearn/linear_model/_coordinate_descent.py:476: ConvergenceWarning: Objective did not converge. You might want to increase the number of iterations. Duality gap: 2.754793338630088, tolerance: 0.0005612740508270874\n",
            "  positive)\n",
            "/usr/local/lib/python3.7/dist-packages/sklearn/linear_model/_coordinate_descent.py:476: ConvergenceWarning: Objective did not converge. You might want to increase the number of iterations. Duality gap: 2.0784190462460472, tolerance: 0.00042180857304663307\n",
            "  positive)\n",
            "/usr/local/lib/python3.7/dist-packages/sklearn/linear_model/_coordinate_descent.py:476: ConvergenceWarning: Objective did not converge. You might want to increase the number of iterations. Duality gap: 2.966180620754901, tolerance: 0.000597546889515356\n",
            "  positive)\n",
            "/usr/local/lib/python3.7/dist-packages/sklearn/linear_model/_coordinate_descent.py:476: ConvergenceWarning: Objective did not converge. You might want to increase the number of iterations. Duality gap: 1.764103907924859, tolerance: 0.00042180857304663307\n",
            "  positive)\n",
            "/usr/local/lib/python3.7/dist-packages/sklearn/linear_model/_coordinate_descent.py:476: ConvergenceWarning: Objective did not converge. You might want to increase the number of iterations. Duality gap: 0.6254022027265704, tolerance: 0.000597546889515356\n",
            "  positive)\n",
            "/usr/local/lib/python3.7/dist-packages/sklearn/linear_model/_coordinate_descent.py:476: ConvergenceWarning: Objective did not converge. You might want to increase the number of iterations. Duality gap: 0.02271665461458383, tolerance: 0.00042180857304663307\n",
            "  positive)\n"
          ],
          "name": "stderr"
        },
        {
          "output_type": "stream",
          "text": [
            "Epoch 1/2\n",
            "20/20 [==============================] - 8s 19ms/step - loss: 0.0799\n",
            "Epoch 2/2\n",
            "20/20 [==============================] - 0s 19ms/step - loss: 0.0844\n",
            "Trade month: 2017-11-01 00:00:00\n"
          ],
          "name": "stdout"
        },
        {
          "output_type": "stream",
          "text": [
            "/usr/local/lib/python3.7/dist-packages/sklearn/linear_model/_coordinate_descent.py:476: ConvergenceWarning: Objective did not converge. You might want to increase the number of iterations. Duality gap: 2.753178419257177, tolerance: 0.0005596348774469859\n",
            "  positive)\n",
            "/usr/local/lib/python3.7/dist-packages/sklearn/linear_model/_coordinate_descent.py:476: ConvergenceWarning: Objective did not converge. You might want to increase the number of iterations. Duality gap: 2.0417658018290035, tolerance: 0.000415144420231856\n",
            "  positive)\n",
            "/usr/local/lib/python3.7/dist-packages/sklearn/linear_model/_coordinate_descent.py:476: ConvergenceWarning: Objective did not converge. You might want to increase the number of iterations. Duality gap: 2.898175646649679, tolerance: 0.000585250890913364\n",
            "  positive)\n",
            "/usr/local/lib/python3.7/dist-packages/sklearn/linear_model/_coordinate_descent.py:476: ConvergenceWarning: Objective did not converge. You might want to increase the number of iterations. Duality gap: 1.4866838653110794, tolerance: 0.000415144420231856\n",
            "  positive)\n",
            "/usr/local/lib/python3.7/dist-packages/sklearn/linear_model/_coordinate_descent.py:476: ConvergenceWarning: Objective did not converge. You might want to increase the number of iterations. Duality gap: 0.0021790879504712812, tolerance: 0.000415144420231856\n",
            "  positive)\n"
          ],
          "name": "stderr"
        },
        {
          "output_type": "stream",
          "text": [
            "Epoch 1/2\n",
            "20/20 [==============================] - 7s 18ms/step - loss: 0.0840\n",
            "Epoch 2/2\n",
            "20/20 [==============================] - 0s 18ms/step - loss: 0.0864\n",
            "Trade month: 2017-12-01 00:00:00\n"
          ],
          "name": "stdout"
        },
        {
          "output_type": "stream",
          "text": [
            "/usr/local/lib/python3.7/dist-packages/sklearn/linear_model/_coordinate_descent.py:476: ConvergenceWarning: Objective did not converge. You might want to increase the number of iterations. Duality gap: 2.7707914030084413, tolerance: 0.0005591969612014083\n",
            "  positive)\n",
            "/usr/local/lib/python3.7/dist-packages/sklearn/linear_model/_coordinate_descent.py:476: ConvergenceWarning: Objective did not converge. You might want to increase the number of iterations. Duality gap: 1.9567165538352385, tolerance: 0.0003971502995258955\n",
            "  positive)\n",
            "/usr/local/lib/python3.7/dist-packages/sklearn/linear_model/_coordinate_descent.py:476: ConvergenceWarning: Objective did not converge. You might want to increase the number of iterations. Duality gap: 2.774656847221574, tolerance: 0.000558207137239915\n",
            "  positive)\n",
            "/usr/local/lib/python3.7/dist-packages/sklearn/linear_model/_coordinate_descent.py:476: ConvergenceWarning: Objective did not converge. You might want to increase the number of iterations. Duality gap: 0.0008873070952137851, tolerance: 0.0005591969612014083\n",
            "  positive)\n",
            "/usr/local/lib/python3.7/dist-packages/sklearn/linear_model/_coordinate_descent.py:476: ConvergenceWarning: Objective did not converge. You might want to increase the number of iterations. Duality gap: 1.7918867798764189, tolerance: 0.0003971502995258955\n",
            "  positive)\n",
            "/usr/local/lib/python3.7/dist-packages/sklearn/linear_model/_coordinate_descent.py:476: ConvergenceWarning: Objective did not converge. You might want to increase the number of iterations. Duality gap: 2.4059342883902968, tolerance: 0.000558207137239915\n",
            "  positive)\n",
            "/usr/local/lib/python3.7/dist-packages/sklearn/linear_model/_coordinate_descent.py:476: ConvergenceWarning: Objective did not converge. You might want to increase the number of iterations. Duality gap: 0.06467400855419214, tolerance: 0.0003971502995258955\n",
            "  positive)\n",
            "/usr/local/lib/python3.7/dist-packages/sklearn/linear_model/_coordinate_descent.py:476: ConvergenceWarning: Objective did not converge. You might want to increase the number of iterations. Duality gap: 0.004874051307081295, tolerance: 0.000558207137239915\n",
            "  positive)\n"
          ],
          "name": "stderr"
        },
        {
          "output_type": "stream",
          "text": [
            "Epoch 1/2\n",
            "20/20 [==============================] - 6s 17ms/step - loss: 0.0839\n",
            "Epoch 2/2\n",
            "20/20 [==============================] - 0s 19ms/step - loss: 0.0782\n",
            "Trade month: 2018-01-01 00:00:00\n"
          ],
          "name": "stdout"
        },
        {
          "output_type": "stream",
          "text": [
            "/usr/local/lib/python3.7/dist-packages/sklearn/linear_model/_coordinate_descent.py:476: ConvergenceWarning: Objective did not converge. You might want to increase the number of iterations. Duality gap: 2.744440123814423, tolerance: 0.0005560266417272147\n",
            "  positive)\n",
            "/usr/local/lib/python3.7/dist-packages/sklearn/linear_model/_coordinate_descent.py:476: ConvergenceWarning: Objective did not converge. You might want to increase the number of iterations. Duality gap: 1.9128560028557267, tolerance: 0.00039106323798610265\n",
            "  positive)\n",
            "/usr/local/lib/python3.7/dist-packages/sklearn/linear_model/_coordinate_descent.py:476: ConvergenceWarning: Objective did not converge. You might want to increase the number of iterations. Duality gap: 2.6622025014627515, tolerance: 0.0005375570998192383\n",
            "  positive)\n",
            "/usr/local/lib/python3.7/dist-packages/sklearn/linear_model/_coordinate_descent.py:476: ConvergenceWarning: Objective did not converge. You might want to increase the number of iterations. Duality gap: 1.6801942030329267, tolerance: 0.00039106323798610265\n",
            "  positive)\n",
            "/usr/local/lib/python3.7/dist-packages/sklearn/linear_model/_coordinate_descent.py:476: ConvergenceWarning: Objective did not converge. You might want to increase the number of iterations. Duality gap: 2.536204723176113, tolerance: 0.0005375570998192383\n",
            "  positive)\n",
            "/usr/local/lib/python3.7/dist-packages/sklearn/linear_model/_coordinate_descent.py:476: ConvergenceWarning: Objective did not converge. You might want to increase the number of iterations. Duality gap: 0.03225609519591632, tolerance: 0.00039106323798610265\n",
            "  positive)\n",
            "/usr/local/lib/python3.7/dist-packages/sklearn/linear_model/_coordinate_descent.py:476: ConvergenceWarning: Objective did not converge. You might want to increase the number of iterations. Duality gap: 0.12657525565546024, tolerance: 0.0005375570998192383\n",
            "  positive)\n"
          ],
          "name": "stderr"
        },
        {
          "output_type": "stream",
          "text": [
            "Epoch 1/2\n",
            "20/20 [==============================] - 7s 18ms/step - loss: 0.0786\n",
            "Epoch 2/2\n",
            "20/20 [==============================] - 0s 20ms/step - loss: 0.0768\n",
            "Trade month: 2018-02-01 00:00:00\n"
          ],
          "name": "stdout"
        },
        {
          "output_type": "stream",
          "text": [
            "/usr/local/lib/python3.7/dist-packages/sklearn/linear_model/_coordinate_descent.py:476: ConvergenceWarning: Objective did not converge. You might want to increase the number of iterations. Duality gap: 2.8386600255192707, tolerance: 0.0005759077440798257\n",
            "  positive)\n",
            "/usr/local/lib/python3.7/dist-packages/sklearn/linear_model/_coordinate_descent.py:476: ConvergenceWarning: Objective did not converge. You might want to increase the number of iterations. Duality gap: 1.9575087416317245, tolerance: 0.0004005043664766171\n",
            "  positive)\n",
            "/usr/local/lib/python3.7/dist-packages/sklearn/linear_model/_coordinate_descent.py:476: ConvergenceWarning: Objective did not converge. You might want to increase the number of iterations. Duality gap: 2.6583657879461335, tolerance: 0.0005387173571869286\n",
            "  positive)\n",
            "/usr/local/lib/python3.7/dist-packages/sklearn/linear_model/_coordinate_descent.py:476: ConvergenceWarning: Objective did not converge. You might want to increase the number of iterations. Duality gap: 0.4915815151314835, tolerance: 0.0004005043664766171\n",
            "  positive)\n",
            "/usr/local/lib/python3.7/dist-packages/sklearn/linear_model/_coordinate_descent.py:476: ConvergenceWarning: Objective did not converge. You might want to increase the number of iterations. Duality gap: 2.4330768356935892, tolerance: 0.0005387173571869286\n",
            "  positive)\n",
            "/usr/local/lib/python3.7/dist-packages/sklearn/linear_model/_coordinate_descent.py:476: ConvergenceWarning: Objective did not converge. You might want to increase the number of iterations. Duality gap: 0.06034227677891302, tolerance: 0.0005387173571869286\n",
            "  positive)\n"
          ],
          "name": "stderr"
        },
        {
          "output_type": "stream",
          "text": [
            "Epoch 1/2\n",
            "20/20 [==============================] - 7s 18ms/step - loss: 0.0836\n",
            "Epoch 2/2\n",
            "20/20 [==============================] - 0s 20ms/step - loss: 0.0824\n",
            "Trade month: 2018-03-01 00:00:00\n"
          ],
          "name": "stdout"
        },
        {
          "output_type": "stream",
          "text": [
            "/usr/local/lib/python3.7/dist-packages/sklearn/linear_model/_coordinate_descent.py:476: ConvergenceWarning: Objective did not converge. You might want to increase the number of iterations. Duality gap: 2.8131919707404927, tolerance: 0.0005780992330582202\n",
            "  positive)\n",
            "/usr/local/lib/python3.7/dist-packages/sklearn/linear_model/_coordinate_descent.py:476: ConvergenceWarning: Objective did not converge. You might want to increase the number of iterations. Duality gap: 1.942022341850127, tolerance: 0.00039578105113303606\n",
            "  positive)\n",
            "/usr/local/lib/python3.7/dist-packages/sklearn/linear_model/_coordinate_descent.py:476: ConvergenceWarning: Objective did not converge. You might want to increase the number of iterations. Duality gap: 2.584038326984293, tolerance: 0.0005225465352594719\n",
            "  positive)\n",
            "/usr/local/lib/python3.7/dist-packages/sklearn/linear_model/_coordinate_descent.py:476: ConvergenceWarning: Objective did not converge. You might want to increase the number of iterations. Duality gap: 1.5758139813400995, tolerance: 0.00039578105113303606\n",
            "  positive)\n",
            "/usr/local/lib/python3.7/dist-packages/sklearn/linear_model/_coordinate_descent.py:476: ConvergenceWarning: Objective did not converge. You might want to increase the number of iterations. Duality gap: 0.6333312433751854, tolerance: 0.0005225465352594719\n",
            "  positive)\n",
            "/usr/local/lib/python3.7/dist-packages/sklearn/linear_model/_coordinate_descent.py:476: ConvergenceWarning: Objective did not converge. You might want to increase the number of iterations. Duality gap: 0.013432051039103499, tolerance: 0.00039578105113303606\n",
            "  positive)\n"
          ],
          "name": "stderr"
        },
        {
          "output_type": "stream",
          "text": [
            "Epoch 1/2\n",
            "20/20 [==============================] - 6s 19ms/step - loss: 0.0780\n",
            "Epoch 2/2\n",
            "20/20 [==============================] - 0s 18ms/step - loss: 0.0748\n",
            "Trade month: 2018-04-01 00:00:00\n"
          ],
          "name": "stdout"
        },
        {
          "output_type": "stream",
          "text": [
            "/usr/local/lib/python3.7/dist-packages/sklearn/linear_model/_coordinate_descent.py:476: ConvergenceWarning: Objective did not converge. You might want to increase the number of iterations. Duality gap: 2.741602716575063, tolerance: 0.00057170155160263\n",
            "  positive)\n",
            "/usr/local/lib/python3.7/dist-packages/sklearn/linear_model/_coordinate_descent.py:476: ConvergenceWarning: Objective did not converge. You might want to increase the number of iterations. Duality gap: 1.9545712607917423, tolerance: 0.0003964075530997384\n",
            "  positive)\n",
            "/usr/local/lib/python3.7/dist-packages/sklearn/linear_model/_coordinate_descent.py:476: ConvergenceWarning: Objective did not converge. You might want to increase the number of iterations. Duality gap: 2.552387220105351, tolerance: 0.0005159066870785239\n",
            "  positive)\n",
            "/usr/local/lib/python3.7/dist-packages/sklearn/linear_model/_coordinate_descent.py:476: ConvergenceWarning: Objective did not converge. You might want to increase the number of iterations. Duality gap: 0.8635052718321783, tolerance: 0.0003964075530997384\n",
            "  positive)\n",
            "/usr/local/lib/python3.7/dist-packages/sklearn/linear_model/_coordinate_descent.py:476: ConvergenceWarning: Objective did not converge. You might want to increase the number of iterations. Duality gap: 0.7983375843161542, tolerance: 0.0005159066870785239\n",
            "  positive)\n",
            "/usr/local/lib/python3.7/dist-packages/sklearn/linear_model/_coordinate_descent.py:476: ConvergenceWarning: Objective did not converge. You might want to increase the number of iterations. Duality gap: 0.0007378227894361267, tolerance: 0.0003964075530997384\n",
            "  positive)\n"
          ],
          "name": "stderr"
        },
        {
          "output_type": "stream",
          "text": [
            "Epoch 1/2\n",
            "20/20 [==============================] - 6s 18ms/step - loss: 0.0758\n",
            "Epoch 2/2\n",
            "20/20 [==============================] - 0s 19ms/step - loss: 0.0770\n",
            "Trade month: 2018-05-01 00:00:00\n"
          ],
          "name": "stdout"
        },
        {
          "output_type": "stream",
          "text": [
            "/usr/local/lib/python3.7/dist-packages/sklearn/linear_model/_coordinate_descent.py:476: ConvergenceWarning: Objective did not converge. You might want to increase the number of iterations. Duality gap: 2.4628612250324147, tolerance: 0.0005381663947710258\n",
            "  positive)\n",
            "/usr/local/lib/python3.7/dist-packages/sklearn/linear_model/_coordinate_descent.py:476: ConvergenceWarning: Objective did not converge. You might want to increase the number of iterations. Duality gap: 1.9844155880036516, tolerance: 0.000404643186112658\n",
            "  positive)\n",
            "/usr/local/lib/python3.7/dist-packages/sklearn/linear_model/_coordinate_descent.py:476: ConvergenceWarning: Objective did not converge. You might want to increase the number of iterations. Duality gap: 2.431387002259459, tolerance: 0.00049358841389952\n",
            "  positive)\n",
            "/usr/local/lib/python3.7/dist-packages/sklearn/linear_model/_coordinate_descent.py:476: ConvergenceWarning: Objective did not converge. You might want to increase the number of iterations. Duality gap: 0.8256372141956403, tolerance: 0.000404643186112658\n",
            "  positive)\n",
            "/usr/local/lib/python3.7/dist-packages/sklearn/linear_model/_coordinate_descent.py:476: ConvergenceWarning: Objective did not converge. You might want to increase the number of iterations. Duality gap: 0.0013356948194731544, tolerance: 0.00049358841389952\n",
            "  positive)\n",
            "/usr/local/lib/python3.7/dist-packages/sklearn/linear_model/_coordinate_descent.py:476: ConvergenceWarning: Objective did not converge. You might want to increase the number of iterations. Duality gap: 0.0006318438895838163, tolerance: 0.000404643186112658\n",
            "  positive)\n"
          ],
          "name": "stderr"
        },
        {
          "output_type": "stream",
          "text": [
            "Epoch 1/2\n",
            "21/21 [==============================] - 7s 18ms/step - loss: 0.0793\n",
            "Epoch 2/2\n",
            "21/21 [==============================] - 0s 18ms/step - loss: 0.0762\n",
            "Trade month: 2018-06-01 00:00:00\n"
          ],
          "name": "stdout"
        },
        {
          "output_type": "stream",
          "text": [
            "/usr/local/lib/python3.7/dist-packages/sklearn/linear_model/_coordinate_descent.py:476: ConvergenceWarning: Objective did not converge. You might want to increase the number of iterations. Duality gap: 2.3984243469080813, tolerance: 0.0005034262099202748\n",
            "  positive)\n",
            "/usr/local/lib/python3.7/dist-packages/sklearn/linear_model/_coordinate_descent.py:476: ConvergenceWarning: Objective did not converge. You might want to increase the number of iterations. Duality gap: 2.0183187856899596, tolerance: 0.0004109788983345531\n",
            "  positive)\n",
            "/usr/local/lib/python3.7/dist-packages/sklearn/linear_model/_coordinate_descent.py:476: ConvergenceWarning: Objective did not converge. You might want to increase the number of iterations. Duality gap: 2.236867369017512, tolerance: 0.00045478464013727073\n",
            "  positive)\n",
            "/usr/local/lib/python3.7/dist-packages/sklearn/linear_model/_coordinate_descent.py:476: ConvergenceWarning: Objective did not converge. You might want to increase the number of iterations. Duality gap: 0.00709038967027853, tolerance: 0.0004109788983345531\n",
            "  positive)\n",
            "/usr/local/lib/python3.7/dist-packages/sklearn/linear_model/_coordinate_descent.py:476: ConvergenceWarning: Objective did not converge. You might want to increase the number of iterations. Duality gap: 0.47824603391576037, tolerance: 0.00045478464013727073\n",
            "  positive)\n"
          ],
          "name": "stderr"
        },
        {
          "output_type": "stream",
          "text": [
            "Epoch 1/2\n",
            "21/21 [==============================] - 7s 17ms/step - loss: 0.0773\n",
            "Epoch 2/2\n",
            "21/21 [==============================] - 0s 18ms/step - loss: 0.0728\n",
            "Trade month: 2018-07-01 00:00:00\n"
          ],
          "name": "stdout"
        },
        {
          "output_type": "stream",
          "text": [
            "/usr/local/lib/python3.7/dist-packages/sklearn/linear_model/_coordinate_descent.py:476: ConvergenceWarning: Objective did not converge. You might want to increase the number of iterations. Duality gap: 1.9901686694914296, tolerance: 0.0004951527051749269\n",
            "  positive)\n",
            "/usr/local/lib/python3.7/dist-packages/sklearn/linear_model/_coordinate_descent.py:476: ConvergenceWarning: Objective did not converge. You might want to increase the number of iterations. Duality gap: 2.0267739569726957, tolerance: 0.0004140233109782902\n",
            "  positive)\n",
            "/usr/local/lib/python3.7/dist-packages/sklearn/linear_model/_coordinate_descent.py:476: ConvergenceWarning: Objective did not converge. You might want to increase the number of iterations. Duality gap: 2.2005502968223993, tolerance: 0.0004477433978768831\n",
            "  positive)\n",
            "/usr/local/lib/python3.7/dist-packages/sklearn/linear_model/_coordinate_descent.py:476: ConvergenceWarning: Objective did not converge. You might want to increase the number of iterations. Duality gap: 0.3908732172119196, tolerance: 0.0004140233109782902\n",
            "  positive)\n",
            "/usr/local/lib/python3.7/dist-packages/sklearn/linear_model/_coordinate_descent.py:476: ConvergenceWarning: Objective did not converge. You might want to increase the number of iterations. Duality gap: 0.063202520301755, tolerance: 0.0004477433978768831\n",
            "  positive)\n"
          ],
          "name": "stderr"
        },
        {
          "output_type": "stream",
          "text": [
            "Epoch 1/2\n",
            "21/21 [==============================] - 7s 18ms/step - loss: 0.0773\n",
            "Epoch 2/2\n",
            "21/21 [==============================] - 0s 19ms/step - loss: 0.0739\n",
            "Trade month: 2018-08-01 00:00:00\n"
          ],
          "name": "stdout"
        },
        {
          "output_type": "stream",
          "text": [
            "/usr/local/lib/python3.7/dist-packages/sklearn/linear_model/_coordinate_descent.py:476: ConvergenceWarning: Objective did not converge. You might want to increase the number of iterations. Duality gap: 2.2192375451603157, tolerance: 0.000502006090185462\n",
            "  positive)\n",
            "/usr/local/lib/python3.7/dist-packages/sklearn/linear_model/_coordinate_descent.py:476: ConvergenceWarning: Objective did not converge. You might want to increase the number of iterations. Duality gap: 2.0609882393262726, tolerance: 0.0004192096369322771\n",
            "  positive)\n",
            "/usr/local/lib/python3.7/dist-packages/sklearn/linear_model/_coordinate_descent.py:476: ConvergenceWarning: Objective did not converge. You might want to increase the number of iterations. Duality gap: 2.162009156286337, tolerance: 0.0004405036500884878\n",
            "  positive)\n",
            "/usr/local/lib/python3.7/dist-packages/sklearn/linear_model/_coordinate_descent.py:476: ConvergenceWarning: Objective did not converge. You might want to increase the number of iterations. Duality gap: 0.02196290325587169, tolerance: 0.0004192096369322771\n",
            "  positive)\n",
            "/usr/local/lib/python3.7/dist-packages/sklearn/linear_model/_coordinate_descent.py:476: ConvergenceWarning: Objective did not converge. You might want to increase the number of iterations. Duality gap: 0.008064359613062955, tolerance: 0.0004405036500884878\n",
            "  positive)\n"
          ],
          "name": "stderr"
        },
        {
          "output_type": "stream",
          "text": [
            "Epoch 1/2\n",
            "21/21 [==============================] - 6s 18ms/step - loss: 0.0718\n",
            "Epoch 2/2\n",
            "21/21 [==============================] - 0s 19ms/step - loss: 0.0759\n",
            "Trade month: 2018-09-01 00:00:00\n"
          ],
          "name": "stdout"
        },
        {
          "output_type": "stream",
          "text": [
            "/usr/local/lib/python3.7/dist-packages/sklearn/linear_model/_coordinate_descent.py:476: ConvergenceWarning: Objective did not converge. You might want to increase the number of iterations. Duality gap: 2.2232465321218884, tolerance: 0.0005419193748656608\n",
            "  positive)\n",
            "/usr/local/lib/python3.7/dist-packages/sklearn/linear_model/_coordinate_descent.py:476: ConvergenceWarning: Objective did not converge. You might want to increase the number of iterations. Duality gap: 2.2090688429054794, tolerance: 0.0004515849482577211\n",
            "  positive)\n",
            "/usr/local/lib/python3.7/dist-packages/sklearn/linear_model/_coordinate_descent.py:476: ConvergenceWarning: Objective did not converge. You might want to increase the number of iterations. Duality gap: 2.2790608488105826, tolerance: 0.0004640121660157241\n",
            "  positive)\n",
            "/usr/local/lib/python3.7/dist-packages/sklearn/linear_model/_coordinate_descent.py:476: ConvergenceWarning: Objective did not converge. You might want to increase the number of iterations. Duality gap: 0.03782601774963368, tolerance: 0.0004515849482577211\n",
            "  positive)\n",
            "/usr/local/lib/python3.7/dist-packages/sklearn/linear_model/_coordinate_descent.py:476: ConvergenceWarning: Objective did not converge. You might want to increase the number of iterations. Duality gap: 0.06669864183224528, tolerance: 0.0004640121660157241\n",
            "  positive)\n"
          ],
          "name": "stderr"
        },
        {
          "output_type": "stream",
          "text": [
            "Epoch 1/2\n",
            "21/21 [==============================] - 7s 18ms/step - loss: 0.0752\n",
            "Epoch 2/2\n",
            "21/21 [==============================] - 0s 19ms/step - loss: 0.0734\n",
            "Trade month: 2018-10-01 00:00:00\n"
          ],
          "name": "stdout"
        },
        {
          "output_type": "stream",
          "text": [
            "/usr/local/lib/python3.7/dist-packages/sklearn/linear_model/_coordinate_descent.py:476: ConvergenceWarning: Objective did not converge. You might want to increase the number of iterations. Duality gap: 1.5004188513988073, tolerance: 0.0005362217791428308\n",
            "  positive)\n",
            "/usr/local/lib/python3.7/dist-packages/sklearn/linear_model/_coordinate_descent.py:476: ConvergenceWarning: Objective did not converge. You might want to increase the number of iterations. Duality gap: 2.2257030807787426, tolerance: 0.0004528028537712472\n",
            "  positive)\n",
            "/usr/local/lib/python3.7/dist-packages/sklearn/linear_model/_coordinate_descent.py:476: ConvergenceWarning: Objective did not converge. You might want to increase the number of iterations. Duality gap: 2.275220881879614, tolerance: 0.0004625633232297843\n",
            "  positive)\n",
            "/usr/local/lib/python3.7/dist-packages/sklearn/linear_model/_coordinate_descent.py:476: ConvergenceWarning: Objective did not converge. You might want to increase the number of iterations. Duality gap: 0.0029888123700674285, tolerance: 0.0004528028537712472\n",
            "  positive)\n",
            "/usr/local/lib/python3.7/dist-packages/sklearn/linear_model/_coordinate_descent.py:476: ConvergenceWarning: Objective did not converge. You might want to increase the number of iterations. Duality gap: 0.017865095892862115, tolerance: 0.0004625633232297843\n",
            "  positive)\n"
          ],
          "name": "stderr"
        },
        {
          "output_type": "stream",
          "text": [
            "Epoch 1/2\n",
            "21/21 [==============================] - 7s 18ms/step - loss: 0.0774\n",
            "Epoch 2/2\n",
            "21/21 [==============================] - 0s 18ms/step - loss: 0.0722\n",
            "Trade month: 2018-11-01 00:00:00\n"
          ],
          "name": "stdout"
        },
        {
          "output_type": "stream",
          "text": [
            "/usr/local/lib/python3.7/dist-packages/sklearn/linear_model/_coordinate_descent.py:476: ConvergenceWarning: Objective did not converge. You might want to increase the number of iterations. Duality gap: 0.23082998257893195, tolerance: 0.000508222078531109\n",
            "  positive)\n",
            "/usr/local/lib/python3.7/dist-packages/sklearn/linear_model/_coordinate_descent.py:476: ConvergenceWarning: Objective did not converge. You might want to increase the number of iterations. Duality gap: 2.1335238118809503, tolerance: 0.0004476888596879638\n",
            "  positive)\n",
            "/usr/local/lib/python3.7/dist-packages/sklearn/linear_model/_coordinate_descent.py:476: ConvergenceWarning: Objective did not converge. You might want to increase the number of iterations. Duality gap: 2.135857941440027, tolerance: 0.0004361611074788958\n",
            "  positive)\n"
          ],
          "name": "stderr"
        },
        {
          "output_type": "stream",
          "text": [
            "Epoch 1/2\n",
            "21/21 [==============================] - 6s 17ms/step - loss: 0.0718\n",
            "Epoch 2/2\n",
            "21/21 [==============================] - 0s 16ms/step - loss: 0.0722\n",
            "Trade month: 2018-12-01 00:00:00\n"
          ],
          "name": "stdout"
        },
        {
          "output_type": "stream",
          "text": [
            "/usr/local/lib/python3.7/dist-packages/sklearn/linear_model/_coordinate_descent.py:476: ConvergenceWarning: Objective did not converge. You might want to increase the number of iterations. Duality gap: 0.6801216347759542, tolerance: 0.0005411221661230978\n",
            "  positive)\n",
            "/usr/local/lib/python3.7/dist-packages/sklearn/linear_model/_coordinate_descent.py:476: ConvergenceWarning: Objective did not converge. You might want to increase the number of iterations. Duality gap: 2.2831165554516852, tolerance: 0.00047735467667839543\n",
            "  positive)\n",
            "/usr/local/lib/python3.7/dist-packages/sklearn/linear_model/_coordinate_descent.py:476: ConvergenceWarning: Objective did not converge. You might want to increase the number of iterations. Duality gap: 2.2656155015682633, tolerance: 0.00046316133982160973\n",
            "  positive)\n"
          ],
          "name": "stderr"
        },
        {
          "output_type": "stream",
          "text": [
            "Epoch 1/2\n",
            "21/21 [==============================] - 6s 19ms/step - loss: 0.0793\n",
            "Epoch 2/2\n",
            "21/21 [==============================] - 0s 18ms/step - loss: 0.0771\n",
            "Trade month: 2019-01-01 00:00:00\n"
          ],
          "name": "stdout"
        },
        {
          "output_type": "stream",
          "text": [
            "/usr/local/lib/python3.7/dist-packages/sklearn/linear_model/_coordinate_descent.py:476: ConvergenceWarning: Objective did not converge. You might want to increase the number of iterations. Duality gap: 0.7561218204831897, tolerance: 0.0005473289739690725\n",
            "  positive)\n",
            "/usr/local/lib/python3.7/dist-packages/sklearn/linear_model/_coordinate_descent.py:476: ConvergenceWarning: Objective did not converge. You might want to increase the number of iterations. Duality gap: 1.5101722242575333, tolerance: 0.00048006702835968915\n",
            "  positive)\n",
            "/usr/local/lib/python3.7/dist-packages/sklearn/linear_model/_coordinate_descent.py:476: ConvergenceWarning: Objective did not converge. You might want to increase the number of iterations. Duality gap: 2.257223245651763, tolerance: 0.0004692018977745521\n",
            "  positive)\n"
          ],
          "name": "stderr"
        },
        {
          "output_type": "stream",
          "text": [
            "Epoch 1/2\n",
            "21/21 [==============================] - 6s 18ms/step - loss: 0.0830\n",
            "Epoch 2/2\n",
            "21/21 [==============================] - 0s 18ms/step - loss: 0.0726\n",
            "Trade month: 2019-02-01 00:00:00\n"
          ],
          "name": "stdout"
        },
        {
          "output_type": "stream",
          "text": [
            "/usr/local/lib/python3.7/dist-packages/sklearn/linear_model/_coordinate_descent.py:476: ConvergenceWarning: Objective did not converge. You might want to increase the number of iterations. Duality gap: 0.9495705889319859, tolerance: 0.0005356116315130298\n",
            "  positive)\n",
            "/usr/local/lib/python3.7/dist-packages/sklearn/linear_model/_coordinate_descent.py:476: ConvergenceWarning: Objective did not converge. You might want to increase the number of iterations. Duality gap: 1.4096076335821883, tolerance: 0.00047509295164965116\n",
            "  positive)\n",
            "/usr/local/lib/python3.7/dist-packages/sklearn/linear_model/_coordinate_descent.py:476: ConvergenceWarning: Objective did not converge. You might want to increase the number of iterations. Duality gap: 2.434675526910731, tolerance: 0.0005087539511071623\n",
            "  positive)\n"
          ],
          "name": "stderr"
        },
        {
          "output_type": "stream",
          "text": [
            "Epoch 1/2\n",
            "21/21 [==============================] - 7s 18ms/step - loss: 0.0826\n",
            "Epoch 2/2\n",
            "21/21 [==============================] - 0s 18ms/step - loss: 0.0745\n",
            "Trade month: 2019-03-01 00:00:00\n"
          ],
          "name": "stdout"
        },
        {
          "output_type": "stream",
          "text": [
            "/usr/local/lib/python3.7/dist-packages/sklearn/linear_model/_coordinate_descent.py:476: ConvergenceWarning: Objective did not converge. You might want to increase the number of iterations. Duality gap: 0.5999618831262521, tolerance: 0.00046976276482186505\n",
            "  positive)\n",
            "/usr/local/lib/python3.7/dist-packages/sklearn/linear_model/_coordinate_descent.py:476: ConvergenceWarning: Objective did not converge. You might want to increase the number of iterations. Duality gap: 0.37140406191837005, tolerance: 0.0005039362319719813\n",
            "  positive)\n"
          ],
          "name": "stderr"
        },
        {
          "output_type": "stream",
          "text": [
            "Epoch 1/2\n",
            "21/21 [==============================] - 7s 18ms/step - loss: 0.0796\n",
            "Epoch 2/2\n",
            "21/21 [==============================] - 0s 19ms/step - loss: 0.0760\n",
            "Trade month: 2019-04-01 00:00:00\n"
          ],
          "name": "stdout"
        },
        {
          "output_type": "stream",
          "text": [
            "/usr/local/lib/python3.7/dist-packages/sklearn/linear_model/_coordinate_descent.py:476: ConvergenceWarning: Objective did not converge. You might want to increase the number of iterations. Duality gap: 0.07922878923314558, tolerance: 0.0004799571347050148\n",
            "  positive)\n",
            "/usr/local/lib/python3.7/dist-packages/sklearn/linear_model/_coordinate_descent.py:476: ConvergenceWarning: Objective did not converge. You might want to increase the number of iterations. Duality gap: 0.014705150643246512, tolerance: 0.0005156468095470273\n",
            "  positive)\n"
          ],
          "name": "stderr"
        },
        {
          "output_type": "stream",
          "text": [
            "Epoch 1/2\n",
            "21/21 [==============================] - 6s 18ms/step - loss: 0.0781\n",
            "Epoch 2/2\n",
            "21/21 [==============================] - 0s 18ms/step - loss: 0.0790\n",
            "Trade month: 2019-05-01 00:00:00\n"
          ],
          "name": "stdout"
        },
        {
          "output_type": "stream",
          "text": [
            "/usr/local/lib/python3.7/dist-packages/sklearn/linear_model/_coordinate_descent.py:476: ConvergenceWarning: Objective did not converge. You might want to increase the number of iterations. Duality gap: 0.0029055276576217537, tolerance: 0.000504105050218264\n",
            "  positive)\n"
          ],
          "name": "stderr"
        },
        {
          "output_type": "stream",
          "text": [
            "Epoch 1/2\n",
            "21/21 [==============================] - 5s 15ms/step - loss: 0.0846\n",
            "Epoch 2/2\n",
            "21/21 [==============================] - 0s 14ms/step - loss: 0.0846\n",
            "Trade month: 2019-06-01 00:00:00\n",
            "Epoch 1/2\n",
            "22/22 [==============================] - 7s 17ms/step - loss: 0.0768\n",
            "Epoch 2/2\n",
            "22/22 [==============================] - 0s 17ms/step - loss: 0.0833\n",
            "Trade month: 2019-07-01 00:00:00\n"
          ],
          "name": "stdout"
        },
        {
          "output_type": "stream",
          "text": [
            "/usr/local/lib/python3.7/dist-packages/sklearn/linear_model/_coordinate_descent.py:476: ConvergenceWarning: Objective did not converge. You might want to increase the number of iterations. Duality gap: 0.0027986571982081543, tolerance: 0.0006063036618886054\n",
            "  positive)\n"
          ],
          "name": "stderr"
        },
        {
          "output_type": "stream",
          "text": [
            "Epoch 1/2\n",
            "22/22 [==============================] - 7s 18ms/step - loss: 0.0841\n",
            "Epoch 2/2\n",
            "22/22 [==============================] - 0s 18ms/step - loss: 0.0845\n",
            "Trade month: 2019-08-01 00:00:00\n"
          ],
          "name": "stdout"
        },
        {
          "output_type": "stream",
          "text": [
            "/usr/local/lib/python3.7/dist-packages/sklearn/linear_model/_coordinate_descent.py:476: ConvergenceWarning: Objective did not converge. You might want to increase the number of iterations. Duality gap: 0.000645176347834564, tolerance: 0.0006017953387196108\n",
            "  positive)\n"
          ],
          "name": "stderr"
        },
        {
          "output_type": "stream",
          "text": [
            "Epoch 1/2\n",
            "22/22 [==============================] - 6s 18ms/step - loss: 0.0850\n",
            "Epoch 2/2\n",
            "22/22 [==============================] - 0s 18ms/step - loss: 0.0778\n",
            "Trade month: 2019-09-01 00:00:00\n",
            "Epoch 1/2\n",
            "22/22 [==============================] - 6s 17ms/step - loss: 0.0866\n",
            "Epoch 2/2\n",
            "22/22 [==============================] - 0s 19ms/step - loss: 0.0850\n",
            "Trade month: 2019-10-01 00:00:00\n",
            "Epoch 1/2\n",
            "22/22 [==============================] - 7s 18ms/step - loss: 0.0799\n",
            "Epoch 2/2\n",
            "22/22 [==============================] - 0s 19ms/step - loss: 0.0818\n",
            "Trade month: 2019-11-01 00:00:00\n"
          ],
          "name": "stdout"
        },
        {
          "output_type": "stream",
          "text": [
            "/usr/local/lib/python3.7/dist-packages/sklearn/linear_model/_coordinate_descent.py:476: ConvergenceWarning: Objective did not converge. You might want to increase the number of iterations. Duality gap: 0.0006562186724767827, tolerance: 0.0005796753492981484\n",
            "  positive)\n"
          ],
          "name": "stderr"
        },
        {
          "output_type": "stream",
          "text": [
            "Epoch 1/2\n",
            "22/22 [==============================] - 7s 19ms/step - loss: 0.0801\n",
            "Epoch 2/2\n",
            "22/22 [==============================] - 0s 19ms/step - loss: 0.0862\n",
            "Trade month: 2019-12-01 00:00:00\n",
            "Epoch 1/2\n",
            "22/22 [==============================] - 7s 20ms/step - loss: 0.0855\n",
            "Epoch 2/2\n",
            "22/22 [==============================] - 0s 19ms/step - loss: 0.0809\n",
            "Trade month: 2020-01-01 00:00:00\n",
            "Epoch 1/2\n",
            "22/22 [==============================] - 6s 18ms/step - loss: 0.0874\n",
            "Epoch 2/2\n",
            "22/22 [==============================] - 0s 18ms/step - loss: 0.0830\n",
            "Trade month: 2020-02-01 00:00:00\n",
            "Epoch 1/2\n",
            "22/22 [==============================] - 6s 19ms/step - loss: 0.0848\n",
            "Epoch 2/2\n",
            "22/22 [==============================] - 0s 19ms/step - loss: 0.0841\n",
            "Trade month: 2020-03-01 00:00:00\n",
            "Epoch 1/2\n",
            "22/22 [==============================] - 7s 19ms/step - loss: 0.0814\n",
            "Epoch 2/2\n",
            "22/22 [==============================] - 0s 19ms/step - loss: 0.0807\n",
            "Trade month: 2020-04-01 00:00:00\n",
            "Epoch 1/2\n",
            "22/22 [==============================] - 7s 19ms/step - loss: 0.0868\n",
            "Epoch 2/2\n",
            "22/22 [==============================] - 0s 18ms/step - loss: 0.0894\n",
            "Trade month: 2020-05-01 00:00:00\n",
            "Epoch 1/2\n",
            "23/23 [==============================] - 7s 19ms/step - loss: 0.0830\n",
            "Epoch 2/2\n",
            "23/23 [==============================] - 0s 18ms/step - loss: 0.0837\n",
            "Trade month: 2020-06-01 00:00:00\n",
            "Epoch 1/2\n",
            "23/23 [==============================] - 6s 18ms/step - loss: 0.0813\n",
            "Epoch 2/2\n",
            "23/23 [==============================] - 0s 18ms/step - loss: 0.0873\n",
            "Trade month: 2020-07-01 00:00:00\n",
            "Epoch 1/2\n",
            "23/23 [==============================] - 7s 21ms/step - loss: 0.0880\n",
            "Epoch 2/2\n",
            "23/23 [==============================] - 0s 18ms/step - loss: 0.0918\n",
            "Trade month: 2020-08-01 00:00:00\n",
            "Epoch 1/2\n",
            "23/23 [==============================] - 7s 17ms/step - loss: 0.0989\n",
            "Epoch 2/2\n",
            "23/23 [==============================] - 0s 19ms/step - loss: 0.0983\n",
            "Trade month: 2020-09-01 00:00:00\n",
            "Epoch 1/2\n",
            "23/23 [==============================] - 7s 19ms/step - loss: 0.1026\n",
            "Epoch 2/2\n",
            "23/23 [==============================] - 0s 18ms/step - loss: 0.1005\n",
            "Trade month: 2020-10-01 00:00:00\n",
            "Epoch 1/2\n",
            "23/23 [==============================] - 6s 18ms/step - loss: 0.1007\n",
            "Epoch 2/2\n",
            "23/23 [==============================] - 0s 18ms/step - loss: 0.0978\n",
            "Trade month: 2020-11-01 00:00:00\n",
            "Epoch 1/2\n",
            "23/23 [==============================] - 7s 18ms/step - loss: 0.1048\n",
            "Epoch 2/2\n",
            "23/23 [==============================] - 0s 18ms/step - loss: 0.1070\n",
            "Trade month: 2020-12-01 00:00:00\n",
            "Epoch 1/2\n",
            "23/23 [==============================] - 7s 18ms/step - loss: 0.1044\n",
            "Epoch 2/2\n",
            "23/23 [==============================] - 0s 19ms/step - loss: 0.0984\n",
            "Trade month: 2021-01-01 00:00:00\n",
            "Epoch 1/2\n",
            "24/24 [==============================] - 6s 18ms/step - loss: 0.0996\n",
            "Epoch 2/2\n",
            "24/24 [==============================] - 0s 19ms/step - loss: 0.0993\n",
            "Trade month: 2021-02-01 00:00:00\n",
            "Epoch 1/2\n",
            "24/24 [==============================] - 6s 19ms/step - loss: 0.0978\n",
            "Epoch 2/2\n",
            "24/24 [==============================] - 0s 18ms/step - loss: 0.1016\n",
            "Trade month: 2021-03-01 00:00:00\n"
          ],
          "name": "stdout"
        }
      ]
    },
    {
      "cell_type": "markdown",
      "metadata": {
        "id": "F-V0ZBVVdOJ0"
      },
      "source": [
        "# 4. Calculate Return\n",
        "1. The first graph shows the cumulative return of different models\n",
        "2. The second graph shows the bar plot of annual return"
      ]
    },
    {
      "cell_type": "code",
      "metadata": {
        "id": "mdtH5hsIdN4K"
      },
      "source": [
        "def _long_only_strategy_daily(df_predict_return, daily_return, trade_month_plus1, top_quantile_threshold=0.7):\n",
        "    long_dict = {}\n",
        "    top_stocks=pd.DataFrame()\n",
        "    \n",
        "    for i in range(df_predict_return.shape[0]):\n",
        "        top_q = df_predict_return.iloc[i].quantile(top_quantile_threshold)\n",
        "        # low_q=df_predict_return.iloc[i].quantile(0.2)\n",
        "        # Select all stocks\n",
        "        # long_dict[df_predict_return.index[i]] = df_predict_return.iloc[i][~np.isnan(df_predict_return.iloc[i])]\n",
        "        # Select Top 30% Stocks\n",
        "        long_dict[df_predict_return.index[i]] = df_predict_return.iloc[i][df_predict_return.iloc[i] >= top_q]\n",
        "        temp_stocks = df_predict_return.iloc[i][df_predict_return.iloc[i] >= top_q].reset_index()\n",
        "        temp_stocks.columns = ['tic','predicted_return']\n",
        "        temp_stocks['trade_date'] = df_predict_return.index[i]\n",
        "\n",
        "        top_stocks=top_stocks.append(temp_stocks,ignore_index=True)        \n",
        "        # short_dict[df_predict_return.index[i]] = df_predict_return.iloc[i][df_predict_return.iloc[i]<=low_q]\n",
        "\n",
        "    df_portfolio_return_daily = pd.DataFrame(columns=['daily_return'])\n",
        "    for i in range(len(trade_month_plus1) - 2):\n",
        "        # for long only\n",
        "        #equally weight\n",
        "        long_normalize_weight = 1/long_dict[trade_month_plus1[i+1]].shape[0]\n",
        "        \n",
        "        # calculate weight based on predicted return\n",
        "        #long_normalize_weight = \\\n",
        "        #long_dict[trade_month_plus1[i]] / sum(long_dict[trade_month_plus1[i]].values)\n",
        "        # map date and tic\n",
        "        long_tic_return_daily = \\\n",
        "        daily_return[(daily_return.index >= trade_month_plus1[i]) & (daily_return.index < trade_month_plus1[i + 1])][\n",
        "            long_dict[trade_month_plus1[i]].index]\n",
        "        # return * weight\n",
        "        long_daily_return = long_tic_return_daily * long_normalize_weight\n",
        "        df_temp = long_daily_return.sum(axis=1)\n",
        "        df_temp = pd.DataFrame(df_temp, columns=['daily_return'])\n",
        "        df_portfolio_return_daily = df_portfolio_return_daily.append(df_temp)\n",
        "\n",
        "        # for short only\n",
        "        # short_normalize_weight=short_dict[trade_month[i]]/sum(short_dict[trade_month[i]].values)\n",
        "        # short_tic_return=tic_monthly_return[tic_monthly_return.index==trade_month[i]][short_dict[trade_month[i]].index]\n",
        "        # short_return_table=short_tic_return\n",
        "        # portfolio_return_dic[trade_month[i]] = long_return_table.values.sum() + short_return_table.values.sum()\n",
        "\n",
        "    return top_stocks,df_portfolio_return_daily\n",
        "\n",
        "\n",
        "def _long_only_strategy_monthly(df_predict_return, tic_monthly_return, trade_month, top_quantile_threshold=0.7):\n",
        "    long_dict = {}\n",
        "    short_dict = {}\n",
        "    for i in range(df_predict_return.shape[0]):\n",
        "        top_q = df_predict_return.iloc[i].quantile(top_quantile_threshold)\n",
        "        # low_q=df_predict_return.iloc[i].quantile(0.2)\n",
        "        # Select all stocks\n",
        "        # long_dict[df_predict_return.index[i]] = df_predict_return.iloc[i][~np.isnan(df_predict_return.iloc[i])]\n",
        "        # Select Top 30% Stocks\n",
        "        long_dict[df_predict_return.index[i]] = df_predict_return.iloc[i][df_predict_return.iloc[i] >= top_q]\n",
        "        # short_dict[df_predict_return.index[i]] = df_predict_return.iloc[i][df_predict_return.iloc[i]<=low_q]\n",
        "\n",
        "    portfolio_return_dic = {}\n",
        "    for i in range(len(trade_month)):\n",
        "        # for longX_train_rf only\n",
        "        # calculate weight based on predicted return\n",
        "        long_normalize_weight = long_dict[trade_month[i]] / sum(long_dict[trade_month[i]].values)\n",
        "        # map date and tic\n",
        "        long_tic_return = tic_monthly_return[tic_monthly_return.index == trade_month[i]][\n",
        "            long_dict[trade_month[i]].index]\n",
        "        # return * weight\n",
        "        long_return_table = long_tic_return * long_normalize_weight\n",
        "        portfolio_return_dic[trade_month[i]] = long_return_table.values.sum()\n",
        "\n",
        "        # for short only\n",
        "        # short_normalize_weight=short_dict[trade_month[i]]/sum(short_dict[trade_month[i]].values)\n",
        "        # short_tic_return=tic_monthly_return[tic_monthly_return.index==trade_month[i]][short_dict[trade_month[i]].index]\n",
        "        # short_return_table=short_tic_return\n",
        "        # portfolio_return_dic[trade_month[i]] = long_return_table.values.sum() + short_return_table.values.sum()\n",
        "\n",
        "    df_portfolio_return = pd.DataFrame.from_dict(portfolio_return_dic, orient='index')\n",
        "    df_portfolio_return = df_portfolio_return.reset_index()\n",
        "    df_portfolio_return.columns = ['trade_month', 'monthly_return']\n",
        "    df_portfolio_return.index = df_portfolio_return.trade_month\n",
        "    df_portfolio_return = df_portfolio_return['monthly_return']\n",
        "    return df_portfolio_return\n"
      ],
      "execution_count": 114,
      "outputs": []
    },
    {
      "cell_type": "code",
      "metadata": {
        "id": "yQcAGaPLum1w"
      },
      "source": [
        "start_month = unique_datetime[0]\n",
        "end_month = unique_datetime[-1]\n",
        "monthly_return = get_monthly_return(start_month, end_month)\n",
        "\n",
        "\n",
        "# get monthly return\n",
        "trade_month = unique_datetime\n",
        "df_portfolio_return_lasso = _long_only_strategy_monthly(df_predict_lasso, monthly_return, trade_month,top_quantile_threshold = 0.75)\n",
        "df_portfolio_return_ridge = _long_only_strategy_monthly(df_predict_ridge, monthly_return, trade_month,top_quantile_threshold = 0.75)\n",
        "df_portfolio_return_rf    = _long_only_strategy_monthly(df_predict_rf,   monthly_return, trade_month,top_quantile_threshold = 0.75)\n",
        "df_portfolio_return_svm   = _long_only_strategy_monthly(df_predict_svm,  monthly_return, trade_month,top_quantile_threshold = 0.75)\n",
        "df_portfolio_return_lstm  = _long_only_strategy_monthly(df_predict_lstm, monthly_return, trade_month,top_quantile_threshold = 0.75)\n",
        "\n",
        "df_portfolio_return_best  = _long_only_strategy_monthly(df_predict_best, monthly_return,trade_month,top_quantile_threshold = 0.75)\n",
        "\n",
        "\n",
        "#get equally portfolio return\n",
        "# df_equally_portfolio_return\n",
        "selected_monthly_return = monthly_return[unique_ticker]\n",
        "equally_portfolio_return=[]\n",
        "for i in range(len(trade_month)):\n",
        "    return_remove_nan = selected_monthly_return.iloc[i][~np.isnan(monthly_return.iloc[i])]\n",
        "    equally_portfolio_return.append(sum(return_remove_nan)/len(return_remove_nan))\n",
        "    \n",
        "df_equally_portfolio_return=pd.DataFrame(equally_portfolio_return,trade_month)\n",
        "df_equally_portfolio_return=df_equally_portfolio_return.reset_index()\n",
        "df_equally_portfolio_return.columns= ['trade_month','monthly_return']\n",
        "df_equally_portfolio_return.index=df_equally_portfolio_return.trade_month\n",
        "df_equally_portfolio_return=df_equally_portfolio_return['monthly_return']"
      ],
      "execution_count": 111,
      "outputs": []
    },
    {
      "cell_type": "code",
      "metadata": {
        "colab": {
          "base_uri": "https://localhost:8080/",
          "height": 644
        },
        "id": "DrVAI-WBAGaC",
        "outputId": "c4428d83-8b55-41de-d353-653274c8d85f"
      },
      "source": [
        "plt.figure(figsize=(15,10))\n",
        "\n",
        "baseline = ((df_equally_portfolio_return+1).cumprod()-1).plot(c='black',label='baseline')\n",
        "\n",
        "ridge = ((df_portfolio_return_ridge+1).cumprod()-1).plot(c='b',label='ridge')\n",
        "lasso = ((df_portfolio_return_lasso+1).cumprod()-1).plot(c='gold',label='lasso')\n",
        "rf = ((df_portfolio_return_rf+1).cumprod()-1).plot(c='plum',label='random forest')\n",
        "svm = ((df_portfolio_return_svm+1).cumprod()-1).plot(c='green',label='svm')\n",
        "lstm = ((df_portfolio_return_lstm+1).cumprod()-1).plot(c='purple',label='lstm')\n",
        "\n",
        "best = ((df_portfolio_return_best+1).cumprod()-1).plot(c='r',label='best')\n",
        "plt.legend()\n",
        "\n",
        "\n",
        "plt.title('Cumulative Return',size=20)"
      ],
      "execution_count": 112,
      "outputs": [
        {
          "output_type": "execute_result",
          "data": {
            "text/plain": [
              "Text(0.5, 1.0, 'Cumulative Return')"
            ]
          },
          "metadata": {
            "tags": []
          },
          "execution_count": 112
        },
        {
          "output_type": "display_data",
          "data": {
            "image/png": "[encoded data removed]",
            "text/plain": [
              "<Figure size 1080x720 with 1 Axes>"
            ]
          },
          "metadata": {
            "tags": [],
            "needs_background": "light"
          }
        }
      ]
    },
    {
      "cell_type": "code",
      "metadata": {
        "colab": {
          "base_uri": "https://localhost:8080/",
          "height": 328
        },
        "id": "F09hlZX4fIFY",
        "outputId": "e087fd39-2920-4511-8c9c-ca40be3b0c38"
      },
      "source": [
        "from matplotlib.ticker import FuncFormatter\n",
        "import seaborn as sns\n",
        "\n",
        "def annual_return_barplot(returns,ax=None):\n",
        "    if ax is None:\n",
        "        ax = plt.gca()\n",
        "        \n",
        "    sns.set_style('white')\n",
        "    ax.set_xticklabels(np.arange(0, 0.6, 0.1))\n",
        "    x_axis_formatter = FuncFormatter(pf.utils.percentage)\n",
        "    ax.xaxis.set_major_formatter(FuncFormatter(x_axis_formatter))\n",
        "    #ax.tick_params(axis='x', which='major')\n",
        "    \n",
        "\n",
        "    ann_ret_df = pd.DataFrame(\n",
        "        pf.ep.aggregate_returns(\n",
        "            returns,\n",
        "            'yearly'))\n",
        "    display\n",
        "    ax.axvline(\n",
        "        100 *\n",
        "        ann_ret_df.values.mean(),\n",
        "        color='steelblue',\n",
        "        linestyle='--',\n",
        "        lw=2,\n",
        "        alpha=0.7)\n",
        "    (100 * ann_ret_df.sort_index(ascending=False)\n",
        "     ).plot(ax=ax, kind='barh', alpha=0.70)\n",
        "    ax.axvline(0.0, color='black', linestyle='-', lw=1)\n",
        "    \n",
        "    start, end = ax.get_xlim()\n",
        "    ax.xaxis.set_ticks(np.arange(start, end, 10))\n",
        "    ax.grid(axis='x')\n",
        "    #ax.xaxis.xtickers.\n",
        "    ax.set_ylabel('Year',fontsize=22)\n",
        "    ax.set_xlabel('Returns',fontsize=22)\n",
        "    ax.set_title(\"Annual returns\",fontsize=22)\n",
        "    ax.legend(['Mean'], frameon=True, framealpha=0.5)\n",
        "    return ax\n",
        "\n",
        "\n",
        "annual_return_barplot(df_portfolio_return_best)"
      ],
      "execution_count": 141,
      "outputs": [
        {
          "output_type": "execute_result",
          "data": {
            "text/plain": [
              "<matplotlib.axes._subplots.AxesSubplot at 0x7f529fb8f610>"
            ]
          },
          "metadata": {
            "tags": []
          },
          "execution_count": 141
        },
        {
          "output_type": "display_data",
          "data": {
            "image/png": "[encoded data removed]",
            "text/plain": [
              "<Figure size 432x288 with 1 Axes>"
            ]
          },
          "metadata": {
            "tags": []
          }
        }
      ]
    },
    {
      "cell_type": "markdown",
      "metadata": {
        "id": "hrLUzePohwtu"
      },
      "source": [
        "# 5. Other Visualization\n",
        "1. The first graph shows models' evaluation score as a function of months\n",
        "2. The second and the third graph shows the best prediction for a specific ticker's ('CSCO') monthly return and the ticker's actual monthly return."
      ]
    },
    {
      "cell_type": "code",
      "metadata": {
        "colab": {
          "base_uri": "https://localhost:8080/",
          "height": 320
        },
        "id": "gw_cKbzSi7w8",
        "outputId": "e3c797a5-ca23-4b79-d041-e75a7f673ac0"
      },
      "source": [
        "\n",
        "def show_best_model_pie(df_best_model_name):\n",
        "  display(df_best_model_name)\n",
        "  best_models = df_best_model_name[\"model_name\"].value_counts()\n",
        "  display(best_models)\n",
        "  plt.pie(best_models.values, labels = list(best_models.index))\n",
        "  plt.show()\n",
        "\n",
        "def show_model_eval(df_predict_best, evaluation_record):\n",
        "  evaluation_list = []\n",
        "  for i in range(min(df_predict_best.shape[0], len(evaluation_record))):\n",
        "    if(len(evaluation_record[i])<2):break\n",
        "    evaluation_list.append(evaluation_record[i][1]['model_eval'].values)\n",
        "\n",
        "  df_evaluation = pd.DataFrame(evaluation_list,columns = ['linear_regression', 'lasso','ridge','random_forest','svm','gbm', 'lstm'])\n",
        "  df_evaluation.index = df_predict_best.index.values[:len(evaluation_record)]\n",
        "  df_evaluation.plot(figsize=(10,5))\n",
        "\n",
        "#show_best_model_pie(df_best_model_name) \n",
        "show_model_eval(df_predict_best, evaluation_record) \n"
      ],
      "execution_count": 116,
      "outputs": [
        {
          "output_type": "display_data",
          "data": {
            "image/png": "[encoded data removed]",
            "text/plain": [
              "<Figure size 720x360 with 1 Axes>"
            ]
          },
          "metadata": {
            "tags": [],
            "needs_background": "light"
          }
        }
      ]
    },
    {
      "cell_type": "code",
      "metadata": {
        "id": "NLgE-hETm1ZW"
      },
      "source": [
        "def show_single_stock_accuracy(df, df_predict, unique_datetime, ticker):\n",
        "  from matplotlib import pyplot\n",
        "  prediction = df_predict[ticker]\n",
        "\n",
        "  df2 = df.loc[df[\"ticker\"]==ticker]\n",
        "  df2 = df2.loc[df2[\"month_start\"].isin(unique_datetime)]\n",
        "\n",
        "  actual = list(df2[\"monthly_return\"])\n",
        "  pred = df_predict[ticker].dropna()\n",
        "  pred = list(pred)\n",
        "\n",
        "  months = list(df2[\"month_start\"])\n",
        "  \n",
        "  pred = pd.DataFrame(index=months, columns = [\"monthly_return\"])\n",
        "  act = pd.DataFrame(index=months, columns = [\"monthly_return\"])\n",
        "\n",
        "  pred[\"monthly_return\"] = prediction\n",
        "  act[\"monthly_return\"] = actual\n",
        "  pred.plot()\n",
        "  pyplot.show()\n",
        "  act.plot()\n",
        "  pyplot.show()"
      ],
      "execution_count": 117,
      "outputs": []
    },
    {
      "cell_type": "code",
      "metadata": {
        "colab": {
          "base_uri": "https://localhost:8080/",
          "height": 513
        },
        "id": "ZP3CInS6mJma",
        "outputId": "ff158452-27fc-4a59-e8bd-9b2104f6c31f"
      },
      "source": [
        "show_single_stock_accuracy(df, df_predict_best, unique_datetime, 'CSCO')"
      ],
      "execution_count": 118,
      "outputs": [
        {
          "output_type": "display_data",
          "data": {
            "image/png": "[encoded data removed]",
            "text/plain": [
              "<Figure size 432x288 with 1 Axes>"
            ]
          },
          "metadata": {
            "tags": [],
            "needs_background": "light"
          }
        },
        {
          "output_type": "display_data",
          "data": {
            "image/png": "[encoded data removed]",
            "text/plain": [
              "<Figure size 432x288 with 1 Axes>"
            ]
          },
          "metadata": {
            "tags": [],
            "needs_background": "light"
          }
        }
      ]
    }
  ]
}
